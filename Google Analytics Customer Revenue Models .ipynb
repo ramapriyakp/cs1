{
 "cells": [
  {
   "cell_type": "markdown",
   "id": "83bc62aa",
   "metadata": {},
   "source": [
    "## 6.0 Models"
   ]
  },
  {
   "cell_type": "markdown",
   "id": "5b529919",
   "metadata": {},
   "source": [
    "###  6.0.0 Data Modelling\n",
    "We can use the two stage modeling approach and Pose Problem as\n",
    "“classification and regression”     \n",
    "1-  predict probability of returning of customer using all train set.The idea is\n",
    "to classify non-zero transactions first and use that for better results for\n",
    "revenues.data imbalance can be handled using under-sampling/ oversampling.    \n",
    "2-  predict amount of transactions for those customers who returned.So, in\n",
    "regression task train was filtered only by customers who had a session in 62-\n",
    "day window.   "
   ]
  },
  {
   "cell_type": "code",
   "execution_count": 3,
   "id": "41bc6118",
   "metadata": {},
   "outputs": [],
   "source": [
    "import pandas as pd\n",
    "import json\n",
    "import seaborn as sns#Plots\n",
    "import matplotlib.pylab as plt\n",
    "import numpy as np\n",
    "from scipy import stats\n",
    "from datetime import datetime, timedelta\n",
    "\n",
    "from sklearn.linear_model import LinearRegression,LogisticRegression\n",
    "from sklearn.linear_model import SGDClassifier,SGDRegressor\n",
    "from sklearn.model_selection import train_test_split\n",
    "from sklearn import metrics\n",
    "from sklearn.metrics import ConfusionMatrixDisplay\n",
    "from sklearn.ensemble import RandomForestRegressor,RandomForestClassifier\n",
    "# Hyperparameter tuning\n",
    "from sklearn.model_selection import RandomizedSearchCV, GridSearchCV\n",
    "import lightgbm as lgb\n",
    "from sklearn.tree import DecisionTreeClassifier,DecisionTreeRegressor\n",
    "from scipy.stats import randint\n",
    "from sklearn.svm import SVC,SVR "
   ]
  },
  {
   "cell_type": "code",
   "execution_count": 4,
   "id": "64f4c65b",
   "metadata": {},
   "outputs": [],
   "source": [
    "#read pickle files\n",
    "train1= pd.read_pickle('train1')\n",
    "train2= pd.read_pickle('train2')\n",
    "train3= pd.read_pickle('train3')\n",
    "train4= pd.read_pickle('train4')\n",
    "train5= pd.read_pickle('train5')\n",
    "\n",
    "#concatenate all data\n",
    "train_all = pd.concat([train1, train2, train3, train4, train5], axis=0, sort=False).reset_index(drop=True)\n",
    "\n",
    "#totalTransactionRevenue_sum is same as revenue and can be dropped to avoid data leak\n",
    "train_all= train_all.drop('totals.totalTransactionRevenue_sum',axis=1)\n",
    "\n",
    "target_cols= ['returned','revenue','fullVisitorId']\n",
    "\n",
    "train = train_all[train_all['revenue'].notnull()]\n",
    "test  = train_all[train_all['revenue'].isnull()]"
   ]
  },
  {
   "cell_type": "markdown",
   "id": "ff9a44bd",
   "metadata": {},
   "source": [
    "###  6.0.1 Create Classifier Data"
   ]
  },
  {
   "cell_type": "code",
   "execution_count": 5,
   "id": "f0fe9737",
   "metadata": {},
   "outputs": [
    {
     "data": {
      "text/plain": [
       "0.0    1347876\n",
       "1.0       6976\n",
       "Name: returned, dtype: int64"
      ]
     },
     "execution_count": 5,
     "metadata": {},
     "output_type": "execute_result"
    }
   ],
   "source": [
    "#define target ,features for classifier\n",
    "clf_features = train.drop(target_cols,axis=1)\n",
    "clf_target = train['returned']\n",
    "\n",
    "#check con=unts of target labels\n",
    "clf_target.value_counts()"
   ]
  },
  {
   "cell_type": "code",
   "execution_count": 6,
   "id": "92c93c46",
   "metadata": {},
   "outputs": [],
   "source": [
    "# Training and Testing Sets for classifier\n",
    "train_features, test_features, train_labels, test_labels = train_test_split(clf_features, clf_target, \n",
    "                                                                            stratify=clf_target, \n",
    "                                                                            test_size = 0.25, random_state = 42)"
   ]
  },
  {
   "cell_type": "code",
   "execution_count": 7,
   "id": "f52c19d6",
   "metadata": {},
   "outputs": [
    {
     "data": {
      "text/plain": [
       "(0.0    1010907\n",
       " 1.0       5232\n",
       " Name: returned, dtype: int64,)"
      ]
     },
     "execution_count": 7,
     "metadata": {},
     "output_type": "execute_result"
    }
   ],
   "source": [
    "train_labels.value_counts(),"
   ]
  },
  {
   "cell_type": "code",
   "execution_count": 8,
   "id": "156a7322",
   "metadata": {},
   "outputs": [
    {
     "data": {
      "text/plain": [
       "0.0    336969\n",
       "1.0      1744\n",
       "Name: returned, dtype: int64"
      ]
     },
     "execution_count": 8,
     "metadata": {},
     "output_type": "execute_result"
    }
   ],
   "source": [
    "test_labels.value_counts()"
   ]
  },
  {
   "cell_type": "markdown",
   "id": "1e95b144",
   "metadata": {},
   "source": [
    "###  6.0.2 Create Regressor Data"
   ]
  },
  {
   "cell_type": "code",
   "execution_count": 9,
   "id": "a6ed7350",
   "metadata": {},
   "outputs": [],
   "source": [
    "#select data only fpr returned customers i.e returned =1 \n",
    "reg_features = train.drop(target_cols,axis=1)[train['returned']==1]\n",
    "#define target ,features for regressor\n",
    "reg_target= train['revenue'][train['returned']==1]"
   ]
  },
  {
   "cell_type": "markdown",
   "id": "2ca83414",
   "metadata": {},
   "source": [
    "###  6.0.3 Utility functions"
   ]
  },
  {
   "cell_type": "code",
   "execution_count": 10,
   "id": "4cab62b7",
   "metadata": {},
   "outputs": [],
   "source": [
    "# load test file\n",
    "test_df= pd.read_csv(\"test_clean.csv\",converters={\"fullVisitorId\": str},\n",
    "                   usecols = ['fullVisitorId','totals.totalTransactionRevenue'] )\n",
    "\n",
    "test_df['totals.totalTransactionRevenue'].fillna(0, inplace=True)           \n",
    "\n",
    "def regr_metric(test_df,submit_df):\n",
    "    ''' \n",
    "    Calculate & print regresion metrics\n",
    "    '''\n",
    "    test_grp= test_df.groupby('fullVisitorId')\\\n",
    "           ['totals.totalTransactionRevenue'].sum().apply(np.log1p,ais=1).reset_index()\n",
    "    test_grp = pd.merge(test_grp,submit_df,on='fullVisitorId')\n",
    "    rms= np.sqrt(metrics.mean_squared_error(test_grp['totals.totalTransactionRevenue'],\n",
    "                                        test_grp['PredictedLogRevenue']))\n",
    "    map = metrics.mean_absolute_error(test_grp['totals.totalTransactionRevenue'],test_grp['PredictedLogRevenue'])\n",
    "    print('rms =',rms)\n",
    "    print('map =',map)\n",
    "\n",
    "def sub_file(y_true,y_pred):\n",
    "    ''' \n",
    "    Submit file for kaggle\n",
    "    '''\n",
    "    submit_df=pd.DataFrame()\n",
    "    submit_df['fullVisitorId']=y_true['fullVisitorId']\n",
    "    submit_df['PredictedLogRevenue'] = y_pred\n",
    "    return submit_df\n"
   ]
  },
  {
   "cell_type": "markdown",
   "id": "d218974d",
   "metadata": {},
   "source": [
    "##  6.1 Logistic + Linear regression"
   ]
  },
  {
   "cell_type": "code",
   "execution_count": 9,
   "id": "ac8a72f5",
   "metadata": {},
   "outputs": [],
   "source": [
    "#Since Class labels are not balanced we use class_weight='balanced' in LogisticRegression.\n",
    "logreg = LogisticRegression(class_weight='balanced', max_iter=1800,random_state=42)"
   ]
  },
  {
   "cell_type": "code",
   "execution_count": 10,
   "id": "c9128f94",
   "metadata": {},
   "outputs": [
    {
     "name": "stdout",
     "output_type": "stream",
     "text": [
      "CPU times: user 19min 12s, sys: 4min 33s, total: 23min 45s\n",
      "Wall time: 6min 11s\n"
     ]
    },
    {
     "data": {
      "text/plain": [
       "LogisticRegression(class_weight='balanced', max_iter=1800, random_state=42)"
      ]
     },
     "execution_count": 10,
     "metadata": {},
     "output_type": "execute_result"
    }
   ],
   "source": [
    "%%time\n",
    "logreg.fit(train_features, train_labels)"
   ]
  },
  {
   "cell_type": "code",
   "execution_count": 11,
   "id": "90d4c2c7",
   "metadata": {},
   "outputs": [],
   "source": [
    "# Predicting probility on test data\n",
    "logr_pred = logreg.predict_proba(test.drop(target_cols,axis=1))"
   ]
  },
  {
   "cell_type": "code",
   "execution_count": 12,
   "id": "1258060b",
   "metadata": {},
   "outputs": [
    {
     "data": {
      "text/plain": [
       "LinearRegression()"
      ]
     },
     "execution_count": 12,
     "metadata": {},
     "output_type": "execute_result"
    }
   ],
   "source": [
    "#training the model\n",
    "regressor = LinearRegression()  \n",
    "regressor.fit(reg_features, reg_target) "
   ]
  },
  {
   "cell_type": "code",
   "execution_count": 13,
   "id": "8d9c14df",
   "metadata": {},
   "outputs": [],
   "source": [
    "reg_pred = regressor.predict(test.drop(target_cols,axis=1))\n",
    "final_pred= logr_pred[:,1]*reg_pred"
   ]
  },
  {
   "cell_type": "code",
   "execution_count": 14,
   "id": "f2e5c280",
   "metadata": {},
   "outputs": [],
   "source": [
    "#Submit file for kaggle\n",
    "log_lin = sub_file(test,final_pred)\n",
    "log_lin.to_csv('log_lin.csv',index=False)"
   ]
  },
  {
   "cell_type": "code",
   "execution_count": 15,
   "id": "b277757b",
   "metadata": {},
   "outputs": [
    {
     "name": "stdout",
     "output_type": "stream",
     "text": [
      "rms = 9.24998382706949\n",
      "map = 8.891554903710544\n"
     ]
    }
   ],
   "source": [
    "regr_metric(test_df,log_lin)"
   ]
  },
  {
   "cell_type": "markdown",
   "id": "b3dd7656",
   "metadata": {},
   "source": [
    "https://scikit-learn.org/stable/modules/generated/sklearn.metrics.ConfusionMatrixDisplay.html#sklearn.metrics.ConfusionMatrixDisplay.from_predictions"
   ]
  },
  {
   "cell_type": "code",
   "execution_count": 16,
   "id": "7d53a38b",
   "metadata": {},
   "outputs": [
    {
     "data": {
      "text/plain": [
       "<sklearn.metrics._plot.confusion_matrix.ConfusionMatrixDisplay at 0x7feca5feca10>"
      ]
     },
     "execution_count": 16,
     "metadata": {},
     "output_type": "execute_result"
    },
    {
     "data": {
      "image/png": "[encoded data removed]",
      "text/plain": [
       "<Figure size 432x288 with 2 Axes>"
      ]
     },
     "metadata": {
      "needs_background": "light"
     },
     "output_type": "display_data"
    }
   ],
   "source": [
    "#Classifier confusion matrix\n",
    "y_pred_log = logreg.predict(test_features)\n",
    "ConfusionMatrixDisplay.from_predictions(test_labels, y_pred_log)"
   ]
  },
  {
   "cell_type": "markdown",
   "id": "048b3613",
   "metadata": {},
   "source": [
    "### Kaggle Score"
   ]
  },
  {
   "attachments": {
    "image.png": {
     "image/png": "[encoded data removed]"
    }
   },
   "cell_type": "markdown",
   "id": "e01b426f",
   "metadata": {},
   "source": [
    "![image.png](attachment:image.png)"
   ]
  },
  {
   "cell_type": "markdown",
   "id": "b24cda1e",
   "metadata": {},
   "source": [
    "##  6.2 SGD Model"
   ]
  },
  {
   "cell_type": "code",
   "execution_count": 17,
   "id": "b7fb2552",
   "metadata": {},
   "outputs": [],
   "source": [
    "classifier = SGDClassifier(loss=\"log\",alpha = 0.01, penalty=\"l2\",class_weight='balanced',random_state=42)\n",
    "regressor = SGDRegressor(loss='squared_loss',alpha=0.0001,penalty='l2')"
   ]
  },
  {
   "cell_type": "code",
   "execution_count": 18,
   "id": "122ecc4c",
   "metadata": {},
   "outputs": [
    {
     "name": "stdout",
     "output_type": "stream",
     "text": [
      "CPU times: user 17.6 s, sys: 3.03 s, total: 20.6 s\n",
      "Wall time: 20.6 s\n"
     ]
    },
    {
     "data": {
      "text/plain": [
       "SGDClassifier(alpha=0.01, class_weight='balanced', loss='log', random_state=42)"
      ]
     },
     "execution_count": 18,
     "metadata": {},
     "output_type": "execute_result"
    }
   ],
   "source": [
    "%%time\n",
    "classifier.fit(train_features, train_labels)"
   ]
  },
  {
   "cell_type": "code",
   "execution_count": 19,
   "id": "668b2618",
   "metadata": {},
   "outputs": [
    {
     "name": "stderr",
     "output_type": "stream",
     "text": [
      "/opt/conda/lib/python3.7/site-packages/sklearn/linear_model/_stochastic_gradient.py:169: FutureWarning: The loss 'squared_loss' was deprecated in v1.0 and will be removed in version 1.2. Use `loss='squared_error'` which is equivalent.\n",
      "  FutureWarning,\n"
     ]
    },
    {
     "data": {
      "text/plain": [
       "SGDRegressor(loss='squared_loss')"
      ]
     },
     "execution_count": 19,
     "metadata": {},
     "output_type": "execute_result"
    }
   ],
   "source": [
    "regressor.fit(reg_features, reg_target)"
   ]
  },
  {
   "cell_type": "code",
   "execution_count": 20,
   "id": "b0f6b1aa",
   "metadata": {},
   "outputs": [],
   "source": [
    "classifier_pred = classifier.predict_proba(test.drop(target_cols,axis=1))\n",
    "regressor_pred = regressor.predict(test.drop(target_cols,axis=1))\n",
    "final_pred = (classifier_pred[:,1]*regressor_pred)"
   ]
  },
  {
   "cell_type": "code",
   "execution_count": 21,
   "id": "86b27e3d",
   "metadata": {},
   "outputs": [],
   "source": [
    "#Submit file for kaggle\n",
    "pred_df = sub_file(test,final_pred)\n",
    "pred_df.to_csv('pred_linear_models1.csv',index=False)"
   ]
  },
  {
   "cell_type": "code",
   "execution_count": 22,
   "id": "4dad4a9c",
   "metadata": {},
   "outputs": [
    {
     "name": "stdout",
     "output_type": "stream",
     "text": [
      "rms = 3.876272438141856e+25\n",
      "map = 9.739117418375224e+23\n"
     ]
    }
   ],
   "source": [
    "regr_metric(test_df,pred_df)"
   ]
  },
  {
   "cell_type": "code",
   "execution_count": 23,
   "id": "064a99e0",
   "metadata": {},
   "outputs": [
    {
     "data": {
      "text/plain": [
       "<sklearn.metrics._plot.confusion_matrix.ConfusionMatrixDisplay at 0x7feb6347e690>"
      ]
     },
     "execution_count": 23,
     "metadata": {},
     "output_type": "execute_result"
    },
    {
     "data": {
      "image/png": "[encoded data removed]",
      "text/plain": [
       "<Figure size 432x288 with 2 Axes>"
      ]
     },
     "metadata": {
      "needs_background": "light"
     },
     "output_type": "display_data"
    }
   ],
   "source": [
    "#https://scikit-learn.org/stable/modules/generated/\n",
    "#sklearn.metrics.ConfusionMatrixDisplay.html#sklearn.metrics.ConfusionMatrixDisplay.from_predictions\n",
    "#\n",
    "#Classifier confusion matrix\n",
    "y_pred_sgd = classifier.predict(test_features)\n",
    "ConfusionMatrixDisplay.from_predictions(test_labels, y_pred_sgd)"
   ]
  },
  {
   "cell_type": "markdown",
   "id": "74077447",
   "metadata": {},
   "source": [
    "### Kaggle Score"
   ]
  },
  {
   "attachments": {
    "image.png": {
     "image/png": "[encoded data removed]"
    }
   },
   "cell_type": "markdown",
   "id": "a9c32ada",
   "metadata": {},
   "source": [
    "![image.png](attachment:image.png)"
   ]
  },
  {
   "cell_type": "markdown",
   "id": "af358f17",
   "metadata": {},
   "source": [
    "##  6.3 Random Forest Model"
   ]
  },
  {
   "cell_type": "markdown",
   "id": "c48b32ab",
   "metadata": {},
   "source": [
    "Most important hyperparameters of Random Forest:\n",
    "\n",
    "- n_estimators = n of trees\n",
    "- max_features = max number of features considered for splitting a node\n",
    "- max_depth = max number of levels in each decision tree\n",
    "- min_samples_split = min number of data points placed in a node before the node is split\n",
    "- min_samples_leaf = min number of data points allowed in a leaf node\n",
    "- bootstrap = method for sampling data points (with or without replacement)"
   ]
  },
  {
   "cell_type": "markdown",
   "id": "e7324727",
   "metadata": {},
   "source": [
    "source:\n",
    "https://github.com/WillKoehrsen/Machine-Learning-Projects/blob/master/random_forest_explained/Improving%20Random%20Forest%20Part%202.ipynb"
   ]
  },
  {
   "cell_type": "markdown",
   "id": "177c2543",
   "metadata": {},
   "source": [
    "### 6.3.1 RF Classifier"
   ]
  },
  {
   "cell_type": "code",
   "execution_count": 25,
   "id": "7305ab10",
   "metadata": {},
   "outputs": [
    {
     "name": "stdout",
     "output_type": "stream",
     "text": [
      "{'n_estimators': [100, 200, 300, 400, 500, 600, 700, 800, 900, 1000, 1100, 1200], 'max_features': ['auto', 'sqrt'], 'max_depth': [1, 2, 3, 4, 5, 6, 7, 8, 9, 10, 11], 'min_samples_split': [2, 5, 10], 'min_samples_leaf': [1, 2, 4]}\n"
     ]
    }
   ],
   "source": [
    "# Number of trees in random forest\n",
    "n_estimators = [int(x) for x in np.linspace(start = 100, stop = 1200, num = 12)]\n",
    "# Number of features to consider at every split\n",
    "max_features = ['auto', 'sqrt']\n",
    "# Maximum number of levels in tree\n",
    "max_depth = [int(x) for x in np.linspace(1, 11, num = 11)]\n",
    "# Minimum number of samples required to split a node\n",
    "min_samples_split = [2, 5, 10]\n",
    "# Minimum number of samples required at each leaf node\n",
    "min_samples_leaf = [1, 2, 4]\n",
    "# Method of selecting samples for training each tree\n",
    "bootstrap = [True, False]\n",
    "\n",
    "# Create the random grid\n",
    "random_grid = {'n_estimators': n_estimators,\n",
    "               'max_features': max_features,\n",
    "               'max_depth': max_depth,\n",
    "               'min_samples_split': min_samples_split,\n",
    "               'min_samples_leaf': min_samples_leaf \n",
    "                }\n",
    "\n",
    "print(random_grid)"
   ]
  },
  {
   "cell_type": "code",
   "execution_count": 26,
   "id": "aedc09d6",
   "metadata": {},
   "outputs": [
    {
     "data": {
      "text/plain": [
       "{'bootstrap': True,\n",
       " 'ccp_alpha': 0.0,\n",
       " 'class_weight': None,\n",
       " 'criterion': 'gini',\n",
       " 'max_depth': None,\n",
       " 'max_features': 'auto',\n",
       " 'max_leaf_nodes': None,\n",
       " 'max_samples': None,\n",
       " 'min_impurity_decrease': 0.0,\n",
       " 'min_samples_leaf': 1,\n",
       " 'min_samples_split': 2,\n",
       " 'min_weight_fraction_leaf': 0.0,\n",
       " 'n_estimators': 100,\n",
       " 'n_jobs': None,\n",
       " 'oob_score': False,\n",
       " 'random_state': 42,\n",
       " 'verbose': 0,\n",
       " 'warm_start': False}"
      ]
     },
     "execution_count": 26,
     "metadata": {},
     "output_type": "execute_result"
    }
   ],
   "source": [
    "# Use the random grid to search for best hyperparameters\n",
    "# First create the base model to tune\n",
    "rfc = RandomForestClassifier(random_state = 42)\n",
    "#display default parameters\n",
    "rfc.get_params()"
   ]
  },
  {
   "cell_type": "code",
   "execution_count": 27,
   "id": "d32b1390",
   "metadata": {
    "scrolled": true
   },
   "outputs": [
    {
     "name": "stdout",
     "output_type": "stream",
     "text": [
      "Fitting 2 folds for each of 15 candidates, totalling 30 fits\n",
      "[CV 1/2; 1/15] START max_depth=4, max_features=sqrt, min_samples_leaf=4, min_samples_split=10, n_estimators=900\n",
      "[CV 1/2; 1/15] END max_depth=4, max_features=sqrt, min_samples_leaf=4, min_samples_split=10, n_estimators=900;, score=(train=0.995, test=0.995) total time= 8.4min\n",
      "[CV 2/2; 1/15] START max_depth=4, max_features=sqrt, min_samples_leaf=4, min_samples_split=10, n_estimators=900\n",
      "[CV 2/2; 1/15] END max_depth=4, max_features=sqrt, min_samples_leaf=4, min_samples_split=10, n_estimators=900;, score=(train=0.995, test=0.995) total time= 8.8min\n",
      "[CV 1/2; 2/15] START max_depth=6, max_features=sqrt, min_samples_leaf=4, min_samples_split=10, n_estimators=1100\n",
      "[CV 1/2; 2/15] END max_depth=6, max_features=sqrt, min_samples_leaf=4, min_samples_split=10, n_estimators=1100;, score=(train=0.995, test=0.995) total time=15.1min\n",
      "[CV 2/2; 2/15] START max_depth=6, max_features=sqrt, min_samples_leaf=4, min_samples_split=10, n_estimators=1100\n",
      "[CV 2/2; 2/15] END max_depth=6, max_features=sqrt, min_samples_leaf=4, min_samples_split=10, n_estimators=1100;, score=(train=0.995, test=0.995) total time=15.2min\n",
      "[CV 1/2; 3/15] START max_depth=6, max_features=auto, min_samples_leaf=2, min_samples_split=5, n_estimators=300\n",
      "[CV 1/2; 3/15] END max_depth=6, max_features=auto, min_samples_leaf=2, min_samples_split=5, n_estimators=300;, score=(train=0.995, test=0.995) total time= 5.2min\n",
      "[CV 2/2; 3/15] START max_depth=6, max_features=auto, min_samples_leaf=2, min_samples_split=5, n_estimators=300\n",
      "[CV 2/2; 3/15] END max_depth=6, max_features=auto, min_samples_leaf=2, min_samples_split=5, n_estimators=300;, score=(train=0.995, test=0.995) total time= 4.0min\n",
      "[CV 1/2; 4/15] START max_depth=6, max_features=auto, min_samples_leaf=1, min_samples_split=5, n_estimators=400\n",
      "[CV 1/2; 4/15] END max_depth=6, max_features=auto, min_samples_leaf=1, min_samples_split=5, n_estimators=400;, score=(train=0.995, test=0.995) total time= 5.3min\n",
      "[CV 2/2; 4/15] START max_depth=6, max_features=auto, min_samples_leaf=1, min_samples_split=5, n_estimators=400\n",
      "[CV 2/2; 4/15] END max_depth=6, max_features=auto, min_samples_leaf=1, min_samples_split=5, n_estimators=400;, score=(train=0.995, test=0.995) total time= 5.5min\n",
      "[CV 1/2; 5/15] START max_depth=8, max_features=sqrt, min_samples_leaf=1, min_samples_split=5, n_estimators=700\n",
      "[CV 1/2; 5/15] END max_depth=8, max_features=sqrt, min_samples_leaf=1, min_samples_split=5, n_estimators=700;, score=(train=0.995, test=0.995) total time=15.6min\n",
      "[CV 2/2; 5/15] START max_depth=8, max_features=sqrt, min_samples_leaf=1, min_samples_split=5, n_estimators=700\n",
      "[CV 2/2; 5/15] END max_depth=8, max_features=sqrt, min_samples_leaf=1, min_samples_split=5, n_estimators=700;, score=(train=0.995, test=0.995) total time=11.9min\n",
      "[CV 1/2; 6/15] START max_depth=11, max_features=auto, min_samples_leaf=1, min_samples_split=2, n_estimators=1000\n",
      "[CV 1/2; 6/15] END max_depth=11, max_features=auto, min_samples_leaf=1, min_samples_split=2, n_estimators=1000;, score=(train=0.995, test=0.995) total time=22.4min\n",
      "[CV 2/2; 6/15] START max_depth=11, max_features=auto, min_samples_leaf=1, min_samples_split=2, n_estimators=1000\n",
      "[CV 2/2; 6/15] END max_depth=11, max_features=auto, min_samples_leaf=1, min_samples_split=2, n_estimators=1000;, score=(train=0.995, test=0.995) total time=29.0min\n",
      "[CV 1/2; 7/15] START max_depth=3, max_features=auto, min_samples_leaf=1, min_samples_split=10, n_estimators=1100\n",
      "[CV 1/2; 7/15] END max_depth=3, max_features=auto, min_samples_leaf=1, min_samples_split=10, n_estimators=1100;, score=(train=0.995, test=0.995) total time=11.5min\n",
      "[CV 2/2; 7/15] START max_depth=3, max_features=auto, min_samples_leaf=1, min_samples_split=10, n_estimators=1100\n",
      "[CV 2/2; 7/15] END max_depth=3, max_features=auto, min_samples_leaf=1, min_samples_split=10, n_estimators=1100;, score=(train=0.995, test=0.995) total time=11.1min\n",
      "[CV 1/2; 8/15] START max_depth=6, max_features=sqrt, min_samples_leaf=2, min_samples_split=5, n_estimators=300\n",
      "[CV 1/2; 8/15] END max_depth=6, max_features=sqrt, min_samples_leaf=2, min_samples_split=5, n_estimators=300;, score=(train=0.995, test=0.995) total time= 4.6min\n",
      "[CV 2/2; 8/15] START max_depth=6, max_features=sqrt, min_samples_leaf=2, min_samples_split=5, n_estimators=300\n",
      "[CV 2/2; 8/15] END max_depth=6, max_features=sqrt, min_samples_leaf=2, min_samples_split=5, n_estimators=300;, score=(train=0.995, test=0.995) total time= 5.3min\n",
      "[CV 1/2; 9/15] START max_depth=2, max_features=sqrt, min_samples_leaf=1, min_samples_split=2, n_estimators=700\n",
      "[CV 1/2; 9/15] END max_depth=2, max_features=sqrt, min_samples_leaf=1, min_samples_split=2, n_estimators=700;, score=(train=0.995, test=0.995) total time= 3.8min\n",
      "[CV 2/2; 9/15] START max_depth=2, max_features=sqrt, min_samples_leaf=1, min_samples_split=2, n_estimators=700\n",
      "[CV 2/2; 9/15] END max_depth=2, max_features=sqrt, min_samples_leaf=1, min_samples_split=2, n_estimators=700;, score=(train=0.995, test=0.995) total time= 4.8min\n",
      "[CV 1/2; 10/15] START max_depth=7, max_features=sqrt, min_samples_leaf=4, min_samples_split=2, n_estimators=700\n",
      "[CV 1/2; 10/15] END max_depth=7, max_features=sqrt, min_samples_leaf=4, min_samples_split=2, n_estimators=700;, score=(train=0.995, test=0.995) total time=11.2min\n",
      "[CV 2/2; 10/15] START max_depth=7, max_features=sqrt, min_samples_leaf=4, min_samples_split=2, n_estimators=700\n",
      "[CV 2/2; 10/15] END max_depth=7, max_features=sqrt, min_samples_leaf=4, min_samples_split=2, n_estimators=700;, score=(train=0.995, test=0.995) total time=14.1min\n",
      "[CV 1/2; 11/15] START max_depth=10, max_features=sqrt, min_samples_leaf=4, min_samples_split=2, n_estimators=1200\n",
      "[CV 1/2; 11/15] END max_depth=10, max_features=sqrt, min_samples_leaf=4, min_samples_split=2, n_estimators=1200;, score=(train=0.995, test=0.995) total time=24.5min\n",
      "[CV 2/2; 11/15] START max_depth=10, max_features=sqrt, min_samples_leaf=4, min_samples_split=2, n_estimators=1200\n",
      "[CV 2/2; 11/15] END max_depth=10, max_features=sqrt, min_samples_leaf=4, min_samples_split=2, n_estimators=1200;, score=(train=0.995, test=0.995) total time=26.5min\n",
      "[CV 1/2; 12/15] START max_depth=1, max_features=sqrt, min_samples_leaf=1, min_samples_split=5, n_estimators=1100\n",
      "[CV 1/2; 12/15] END max_depth=1, max_features=sqrt, min_samples_leaf=1, min_samples_split=5, n_estimators=1100;, score=(train=0.995, test=0.995) total time= 3.4min\n",
      "[CV 2/2; 12/15] START max_depth=1, max_features=sqrt, min_samples_leaf=1, min_samples_split=5, n_estimators=1100\n",
      "[CV 2/2; 12/15] END max_depth=1, max_features=sqrt, min_samples_leaf=1, min_samples_split=5, n_estimators=1100;, score=(train=0.995, test=0.995) total time= 3.4min\n",
      "[CV 1/2; 13/15] START max_depth=8, max_features=sqrt, min_samples_leaf=2, min_samples_split=10, n_estimators=600\n",
      "[CV 1/2; 13/15] END max_depth=8, max_features=sqrt, min_samples_leaf=2, min_samples_split=10, n_estimators=600;, score=(train=0.995, test=0.995) total time=10.0min\n",
      "[CV 2/2; 13/15] START max_depth=8, max_features=sqrt, min_samples_leaf=2, min_samples_split=10, n_estimators=600\n",
      "[CV 2/2; 13/15] END max_depth=8, max_features=sqrt, min_samples_leaf=2, min_samples_split=10, n_estimators=600;, score=(train=0.995, test=0.995) total time=10.1min\n",
      "[CV 1/2; 14/15] START max_depth=4, max_features=sqrt, min_samples_leaf=1, min_samples_split=5, n_estimators=200\n",
      "[CV 1/2; 14/15] END max_depth=4, max_features=sqrt, min_samples_leaf=1, min_samples_split=5, n_estimators=200;, score=(train=0.995, test=0.995) total time= 1.9min\n",
      "[CV 2/2; 14/15] START max_depth=4, max_features=sqrt, min_samples_leaf=1, min_samples_split=5, n_estimators=200\n",
      "[CV 2/2; 14/15] END max_depth=4, max_features=sqrt, min_samples_leaf=1, min_samples_split=5, n_estimators=200;, score=(train=0.995, test=0.995) total time= 1.9min\n",
      "[CV 1/2; 15/15] START max_depth=8, max_features=auto, min_samples_leaf=1, min_samples_split=2, n_estimators=400\n",
      "[CV 1/2; 15/15] END max_depth=8, max_features=auto, min_samples_leaf=1, min_samples_split=2, n_estimators=400;, score=(train=0.995, test=0.995) total time= 6.6min\n",
      "[CV 2/2; 15/15] START max_depth=8, max_features=auto, min_samples_leaf=1, min_samples_split=2, n_estimators=400\n",
      "[CV 2/2; 15/15] END max_depth=8, max_features=auto, min_samples_leaf=1, min_samples_split=2, n_estimators=400;, score=(train=0.995, test=0.995) total time= 6.8min\n",
      "CPU times: user 6h 31min 27s, sys: 2min 1s, total: 6h 33min 29s\n",
      "Wall time: 6h 33min 30s\n"
     ]
    },
    {
     "data": {
      "text/plain": [
       "RandomizedSearchCV(cv=2, estimator=RandomForestClassifier(random_state=42),\n",
       "                   n_iter=15,\n",
       "                   param_distributions={'max_depth': [1, 2, 3, 4, 5, 6, 7, 8, 9,\n",
       "                                                      10, 11],\n",
       "                                        'max_features': ['auto', 'sqrt'],\n",
       "                                        'min_samples_leaf': [1, 2, 4],\n",
       "                                        'min_samples_split': [2, 5, 10],\n",
       "                                        'n_estimators': [100, 200, 300, 400,\n",
       "                                                         500, 600, 700, 800,\n",
       "                                                         900, 1000, 1100,\n",
       "                                                         1200]},\n",
       "                   random_state=42, return_train_score=True, verbose=10)"
      ]
     },
     "execution_count": 27,
     "metadata": {},
     "output_type": "execute_result"
    }
   ],
   "source": [
    "%%time\n",
    "rfc_random = RandomizedSearchCV(estimator=rfc, param_distributions=random_grid,\n",
    "                                cv =2, verbose=10, random_state=42,n_iter = 15, \n",
    "                                return_train_score=True)\n",
    "\n",
    "rfc_random.fit(train_features, train_labels)"
   ]
  },
  {
   "cell_type": "code",
   "execution_count": 28,
   "id": "00abe0da",
   "metadata": {},
   "outputs": [
    {
     "data": {
      "text/plain": [
       "{'n_estimators': 1200,\n",
       " 'min_samples_split': 2,\n",
       " 'min_samples_leaf': 4,\n",
       " 'max_features': 'sqrt',\n",
       " 'max_depth': 10}"
      ]
     },
     "execution_count": 28,
     "metadata": {},
     "output_type": "execute_result"
    }
   ],
   "source": [
    "rfc_random.best_params_"
   ]
  },
  {
   "cell_type": "code",
   "execution_count": 29,
   "id": "72b31872",
   "metadata": {},
   "outputs": [
    {
     "data": {
      "text/plain": [
       "0.9948865263550867"
      ]
     },
     "execution_count": 29,
     "metadata": {},
     "output_type": "execute_result"
    }
   ],
   "source": [
    "rfc_random.best_score_"
   ]
  },
  {
   "cell_type": "code",
   "execution_count": 10,
   "id": "cb887f15",
   "metadata": {},
   "outputs": [],
   "source": [
    "RFclassifier = RandomForestClassifier(n_estimators= 1200,\n",
    "                                    min_samples_split= 2,\n",
    "                                    min_samples_leaf= 4,random_state=42,\n",
    "                                    max_depth=10,max_features= 'sqrt',\n",
    "                                    n_jobs=-1)"
   ]
  },
  {
   "cell_type": "code",
   "execution_count": 11,
   "id": "bc0aa320",
   "metadata": {},
   "outputs": [
    {
     "name": "stdout",
     "output_type": "stream",
     "text": [
      "CPU times: user 1h 42min 4s, sys: 5.11 s, total: 1h 42min 9s\n",
      "Wall time: 25min 42s\n"
     ]
    },
    {
     "data": {
      "text/plain": [
       "RandomForestClassifier(max_depth=10, max_features='sqrt', min_samples_leaf=4,\n",
       "                       n_estimators=1200, n_jobs=-1, random_state=42)"
      ]
     },
     "execution_count": 11,
     "metadata": {},
     "output_type": "execute_result"
    }
   ],
   "source": [
    "%%time\n",
    "RFclassifier.fit(train_features, train_labels)"
   ]
  },
  {
   "cell_type": "markdown",
   "id": "199c9dee",
   "metadata": {},
   "source": [
    "### 6.3.2 RF Regressor"
   ]
  },
  {
   "cell_type": "code",
   "execution_count": 12,
   "id": "ca842b0a",
   "metadata": {},
   "outputs": [
    {
     "name": "stdout",
     "output_type": "stream",
     "text": [
      "{'n_estimators': [100, 200, 300, 400, 500, 600, 700, 800, 900, 1000, 1100, 1200, 1300, 1400, 1500], 'max_features': ['auto', 'sqrt'], 'max_depth': [1, 2, 3, 4, 5, 6, 7, 8, 9, 10, 11], 'min_samples_split': [2, 3, 5, 7, 10], 'bootstrap': [True, False], 'min_samples_leaf': [1, 2, 4]}\n"
     ]
    }
   ],
   "source": [
    "# Number of trees in random forest\n",
    "n_estimators = [int(x) for x in np.linspace(start = 100, stop = 1500, num = 15)]\n",
    "# Number of features to consider at every split\n",
    "max_features = ['auto', 'sqrt']\n",
    "# Maximum number of levels in tree\n",
    "max_depth = [int(x) for x in np.linspace(1, 11, num = 11)]\n",
    "# Minimum number of samples required to split a node\n",
    "min_samples_split = [2,3,5,7,10]\n",
    "# Minimum number of samples required at each leaf node\n",
    "min_samples_leaf = [1, 2, 4]\n",
    "# Method of selecting samples for training each tree\n",
    "bootstrap = [True, False]\n",
    "\n",
    "# Create the random grid\n",
    "random_grid = {'n_estimators': n_estimators,\n",
    "               'max_features': max_features,\n",
    "               'max_depth': max_depth,\n",
    "               'min_samples_split': min_samples_split,\n",
    "               'bootstrap': [True, False],\n",
    "               'min_samples_leaf': min_samples_leaf \n",
    "                }\n",
    "\n",
    "print(random_grid)"
   ]
  },
  {
   "cell_type": "code",
   "execution_count": 13,
   "id": "58a88f9b",
   "metadata": {},
   "outputs": [
    {
     "data": {
      "text/plain": [
       "{'bootstrap': True,\n",
       " 'ccp_alpha': 0.0,\n",
       " 'criterion': 'squared_error',\n",
       " 'max_depth': None,\n",
       " 'max_features': 'auto',\n",
       " 'max_leaf_nodes': None,\n",
       " 'max_samples': None,\n",
       " 'min_impurity_decrease': 0.0,\n",
       " 'min_samples_leaf': 1,\n",
       " 'min_samples_split': 2,\n",
       " 'min_weight_fraction_leaf': 0.0,\n",
       " 'n_estimators': 100,\n",
       " 'n_jobs': None,\n",
       " 'oob_score': False,\n",
       " 'random_state': 42,\n",
       " 'verbose': 0,\n",
       " 'warm_start': False}"
      ]
     },
     "execution_count": 13,
     "metadata": {},
     "output_type": "execute_result"
    }
   ],
   "source": [
    "rfr = RandomForestRegressor(random_state = 42)\n",
    "rfr.get_params()"
   ]
  },
  {
   "cell_type": "code",
   "execution_count": 14,
   "id": "718d1e69",
   "metadata": {},
   "outputs": [],
   "source": [
    "rfr_random = RandomizedSearchCV(estimator=rfr, param_distributions=random_grid,\n",
    "                              n_iter =25, scoring='neg_root_mean_squared_error', \n",
    "                              cv = 2, verbose=10, random_state=42,  \n",
    "                              return_train_score=True)"
   ]
  },
  {
   "cell_type": "code",
   "execution_count": 15,
   "id": "0f84f874",
   "metadata": {},
   "outputs": [
    {
     "name": "stdout",
     "output_type": "stream",
     "text": [
      "Fitting 2 folds for each of 25 candidates, totalling 50 fits\n",
      "[CV 1/2; 1/25] START bootstrap=False, max_depth=6, max_features=auto, min_samples_leaf=1, min_samples_split=10, n_estimators=1100\n",
      "[CV 1/2; 1/25] END bootstrap=False, max_depth=6, max_features=auto, min_samples_leaf=1, min_samples_split=10, n_estimators=1100;, score=(train=-3.309, test=-4.911) total time= 1.7min\n",
      "[CV 2/2; 1/25] START bootstrap=False, max_depth=6, max_features=auto, min_samples_leaf=1, min_samples_split=10, n_estimators=1100\n",
      "[CV 2/2; 1/25] END bootstrap=False, max_depth=6, max_features=auto, min_samples_leaf=1, min_samples_split=10, n_estimators=1100;, score=(train=-3.870, test=-4.124) total time= 1.8min\n",
      "[CV 1/2; 2/25] START bootstrap=True, max_depth=2, max_features=sqrt, min_samples_leaf=4, min_samples_split=5, n_estimators=600\n",
      "[CV 1/2; 2/25] END bootstrap=True, max_depth=2, max_features=sqrt, min_samples_leaf=4, min_samples_split=5, n_estimators=600;, score=(train=-3.602, test=-4.634) total time=   1.8s\n",
      "[CV 2/2; 2/25] START bootstrap=True, max_depth=2, max_features=sqrt, min_samples_leaf=4, min_samples_split=5, n_estimators=600\n",
      "[CV 2/2; 2/25] END bootstrap=True, max_depth=2, max_features=sqrt, min_samples_leaf=4, min_samples_split=5, n_estimators=600;, score=(train=-4.413, test=-3.665) total time=   1.8s\n",
      "[CV 1/2; 3/25] START bootstrap=False, max_depth=1, max_features=sqrt, min_samples_leaf=4, min_samples_split=10, n_estimators=600\n",
      "[CV 1/2; 3/25] END bootstrap=False, max_depth=1, max_features=sqrt, min_samples_leaf=4, min_samples_split=10, n_estimators=600;, score=(train=-3.645, test=-4.695) total time=   1.3s\n",
      "[CV 2/2; 3/25] START bootstrap=False, max_depth=1, max_features=sqrt, min_samples_leaf=4, min_samples_split=10, n_estimators=600\n",
      "[CV 2/2; 3/25] END bootstrap=False, max_depth=1, max_features=sqrt, min_samples_leaf=4, min_samples_split=10, n_estimators=600;, score=(train=-4.550, test=-3.674) total time=   1.3s\n",
      "[CV 1/2; 4/25] START bootstrap=False, max_depth=1, max_features=sqrt, min_samples_leaf=1, min_samples_split=3, n_estimators=200\n",
      "[CV 1/2; 4/25] END bootstrap=False, max_depth=1, max_features=sqrt, min_samples_leaf=1, min_samples_split=3, n_estimators=200;, score=(train=-3.644, test=-4.706) total time=   0.5s\n",
      "[CV 2/2; 4/25] START bootstrap=False, max_depth=1, max_features=sqrt, min_samples_leaf=1, min_samples_split=3, n_estimators=200\n",
      "[CV 2/2; 4/25] END bootstrap=False, max_depth=1, max_features=sqrt, min_samples_leaf=1, min_samples_split=3, n_estimators=200;, score=(train=-4.567, test=-3.674) total time=   0.5s\n",
      "[CV 1/2; 5/25] START bootstrap=False, max_depth=2, max_features=sqrt, min_samples_leaf=2, min_samples_split=5, n_estimators=500\n",
      "[CV 1/2; 5/25] END bootstrap=False, max_depth=2, max_features=sqrt, min_samples_leaf=2, min_samples_split=5, n_estimators=500;, score=(train=-3.601, test=-4.643) total time=   1.8s\n",
      "[CV 2/2; 5/25] START bootstrap=False, max_depth=2, max_features=sqrt, min_samples_leaf=2, min_samples_split=5, n_estimators=500\n",
      "[CV 2/2; 5/25] END bootstrap=False, max_depth=2, max_features=sqrt, min_samples_leaf=2, min_samples_split=5, n_estimators=500;, score=(train=-4.416, test=-3.664) total time=   1.8s\n",
      "[CV 1/2; 6/25] START bootstrap=False, max_depth=3, max_features=sqrt, min_samples_leaf=4, min_samples_split=5, n_estimators=1100\n",
      "[CV 1/2; 6/25] END bootstrap=False, max_depth=3, max_features=sqrt, min_samples_leaf=4, min_samples_split=5, n_estimators=1100;, score=(train=-3.544, test=-4.601) total time=   5.2s\n",
      "[CV 2/2; 6/25] START bootstrap=False, max_depth=3, max_features=sqrt, min_samples_leaf=4, min_samples_split=5, n_estimators=1100\n",
      "[CV 2/2; 6/25] END bootstrap=False, max_depth=3, max_features=sqrt, min_samples_leaf=4, min_samples_split=5, n_estimators=1100;, score=(train=-4.296, test=-3.663) total time=   5.3s\n",
      "[CV 1/2; 7/25] START bootstrap=True, max_depth=2, max_features=auto, min_samples_leaf=1, min_samples_split=3, n_estimators=200\n",
      "[CV 1/2; 7/25] END bootstrap=True, max_depth=2, max_features=auto, min_samples_leaf=1, min_samples_split=3, n_estimators=200;, score=(train=-3.554, test=-4.556) total time=   4.3s\n",
      "[CV 2/2; 7/25] START bootstrap=True, max_depth=2, max_features=auto, min_samples_leaf=1, min_samples_split=3, n_estimators=200\n",
      "[CV 2/2; 7/25] END bootstrap=True, max_depth=2, max_features=auto, min_samples_leaf=1, min_samples_split=3, n_estimators=200;, score=(train=-4.256, test=-3.730) total time=   4.5s\n",
      "[CV 1/2; 8/25] START bootstrap=True, max_depth=10, max_features=sqrt, min_samples_leaf=4, min_samples_split=2, n_estimators=200\n",
      "[CV 1/2; 8/25] END bootstrap=True, max_depth=10, max_features=sqrt, min_samples_leaf=4, min_samples_split=2, n_estimators=200;, score=(train=-2.843, test=-4.553) total time=   1.6s\n",
      "[CV 2/2; 8/25] START bootstrap=True, max_depth=10, max_features=sqrt, min_samples_leaf=4, min_samples_split=2, n_estimators=200\n",
      "[CV 2/2; 8/25] END bootstrap=True, max_depth=10, max_features=sqrt, min_samples_leaf=4, min_samples_split=2, n_estimators=200;, score=(train=-3.367, test=-3.709) total time=   1.7s\n",
      "[CV 1/2; 9/25] START bootstrap=False, max_depth=2, max_features=auto, min_samples_leaf=4, min_samples_split=3, n_estimators=1400\n",
      "[CV 1/2; 9/25] END bootstrap=False, max_depth=2, max_features=auto, min_samples_leaf=4, min_samples_split=3, n_estimators=1400;, score=(train=-3.582, test=-4.503) total time=  44.5s\n",
      "[CV 2/2; 9/25] START bootstrap=False, max_depth=2, max_features=auto, min_samples_leaf=4, min_samples_split=3, n_estimators=1400\n",
      "[CV 2/2; 9/25] END bootstrap=False, max_depth=2, max_features=auto, min_samples_leaf=4, min_samples_split=3, n_estimators=1400;, score=(train=-4.313, test=-3.781) total time=  46.2s\n",
      "[CV 1/2; 10/25] START bootstrap=False, max_depth=8, max_features=auto, min_samples_leaf=4, min_samples_split=10, n_estimators=1300\n",
      "[CV 1/2; 10/25] END bootstrap=False, max_depth=8, max_features=auto, min_samples_leaf=4, min_samples_split=10, n_estimators=1300;, score=(train=-3.047, test=-4.852) total time= 2.5min\n",
      "[CV 2/2; 10/25] START bootstrap=False, max_depth=8, max_features=auto, min_samples_leaf=4, min_samples_split=10, n_estimators=1300\n",
      "[CV 2/2; 10/25] END bootstrap=False, max_depth=8, max_features=auto, min_samples_leaf=4, min_samples_split=10, n_estimators=1300;, score=(train=-3.661, test=-4.375) total time= 2.4min\n",
      "[CV 1/2; 11/25] START bootstrap=True, max_depth=4, max_features=sqrt, min_samples_leaf=2, min_samples_split=5, n_estimators=600\n",
      "[CV 1/2; 11/25] END bootstrap=True, max_depth=4, max_features=sqrt, min_samples_leaf=2, min_samples_split=5, n_estimators=600;, score=(train=-3.457, test=-4.570) total time=   2.8s\n",
      "[CV 2/2; 11/25] START bootstrap=True, max_depth=4, max_features=sqrt, min_samples_leaf=2, min_samples_split=5, n_estimators=600\n",
      "[CV 2/2; 11/25] END bootstrap=True, max_depth=4, max_features=sqrt, min_samples_leaf=2, min_samples_split=5, n_estimators=600;, score=(train=-4.176, test=-3.664) total time=   2.8s\n",
      "[CV 1/2; 12/25] START bootstrap=True, max_depth=2, max_features=sqrt, min_samples_leaf=2, min_samples_split=3, n_estimators=500\n",
      "[CV 1/2; 12/25] END bootstrap=True, max_depth=2, max_features=sqrt, min_samples_leaf=2, min_samples_split=3, n_estimators=500;, score=(train=-3.601, test=-4.637) total time=   1.5s\n",
      "[CV 2/2; 12/25] START bootstrap=True, max_depth=2, max_features=sqrt, min_samples_leaf=2, min_samples_split=3, n_estimators=500\n",
      "[CV 2/2; 12/25] END bootstrap=True, max_depth=2, max_features=sqrt, min_samples_leaf=2, min_samples_split=3, n_estimators=500;, score=(train=-4.418, test=-3.667) total time=   1.5s\n",
      "[CV 1/2; 13/25] START bootstrap=False, max_depth=5, max_features=auto, min_samples_leaf=4, min_samples_split=7, n_estimators=500\n",
      "[CV 1/2; 13/25] END bootstrap=False, max_depth=5, max_features=auto, min_samples_leaf=4, min_samples_split=7, n_estimators=500;, score=(train=-3.351, test=-4.693) total time=  38.4s\n",
      "[CV 2/2; 13/25] START bootstrap=False, max_depth=5, max_features=auto, min_samples_leaf=4, min_samples_split=7, n_estimators=500\n",
      "[CV 2/2; 13/25] END bootstrap=False, max_depth=5, max_features=auto, min_samples_leaf=4, min_samples_split=7, n_estimators=500;, score=(train=-3.958, test=-4.164) total time=  40.6s\n",
      "[CV 1/2; 14/25] START bootstrap=True, max_depth=6, max_features=auto, min_samples_leaf=4, min_samples_split=5, n_estimators=400\n",
      "[CV 1/2; 14/25] END bootstrap=True, max_depth=6, max_features=auto, min_samples_leaf=4, min_samples_split=5, n_estimators=400;, score=(train=-3.145, test=-4.453) total time=  23.5s\n",
      "[CV 2/2; 14/25] START bootstrap=True, max_depth=6, max_features=auto, min_samples_leaf=4, min_samples_split=5, n_estimators=400\n",
      "[CV 2/2; 14/25] END bootstrap=True, max_depth=6, max_features=auto, min_samples_leaf=4, min_samples_split=5, n_estimators=400;, score=(train=-3.742, test=-3.720) total time=  24.2s\n",
      "[CV 1/2; 15/25] START bootstrap=False, max_depth=1, max_features=sqrt, min_samples_leaf=2, min_samples_split=10, n_estimators=200\n",
      "[CV 1/2; 15/25] END bootstrap=False, max_depth=1, max_features=sqrt, min_samples_leaf=2, min_samples_split=10, n_estimators=200;, score=(train=-3.645, test=-4.705) total time=   0.5s\n",
      "[CV 2/2; 15/25] START bootstrap=False, max_depth=1, max_features=sqrt, min_samples_leaf=2, min_samples_split=10, n_estimators=200\n",
      "[CV 2/2; 15/25] END bootstrap=False, max_depth=1, max_features=sqrt, min_samples_leaf=2, min_samples_split=10, n_estimators=200;, score=(train=-4.567, test=-3.674) total time=   0.5s\n",
      "[CV 1/2; 16/25] START bootstrap=False, max_depth=1, max_features=auto, min_samples_leaf=2, min_samples_split=3, n_estimators=1200\n",
      "[CV 1/2; 16/25] END bootstrap=False, max_depth=1, max_features=auto, min_samples_leaf=2, min_samples_split=3, n_estimators=1200;, score=(train=-3.638, test=-4.792) total time=  19.6s\n",
      "[CV 2/2; 16/25] START bootstrap=False, max_depth=1, max_features=auto, min_samples_leaf=2, min_samples_split=3, n_estimators=1200\n",
      "[CV 2/2; 16/25] END bootstrap=False, max_depth=1, max_features=auto, min_samples_leaf=2, min_samples_split=3, n_estimators=1200;, score=(train=-4.426, test=-3.809) total time=  20.2s\n",
      "[CV 1/2; 17/25] START bootstrap=False, max_depth=4, max_features=auto, min_samples_leaf=2, min_samples_split=7, n_estimators=100\n",
      "[CV 1/2; 17/25] END bootstrap=False, max_depth=4, max_features=auto, min_samples_leaf=2, min_samples_split=7, n_estimators=100;, score=(train=-3.444, test=-4.699) total time=   6.3s\n",
      "[CV 2/2; 17/25] START bootstrap=False, max_depth=4, max_features=auto, min_samples_leaf=2, min_samples_split=7, n_estimators=100\n",
      "[CV 2/2; 17/25] END bootstrap=False, max_depth=4, max_features=auto, min_samples_leaf=2, min_samples_split=7, n_estimators=100;, score=(train=-4.098, test=-3.968) total time=   6.6s\n",
      "[CV 1/2; 18/25] START bootstrap=True, max_depth=3, max_features=sqrt, min_samples_leaf=1, min_samples_split=7, n_estimators=1500\n",
      "[CV 1/2; 18/25] END bootstrap=True, max_depth=3, max_features=sqrt, min_samples_leaf=1, min_samples_split=7, n_estimators=1500;, score=(train=-3.541, test=-4.614) total time=   5.6s\n",
      "[CV 2/2; 18/25] START bootstrap=True, max_depth=3, max_features=sqrt, min_samples_leaf=1, min_samples_split=7, n_estimators=1500\n",
      "[CV 2/2; 18/25] END bootstrap=True, max_depth=3, max_features=sqrt, min_samples_leaf=1, min_samples_split=7, n_estimators=1500;, score=(train=-4.300, test=-3.664) total time=   5.7s\n",
      "[CV 1/2; 19/25] START bootstrap=True, max_depth=11, max_features=auto, min_samples_leaf=1, min_samples_split=7, n_estimators=1100\n",
      "[CV 1/2; 19/25] END bootstrap=True, max_depth=11, max_features=auto, min_samples_leaf=1, min_samples_split=7, n_estimators=1100;, score=(train=-2.604, test=-4.553) total time= 1.7min\n",
      "[CV 2/2; 19/25] START bootstrap=True, max_depth=11, max_features=auto, min_samples_leaf=1, min_samples_split=7, n_estimators=1100\n",
      "[CV 2/2; 19/25] END bootstrap=True, max_depth=11, max_features=auto, min_samples_leaf=1, min_samples_split=7, n_estimators=1100;, score=(train=-3.016, test=-3.777) total time= 1.7min\n",
      "[CV 1/2; 20/25] START bootstrap=True, max_depth=8, max_features=sqrt, min_samples_leaf=1, min_samples_split=2, n_estimators=1100\n",
      "[CV 1/2; 20/25] END bootstrap=True, max_depth=8, max_features=sqrt, min_samples_leaf=1, min_samples_split=2, n_estimators=1100;, score=(train=-2.787, test=-4.576) total time=   8.0s\n",
      "[CV 2/2; 20/25] START bootstrap=True, max_depth=8, max_features=sqrt, min_samples_leaf=1, min_samples_split=2, n_estimators=1100\n",
      "[CV 2/2; 20/25] END bootstrap=True, max_depth=8, max_features=sqrt, min_samples_leaf=1, min_samples_split=2, n_estimators=1100;, score=(train=-3.370, test=-3.688) total time=   8.4s\n",
      "[CV 1/2; 21/25] START bootstrap=False, max_depth=4, max_features=auto, min_samples_leaf=2, min_samples_split=3, n_estimators=700\n",
      "[CV 1/2; 21/25] END bootstrap=False, max_depth=4, max_features=auto, min_samples_leaf=2, min_samples_split=3, n_estimators=700;, score=(train=-3.444, test=-4.696) total time=  43.5s\n",
      "[CV 2/2; 21/25] START bootstrap=False, max_depth=4, max_features=auto, min_samples_leaf=2, min_samples_split=3, n_estimators=700\n",
      "[CV 2/2; 21/25] END bootstrap=False, max_depth=4, max_features=auto, min_samples_leaf=2, min_samples_split=3, n_estimators=700;, score=(train=-4.098, test=-3.968) total time=  45.4s\n",
      "[CV 1/2; 22/25] START bootstrap=False, max_depth=9, max_features=auto, min_samples_leaf=2, min_samples_split=5, n_estimators=1200\n",
      "[CV 1/2; 22/25] END bootstrap=False, max_depth=9, max_features=auto, min_samples_leaf=2, min_samples_split=5, n_estimators=1200;, score=(train=-2.863, test=-5.000) total time= 2.5min\n",
      "[CV 2/2; 22/25] START bootstrap=False, max_depth=9, max_features=auto, min_samples_leaf=2, min_samples_split=5, n_estimators=1200\n",
      "[CV 2/2; 22/25] END bootstrap=False, max_depth=9, max_features=auto, min_samples_leaf=2, min_samples_split=5, n_estimators=1200;, score=(train=-3.376, test=-4.543) total time= 2.6min\n",
      "[CV 1/2; 23/25] START bootstrap=False, max_depth=10, max_features=sqrt, min_samples_leaf=1, min_samples_split=7, n_estimators=500\n",
      "[CV 1/2; 23/25] END bootstrap=False, max_depth=10, max_features=sqrt, min_samples_leaf=1, min_samples_split=7, n_estimators=500;, score=(train=-2.326, test=-4.571) total time=   5.9s\n",
      "[CV 2/2; 23/25] START bootstrap=False, max_depth=10, max_features=sqrt, min_samples_leaf=1, min_samples_split=7, n_estimators=500\n",
      "[CV 2/2; 23/25] END bootstrap=False, max_depth=10, max_features=sqrt, min_samples_leaf=1, min_samples_split=7, n_estimators=500;, score=(train=-2.811, test=-3.719) total time=   6.1s\n",
      "[CV 1/2; 24/25] START bootstrap=True, max_depth=6, max_features=sqrt, min_samples_leaf=2, min_samples_split=2, n_estimators=900\n",
      "[CV 1/2; 24/25] END bootstrap=True, max_depth=6, max_features=sqrt, min_samples_leaf=2, min_samples_split=2, n_estimators=900;, score=(train=-3.204, test=-4.554) total time=   5.4s\n",
      "[CV 2/2; 24/25] START bootstrap=True, max_depth=6, max_features=sqrt, min_samples_leaf=2, min_samples_split=2, n_estimators=900\n",
      "[CV 2/2; 24/25] END bootstrap=True, max_depth=6, max_features=sqrt, min_samples_leaf=2, min_samples_split=2, n_estimators=900;, score=(train=-3.853, test=-3.677) total time=   5.6s\n",
      "[CV 1/2; 25/25] START bootstrap=False, max_depth=7, max_features=auto, min_samples_leaf=4, min_samples_split=7, n_estimators=500\n",
      "[CV 1/2; 25/25] END bootstrap=False, max_depth=7, max_features=auto, min_samples_leaf=4, min_samples_split=7, n_estimators=500;, score=(train=-3.143, test=-4.737) total time=  53.0s\n",
      "[CV 2/2; 25/25] START bootstrap=False, max_depth=7, max_features=auto, min_samples_leaf=4, min_samples_split=7, n_estimators=500\n",
      "[CV 2/2; 25/25] END bootstrap=False, max_depth=7, max_features=auto, min_samples_leaf=4, min_samples_split=7, n_estimators=500;, score=(train=-3.756, test=-4.292) total time=  51.8s\n",
      "CPU times: user 27min 11s, sys: 528 ms, total: 27min 12s\n",
      "Wall time: 27min 12s\n"
     ]
    },
    {
     "data": {
      "text/plain": [
       "RandomizedSearchCV(cv=2, estimator=RandomForestRegressor(random_state=42),\n",
       "                   n_iter=25,\n",
       "                   param_distributions={'bootstrap': [True, False],\n",
       "                                        'max_depth': [1, 2, 3, 4, 5, 6, 7, 8, 9,\n",
       "                                                      10, 11],\n",
       "                                        'max_features': ['auto', 'sqrt'],\n",
       "                                        'min_samples_leaf': [1, 2, 4],\n",
       "                                        'min_samples_split': [2, 3, 5, 7, 10],\n",
       "                                        'n_estimators': [100, 200, 300, 400,\n",
       "                                                         500, 600, 700, 800,\n",
       "                                                         900, 1000, 1100, 1200,\n",
       "                                                         1300, 1400, 1500]},\n",
       "                   random_state=42, return_train_score=True,\n",
       "                   scoring='neg_root_mean_squared_error', verbose=10)"
      ]
     },
     "execution_count": 15,
     "metadata": {},
     "output_type": "execute_result"
    }
   ],
   "source": [
    "%%time\n",
    "# Fit the random search model\n",
    "rfr_random.fit(reg_features, reg_target)"
   ]
  },
  {
   "cell_type": "code",
   "execution_count": 16,
   "id": "5383bf7c",
   "metadata": {},
   "outputs": [
    {
     "data": {
      "text/plain": [
       "{'n_estimators': 400,\n",
       " 'min_samples_split': 5,\n",
       " 'min_samples_leaf': 4,\n",
       " 'max_features': 'auto',\n",
       " 'max_depth': 6,\n",
       " 'bootstrap': True}"
      ]
     },
     "execution_count": 16,
     "metadata": {},
     "output_type": "execute_result"
    }
   ],
   "source": [
    "rfr_random.best_params_"
   ]
  },
  {
   "cell_type": "code",
   "execution_count": 17,
   "id": "e60fc0ca",
   "metadata": {},
   "outputs": [
    {
     "data": {
      "text/plain": [
       "-4.08660985336239"
      ]
     },
     "execution_count": 17,
     "metadata": {},
     "output_type": "execute_result"
    }
   ],
   "source": [
    "rfr_random.best_score_"
   ]
  },
  {
   "cell_type": "code",
   "execution_count": 24,
   "id": "6db2d7ee",
   "metadata": {},
   "outputs": [],
   "source": [
    "RFregressor = RandomForestRegressor(n_estimators= 400,\n",
    "                                  min_samples_split=5,\n",
    "                                  min_samples_leaf= 4,\n",
    "                                  max_features='auto',\n",
    "                                  max_depth=6,\n",
    "                                  bootstrap= True,n_jobs=-1) "
   ]
  },
  {
   "cell_type": "code",
   "execution_count": 25,
   "id": "a5ae5d92",
   "metadata": {},
   "outputs": [
    {
     "data": {
      "text/plain": [
       "RandomForestRegressor(max_depth=6, min_samples_leaf=4, min_samples_split=5,\n",
       "                      n_estimators=400, n_jobs=-1)"
      ]
     },
     "execution_count": 25,
     "metadata": {},
     "output_type": "execute_result"
    }
   ],
   "source": [
    "RFregressor.fit(reg_features, reg_target)"
   ]
  },
  {
   "cell_type": "code",
   "execution_count": 61,
   "id": "50bc67c8",
   "metadata": {},
   "outputs": [],
   "source": [
    "classifier_pred = RFclassifier.predict_proba(test.drop(target_cols,axis=1))\n",
    "regressor_pred = RFregressor.predict(test.drop(target_cols,axis=1))\n",
    "final_pred = (classifier_pred[:,1]*regressor_pred)"
   ]
  },
  {
   "cell_type": "code",
   "execution_count": 62,
   "id": "55fb648f",
   "metadata": {},
   "outputs": [],
   "source": [
    "#Submit file for kaggle\n",
    "pred_df = sub_file(test,final_pred)\n",
    "pred_df.to_csv('pred_rf_models.csv',index=False)"
   ]
  },
  {
   "cell_type": "code",
   "execution_count": 22,
   "id": "a42a9885",
   "metadata": {},
   "outputs": [
    {
     "name": "stdout",
     "output_type": "stream",
     "text": [
      "rms = 2.1105717768256254\n",
      "map = 0.25809990020729334\n"
     ]
    }
   ],
   "source": [
    "regr_metric(test_df,pred_df)"
   ]
  },
  {
   "cell_type": "code",
   "execution_count": 23,
   "id": "6acb5e0c",
   "metadata": {
    "scrolled": true
   },
   "outputs": [
    {
     "data": {
      "text/plain": [
       "<sklearn.metrics._plot.confusion_matrix.ConfusionMatrixDisplay at 0x7fa17eefddd0>"
      ]
     },
     "execution_count": 23,
     "metadata": {},
     "output_type": "execute_result"
    },
    {
     "data": {
      "image/png": "[encoded data removed]",
      "text/plain": [
       "<Figure size 432x288 with 2 Axes>"
      ]
     },
     "metadata": {
      "needs_background": "light"
     },
     "output_type": "display_data"
    }
   ],
   "source": [
    "#https://scikit-learn.org/stable/modules/generated/\n",
    "#sklearn.metrics.ConfusionMatrixDisplay.html#sklearn.metrics.ConfusionMatrixDisplay.from_predictions\n",
    "#\n",
    "#Classifier confusion matrix\n",
    "y_pred_rf = RFclassifier.predict(test_features)\n",
    "ConfusionMatrixDisplay.from_predictions(test_labels, y_pred_rf)"
   ]
  },
  {
   "cell_type": "markdown",
   "id": "81b0a052",
   "metadata": {},
   "source": [
    "### Kaggle Score"
   ]
  },
  {
   "attachments": {
    "image.png": {
     "image/png": "[encoded data removed]"
    }
   },
   "cell_type": "markdown",
   "id": "8c4c52fa",
   "metadata": {},
   "source": [
    "![image.png](attachment:image.png)"
   ]
  },
  {
   "cell_type": "markdown",
   "id": "0830b178",
   "metadata": {},
   "source": [
    "##  6.3 LightGBM  \n",
    "\n",
    "Light GBM grows tree vertically while other algorithm grows trees horizontally meaning that Light GBM grows tree leaf-wise while other algorithm grows level-wise. It will choose the leaf with max delta loss to grow. When growing the same leaf, Leaf-wise algorithm can reduce more loss than a level-wise algorithm."
   ]
  },
  {
   "cell_type": "markdown",
   "id": "8055aee0",
   "metadata": {},
   "source": [
    "### 6.3.1 LBG classification model :"
   ]
  },
  {
   "cell_type": "code",
   "execution_count": 24,
   "id": "7335a572",
   "metadata": {},
   "outputs": [
    {
     "data": {
      "text/plain": [
       "{'boosting_type': 'gbdt',\n",
       " 'class_weight': None,\n",
       " 'colsample_bytree': 1.0,\n",
       " 'importance_type': 'split',\n",
       " 'learning_rate': 0.1,\n",
       " 'max_depth': -1,\n",
       " 'min_child_samples': 20,\n",
       " 'min_child_weight': 0.001,\n",
       " 'min_split_gain': 0.0,\n",
       " 'n_estimators': 100,\n",
       " 'n_jobs': -1,\n",
       " 'num_leaves': 31,\n",
       " 'objective': None,\n",
       " 'random_state': None,\n",
       " 'reg_alpha': 0.0,\n",
       " 'reg_lambda': 0.0,\n",
       " 'silent': 'warn',\n",
       " 'subsample': 1.0,\n",
       " 'subsample_for_bin': 200000,\n",
       " 'subsample_freq': 0}"
      ]
     },
     "execution_count": 24,
     "metadata": {},
     "output_type": "execute_result"
    }
   ],
   "source": [
    "clf = lgb.LGBMClassifier()\n",
    "\n",
    "#check default parameters\n",
    "clf.get_params() "
   ]
  },
  {
   "cell_type": "code",
   "execution_count": 25,
   "id": "cf82393e",
   "metadata": {},
   "outputs": [],
   "source": [
    "gridParams = {\n",
    "'learning_rate': [0.01,0.015,0.02,0.025,0.030,0.035,0.04,0.045,0.05], #Learning rate\n",
    "'n_estimators': [int(x) for x in np.linspace(start = 100, stop = 1500, num = 15)],\n",
    "'num_leaves': [3,5,7,9,11,13,15,17], #number of leaves in full tree\n",
    "'boosting_type' : ['gbdt'],\n",
    "'objective' : ['binary'], #Binary Classification model  \n",
    "'metric' : ['binary_logloss','roc_auc'], #Performance metric \n",
    "'colsample_bytree' : [ 0.5,0.6,0.7,0.8, 1], #  select % of features before training each tree\n",
    "'subsample' : [0.5,0.6,0.7,0.8,0.9], # select part of data without resampling\n",
    "'reg_alpha' : [0,0.5,0.75,1], #L1 regularization\n",
    "'reg_lambda' : [0,0.5,0.75,1], #L2 regularization\n",
    "'max_leaves': [32,64,128,256], #Max  nodes  added.\n",
    "'min_child_samples' : [1,2,3,4,5,7,8,9,10] #Min data points in child (leaf) node.\n",
    "}"
   ]
  },
  {
   "cell_type": "code",
   "execution_count": 26,
   "id": "4173f617",
   "metadata": {},
   "outputs": [],
   "source": [
    "lbg_clf_grid = RandomizedSearchCV(estimator=clf, param_distributions=gridParams,\n",
    "                              n_iter =40, \n",
    "                              cv = 2, verbose=10, random_state=42,  \n",
    "                              return_train_score=True)"
   ]
  },
  {
   "cell_type": "code",
   "execution_count": 27,
   "id": "bd787267",
   "metadata": {},
   "outputs": [
    {
     "name": "stdout",
     "output_type": "stream",
     "text": [
      "Fitting 2 folds for each of 40 candidates, totalling 80 fits\n",
      "[CV 1/2; 1/40] START boosting_type=gbdt, colsample_bytree=0.8, learning_rate=0.04, max_leaves=128, metric=binary_logloss, min_child_samples=5, n_estimators=1100, num_leaves=17, objective=binary, reg_alpha=0.75, reg_lambda=0, subsample=0.9\n",
      "[LightGBM] [Warning] num_leaves is set=17, max_leaves=128 will be ignored. Current value: num_leaves=17\n",
      "[CV 1/2; 1/40] END boosting_type=gbdt, colsample_bytree=0.8, learning_rate=0.04, max_leaves=128, metric=binary_logloss, min_child_samples=5, n_estimators=1100, num_leaves=17, objective=binary, reg_alpha=0.75, reg_lambda=0, subsample=0.9;, score=(train=0.996, test=0.995) total time= 2.0min\n",
      "[CV 2/2; 1/40] START boosting_type=gbdt, colsample_bytree=0.8, learning_rate=0.04, max_leaves=128, metric=binary_logloss, min_child_samples=5, n_estimators=1100, num_leaves=17, objective=binary, reg_alpha=0.75, reg_lambda=0, subsample=0.9\n",
      "[LightGBM] [Warning] num_leaves is set=17, max_leaves=128 will be ignored. Current value: num_leaves=17\n",
      "[CV 2/2; 1/40] END boosting_type=gbdt, colsample_bytree=0.8, learning_rate=0.04, max_leaves=128, metric=binary_logloss, min_child_samples=5, n_estimators=1100, num_leaves=17, objective=binary, reg_alpha=0.75, reg_lambda=0, subsample=0.9;, score=(train=0.996, test=0.995) total time= 2.0min\n",
      "[CV 1/2; 2/40] START boosting_type=gbdt, colsample_bytree=0.7, learning_rate=0.035, max_leaves=64, metric=binary_logloss, min_child_samples=3, n_estimators=800, num_leaves=11, objective=binary, reg_alpha=1, reg_lambda=1, subsample=0.8\n",
      "[LightGBM] [Warning] num_leaves is set=11, max_leaves=64 will be ignored. Current value: num_leaves=11\n",
      "[CV 1/2; 2/40] END boosting_type=gbdt, colsample_bytree=0.7, learning_rate=0.035, max_leaves=64, metric=binary_logloss, min_child_samples=3, n_estimators=800, num_leaves=11, objective=binary, reg_alpha=1, reg_lambda=1, subsample=0.8;, score=(train=0.995, test=0.995) total time= 1.4min\n",
      "[CV 2/2; 2/40] START boosting_type=gbdt, colsample_bytree=0.7, learning_rate=0.035, max_leaves=64, metric=binary_logloss, min_child_samples=3, n_estimators=800, num_leaves=11, objective=binary, reg_alpha=1, reg_lambda=1, subsample=0.8\n",
      "[LightGBM] [Warning] num_leaves is set=11, max_leaves=64 will be ignored. Current value: num_leaves=11\n",
      "[CV 2/2; 2/40] END boosting_type=gbdt, colsample_bytree=0.7, learning_rate=0.035, max_leaves=64, metric=binary_logloss, min_child_samples=3, n_estimators=800, num_leaves=11, objective=binary, reg_alpha=1, reg_lambda=1, subsample=0.8;, score=(train=0.995, test=0.995) total time= 1.3min\n",
      "[CV 1/2; 3/40] START boosting_type=gbdt, colsample_bytree=0.8, learning_rate=0.04, max_leaves=128, metric=roc_auc, min_child_samples=10, n_estimators=1500, num_leaves=15, objective=binary, reg_alpha=0, reg_lambda=0.75, subsample=0.5\n",
      "[LightGBM] [Warning] num_leaves is set=15, max_leaves=128 will be ignored. Current value: num_leaves=15\n",
      "[CV 1/2; 3/40] END boosting_type=gbdt, colsample_bytree=0.8, learning_rate=0.04, max_leaves=128, metric=roc_auc, min_child_samples=10, n_estimators=1500, num_leaves=15, objective=binary, reg_alpha=0, reg_lambda=0.75, subsample=0.5;, score=(train=0.996, test=0.995) total time= 2.5min\n",
      "[CV 2/2; 3/40] START boosting_type=gbdt, colsample_bytree=0.8, learning_rate=0.04, max_leaves=128, metric=roc_auc, min_child_samples=10, n_estimators=1500, num_leaves=15, objective=binary, reg_alpha=0, reg_lambda=0.75, subsample=0.5\n",
      "[LightGBM] [Warning] num_leaves is set=15, max_leaves=128 will be ignored. Current value: num_leaves=15\n",
      "[CV 2/2; 3/40] END boosting_type=gbdt, colsample_bytree=0.8, learning_rate=0.04, max_leaves=128, metric=roc_auc, min_child_samples=10, n_estimators=1500, num_leaves=15, objective=binary, reg_alpha=0, reg_lambda=0.75, subsample=0.5;, score=(train=0.996, test=0.995) total time= 2.5min\n",
      "[CV 1/2; 4/40] START boosting_type=gbdt, colsample_bytree=1, learning_rate=0.02, max_leaves=256, metric=binary_logloss, min_child_samples=9, n_estimators=1200, num_leaves=11, objective=binary, reg_alpha=0, reg_lambda=0.5, subsample=0.7\n",
      "[LightGBM] [Warning] num_leaves is set=11, max_leaves=256 will be ignored. Current value: num_leaves=11\n",
      "[CV 1/2; 4/40] END boosting_type=gbdt, colsample_bytree=1, learning_rate=0.02, max_leaves=256, metric=binary_logloss, min_child_samples=9, n_estimators=1200, num_leaves=11, objective=binary, reg_alpha=0, reg_lambda=0.5, subsample=0.7;, score=(train=0.995, test=0.995) total time= 2.0min\n",
      "[CV 2/2; 4/40] START boosting_type=gbdt, colsample_bytree=1, learning_rate=0.02, max_leaves=256, metric=binary_logloss, min_child_samples=9, n_estimators=1200, num_leaves=11, objective=binary, reg_alpha=0, reg_lambda=0.5, subsample=0.7\n",
      "[LightGBM] [Warning] num_leaves is set=11, max_leaves=256 will be ignored. Current value: num_leaves=11\n",
      "[CV 2/2; 4/40] END boosting_type=gbdt, colsample_bytree=1, learning_rate=0.02, max_leaves=256, metric=binary_logloss, min_child_samples=9, n_estimators=1200, num_leaves=11, objective=binary, reg_alpha=0, reg_lambda=0.5, subsample=0.7;, score=(train=0.995, test=0.995) total time= 2.0min\n",
      "[CV 1/2; 5/40] START boosting_type=gbdt, colsample_bytree=0.8, learning_rate=0.025, max_leaves=128, metric=binary_logloss, min_child_samples=1, n_estimators=100, num_leaves=7, objective=binary, reg_alpha=0.5, reg_lambda=0.5, subsample=0.8\n",
      "[LightGBM] [Warning] num_leaves is set=7, max_leaves=128 will be ignored. Current value: num_leaves=7\n",
      "[CV 1/2; 5/40] END boosting_type=gbdt, colsample_bytree=0.8, learning_rate=0.025, max_leaves=128, metric=binary_logloss, min_child_samples=1, n_estimators=100, num_leaves=7, objective=binary, reg_alpha=0.5, reg_lambda=0.5, subsample=0.8;, score=(train=0.995, test=0.995) total time=  24.3s\n",
      "[CV 2/2; 5/40] START boosting_type=gbdt, colsample_bytree=0.8, learning_rate=0.025, max_leaves=128, metric=binary_logloss, min_child_samples=1, n_estimators=100, num_leaves=7, objective=binary, reg_alpha=0.5, reg_lambda=0.5, subsample=0.8\n",
      "[LightGBM] [Warning] num_leaves is set=7, max_leaves=128 will be ignored. Current value: num_leaves=7\n",
      "[CV 2/2; 5/40] END boosting_type=gbdt, colsample_bytree=0.8, learning_rate=0.025, max_leaves=128, metric=binary_logloss, min_child_samples=1, n_estimators=100, num_leaves=7, objective=binary, reg_alpha=0.5, reg_lambda=0.5, subsample=0.8;, score=(train=0.995, test=0.995) total time=  24.1s\n",
      "[CV 1/2; 6/40] START boosting_type=gbdt, colsample_bytree=0.7, learning_rate=0.015, max_leaves=64, metric=binary_logloss, min_child_samples=1, n_estimators=1500, num_leaves=15, objective=binary, reg_alpha=0.75, reg_lambda=0.75, subsample=0.7\n",
      "[LightGBM] [Warning] num_leaves is set=15, max_leaves=64 will be ignored. Current value: num_leaves=15\n",
      "[CV 1/2; 6/40] END boosting_type=gbdt, colsample_bytree=0.7, learning_rate=0.015, max_leaves=64, metric=binary_logloss, min_child_samples=1, n_estimators=1500, num_leaves=15, objective=binary, reg_alpha=0.75, reg_lambda=0.75, subsample=0.7;, score=(train=0.995, test=0.995) total time= 2.5min\n",
      "[CV 2/2; 6/40] START boosting_type=gbdt, colsample_bytree=0.7, learning_rate=0.015, max_leaves=64, metric=binary_logloss, min_child_samples=1, n_estimators=1500, num_leaves=15, objective=binary, reg_alpha=0.75, reg_lambda=0.75, subsample=0.7\n",
      "[LightGBM] [Warning] num_leaves is set=15, max_leaves=64 will be ignored. Current value: num_leaves=15\n",
      "[CV 2/2; 6/40] END boosting_type=gbdt, colsample_bytree=0.7, learning_rate=0.015, max_leaves=64, metric=binary_logloss, min_child_samples=1, n_estimators=1500, num_leaves=15, objective=binary, reg_alpha=0.75, reg_lambda=0.75, subsample=0.7;, score=(train=0.995, test=0.995) total time= 2.5min\n",
      "[CV 1/2; 7/40] START boosting_type=gbdt, colsample_bytree=0.5, learning_rate=0.025, max_leaves=32, metric=roc_auc, min_child_samples=9, n_estimators=1200, num_leaves=9, objective=binary, reg_alpha=0, reg_lambda=0.5, subsample=0.9\n",
      "[LightGBM] [Warning] num_leaves is set=9, max_leaves=32 will be ignored. Current value: num_leaves=9\n",
      "[CV 1/2; 7/40] END boosting_type=gbdt, colsample_bytree=0.5, learning_rate=0.025, max_leaves=32, metric=roc_auc, min_child_samples=9, n_estimators=1200, num_leaves=9, objective=binary, reg_alpha=0, reg_lambda=0.5, subsample=0.9;, score=(train=0.995, test=0.995) total time= 1.9min\n",
      "[CV 2/2; 7/40] START boosting_type=gbdt, colsample_bytree=0.5, learning_rate=0.025, max_leaves=32, metric=roc_auc, min_child_samples=9, n_estimators=1200, num_leaves=9, objective=binary, reg_alpha=0, reg_lambda=0.5, subsample=0.9\n",
      "[LightGBM] [Warning] num_leaves is set=9, max_leaves=32 will be ignored. Current value: num_leaves=9\n",
      "[CV 2/2; 7/40] END boosting_type=gbdt, colsample_bytree=0.5, learning_rate=0.025, max_leaves=32, metric=roc_auc, min_child_samples=9, n_estimators=1200, num_leaves=9, objective=binary, reg_alpha=0, reg_lambda=0.5, subsample=0.9;, score=(train=0.995, test=0.995) total time= 1.8min\n",
      "[CV 1/2; 8/40] START boosting_type=gbdt, colsample_bytree=1, learning_rate=0.02, max_leaves=128, metric=roc_auc, min_child_samples=4, n_estimators=1500, num_leaves=13, objective=binary, reg_alpha=1, reg_lambda=0.75, subsample=0.5\n",
      "[LightGBM] [Warning] num_leaves is set=13, max_leaves=128 will be ignored. Current value: num_leaves=13\n",
      "[CV 1/2; 8/40] END boosting_type=gbdt, colsample_bytree=1, learning_rate=0.02, max_leaves=128, metric=roc_auc, min_child_samples=4, n_estimators=1500, num_leaves=13, objective=binary, reg_alpha=1, reg_lambda=0.75, subsample=0.5;, score=(train=0.995, test=0.995) total time= 2.6min\n",
      "[CV 2/2; 8/40] START boosting_type=gbdt, colsample_bytree=1, learning_rate=0.02, max_leaves=128, metric=roc_auc, min_child_samples=4, n_estimators=1500, num_leaves=13, objective=binary, reg_alpha=1, reg_lambda=0.75, subsample=0.5\n",
      "[LightGBM] [Warning] num_leaves is set=13, max_leaves=128 will be ignored. Current value: num_leaves=13\n",
      "[CV 2/2; 8/40] END boosting_type=gbdt, colsample_bytree=1, learning_rate=0.02, max_leaves=128, metric=roc_auc, min_child_samples=4, n_estimators=1500, num_leaves=13, objective=binary, reg_alpha=1, reg_lambda=0.75, subsample=0.5;, score=(train=0.995, test=0.995) total time= 2.5min\n",
      "[CV 1/2; 9/40] START boosting_type=gbdt, colsample_bytree=0.7, learning_rate=0.025, max_leaves=32, metric=binary_logloss, min_child_samples=9, n_estimators=600, num_leaves=17, objective=binary, reg_alpha=0.5, reg_lambda=0.5, subsample=0.6\n",
      "[LightGBM] [Warning] num_leaves is set=17, max_leaves=32 will be ignored. Current value: num_leaves=17\n",
      "[CV 1/2; 9/40] END boosting_type=gbdt, colsample_bytree=0.7, learning_rate=0.025, max_leaves=32, metric=binary_logloss, min_child_samples=9, n_estimators=600, num_leaves=17, objective=binary, reg_alpha=0.5, reg_lambda=0.5, subsample=0.6;, score=(train=0.995, test=0.995) total time= 1.2min\n",
      "[CV 2/2; 9/40] START boosting_type=gbdt, colsample_bytree=0.7, learning_rate=0.025, max_leaves=32, metric=binary_logloss, min_child_samples=9, n_estimators=600, num_leaves=17, objective=binary, reg_alpha=0.5, reg_lambda=0.5, subsample=0.6\n",
      "[LightGBM] [Warning] num_leaves is set=17, max_leaves=32 will be ignored. Current value: num_leaves=17\n",
      "[CV 2/2; 9/40] END boosting_type=gbdt, colsample_bytree=0.7, learning_rate=0.025, max_leaves=32, metric=binary_logloss, min_child_samples=9, n_estimators=600, num_leaves=17, objective=binary, reg_alpha=0.5, reg_lambda=0.5, subsample=0.6;, score=(train=0.995, test=0.995) total time= 1.1min\n",
      "[CV 1/2; 10/40] START boosting_type=gbdt, colsample_bytree=1, learning_rate=0.02, max_leaves=32, metric=binary_logloss, min_child_samples=4, n_estimators=1200, num_leaves=13, objective=binary, reg_alpha=0.75, reg_lambda=1, subsample=0.8\n",
      "[LightGBM] [Warning] num_leaves is set=13, max_leaves=32 will be ignored. Current value: num_leaves=13\n",
      "[CV 1/2; 10/40] END boosting_type=gbdt, colsample_bytree=1, learning_rate=0.02, max_leaves=32, metric=binary_logloss, min_child_samples=4, n_estimators=1200, num_leaves=13, objective=binary, reg_alpha=0.75, reg_lambda=1, subsample=0.8;, score=(train=0.995, test=0.995) total time= 2.3min\n",
      "[CV 2/2; 10/40] START boosting_type=gbdt, colsample_bytree=1, learning_rate=0.02, max_leaves=32, metric=binary_logloss, min_child_samples=4, n_estimators=1200, num_leaves=13, objective=binary, reg_alpha=0.75, reg_lambda=1, subsample=0.8\n",
      "[LightGBM] [Warning] num_leaves is set=13, max_leaves=32 will be ignored. Current value: num_leaves=13\n",
      "[CV 2/2; 10/40] END boosting_type=gbdt, colsample_bytree=1, learning_rate=0.02, max_leaves=32, metric=binary_logloss, min_child_samples=4, n_estimators=1200, num_leaves=13, objective=binary, reg_alpha=0.75, reg_lambda=1, subsample=0.8;, score=(train=0.995, test=0.995) total time= 2.1min\n",
      "[CV 1/2; 11/40] START boosting_type=gbdt, colsample_bytree=1, learning_rate=0.04, max_leaves=64, metric=binary_logloss, min_child_samples=1, n_estimators=1200, num_leaves=13, objective=binary, reg_alpha=1, reg_lambda=0.75, subsample=0.6\n",
      "[LightGBM] [Warning] num_leaves is set=13, max_leaves=64 will be ignored. Current value: num_leaves=13\n",
      "[CV 1/2; 11/40] END boosting_type=gbdt, colsample_bytree=1, learning_rate=0.04, max_leaves=64, metric=binary_logloss, min_child_samples=1, n_estimators=1200, num_leaves=13, objective=binary, reg_alpha=1, reg_lambda=0.75, subsample=0.6;, score=(train=0.995, test=0.995) total time= 2.0min\n",
      "[CV 2/2; 11/40] START boosting_type=gbdt, colsample_bytree=1, learning_rate=0.04, max_leaves=64, metric=binary_logloss, min_child_samples=1, n_estimators=1200, num_leaves=13, objective=binary, reg_alpha=1, reg_lambda=0.75, subsample=0.6\n",
      "[LightGBM] [Warning] num_leaves is set=13, max_leaves=64 will be ignored. Current value: num_leaves=13\n",
      "[CV 2/2; 11/40] END boosting_type=gbdt, colsample_bytree=1, learning_rate=0.04, max_leaves=64, metric=binary_logloss, min_child_samples=1, n_estimators=1200, num_leaves=13, objective=binary, reg_alpha=1, reg_lambda=0.75, subsample=0.6;, score=(train=0.995, test=0.995) total time= 2.1min\n",
      "[CV 1/2; 12/40] START boosting_type=gbdt, colsample_bytree=0.8, learning_rate=0.045, max_leaves=128, metric=roc_auc, min_child_samples=7, n_estimators=100, num_leaves=17, objective=binary, reg_alpha=1, reg_lambda=0.5, subsample=0.8\n",
      "[LightGBM] [Warning] num_leaves is set=17, max_leaves=128 will be ignored. Current value: num_leaves=17\n",
      "[CV 1/2; 12/40] END boosting_type=gbdt, colsample_bytree=0.8, learning_rate=0.045, max_leaves=128, metric=roc_auc, min_child_samples=7, n_estimators=100, num_leaves=17, objective=binary, reg_alpha=1, reg_lambda=0.5, subsample=0.8;, score=(train=0.995, test=0.995) total time=  26.7s\n",
      "[CV 2/2; 12/40] START boosting_type=gbdt, colsample_bytree=0.8, learning_rate=0.045, max_leaves=128, metric=roc_auc, min_child_samples=7, n_estimators=100, num_leaves=17, objective=binary, reg_alpha=1, reg_lambda=0.5, subsample=0.8\n",
      "[LightGBM] [Warning] num_leaves is set=17, max_leaves=128 will be ignored. Current value: num_leaves=17\n",
      "[CV 2/2; 12/40] END boosting_type=gbdt, colsample_bytree=0.8, learning_rate=0.045, max_leaves=128, metric=roc_auc, min_child_samples=7, n_estimators=100, num_leaves=17, objective=binary, reg_alpha=1, reg_lambda=0.5, subsample=0.8;, score=(train=0.995, test=0.995) total time=  26.5s\n",
      "[CV 1/2; 13/40] START boosting_type=gbdt, colsample_bytree=0.6, learning_rate=0.03, max_leaves=256, metric=roc_auc, min_child_samples=4, n_estimators=1500, num_leaves=11, objective=binary, reg_alpha=0.5, reg_lambda=1, subsample=0.9\n",
      "[LightGBM] [Warning] num_leaves is set=11, max_leaves=256 will be ignored. Current value: num_leaves=11\n",
      "[CV 1/2; 13/40] END boosting_type=gbdt, colsample_bytree=0.6, learning_rate=0.03, max_leaves=256, metric=roc_auc, min_child_samples=4, n_estimators=1500, num_leaves=11, objective=binary, reg_alpha=0.5, reg_lambda=1, subsample=0.9;, score=(train=0.995, test=0.995) total time= 2.6min\n",
      "[CV 2/2; 13/40] START boosting_type=gbdt, colsample_bytree=0.6, learning_rate=0.03, max_leaves=256, metric=roc_auc, min_child_samples=4, n_estimators=1500, num_leaves=11, objective=binary, reg_alpha=0.5, reg_lambda=1, subsample=0.9\n",
      "[LightGBM] [Warning] num_leaves is set=11, max_leaves=256 will be ignored. Current value: num_leaves=11\n",
      "[CV 2/2; 13/40] END boosting_type=gbdt, colsample_bytree=0.6, learning_rate=0.03, max_leaves=256, metric=roc_auc, min_child_samples=4, n_estimators=1500, num_leaves=11, objective=binary, reg_alpha=0.5, reg_lambda=1, subsample=0.9;, score=(train=0.995, test=0.995) total time= 2.6min\n",
      "[CV 1/2; 14/40] START boosting_type=gbdt, colsample_bytree=0.8, learning_rate=0.025, max_leaves=128, metric=roc_auc, min_child_samples=10, n_estimators=800, num_leaves=13, objective=binary, reg_alpha=0, reg_lambda=0.5, subsample=0.7\n",
      "[LightGBM] [Warning] num_leaves is set=13, max_leaves=128 will be ignored. Current value: num_leaves=13\n",
      "[CV 1/2; 14/40] END boosting_type=gbdt, colsample_bytree=0.8, learning_rate=0.025, max_leaves=128, metric=roc_auc, min_child_samples=10, n_estimators=800, num_leaves=13, objective=binary, reg_alpha=0, reg_lambda=0.5, subsample=0.7;, score=(train=0.995, test=0.995) total time= 1.5min\n",
      "[CV 2/2; 14/40] START boosting_type=gbdt, colsample_bytree=0.8, learning_rate=0.025, max_leaves=128, metric=roc_auc, min_child_samples=10, n_estimators=800, num_leaves=13, objective=binary, reg_alpha=0, reg_lambda=0.5, subsample=0.7\n",
      "[LightGBM] [Warning] num_leaves is set=13, max_leaves=128 will be ignored. Current value: num_leaves=13\n",
      "[CV 2/2; 14/40] END boosting_type=gbdt, colsample_bytree=0.8, learning_rate=0.025, max_leaves=128, metric=roc_auc, min_child_samples=10, n_estimators=800, num_leaves=13, objective=binary, reg_alpha=0, reg_lambda=0.5, subsample=0.7;, score=(train=0.995, test=0.995) total time= 1.5min\n",
      "[CV 1/2; 15/40] START boosting_type=gbdt, colsample_bytree=0.6, learning_rate=0.04, max_leaves=32, metric=roc_auc, min_child_samples=9, n_estimators=900, num_leaves=5, objective=binary, reg_alpha=0.75, reg_lambda=0.75, subsample=0.5\n",
      "[LightGBM] [Warning] num_leaves is set=5, max_leaves=32 will be ignored. Current value: num_leaves=5\n",
      "[CV 1/2; 15/40] END boosting_type=gbdt, colsample_bytree=0.6, learning_rate=0.04, max_leaves=32, metric=roc_auc, min_child_samples=9, n_estimators=900, num_leaves=5, objective=binary, reg_alpha=0.75, reg_lambda=0.75, subsample=0.5;, score=(train=0.995, test=0.995) total time= 1.5min\n",
      "[CV 2/2; 15/40] START boosting_type=gbdt, colsample_bytree=0.6, learning_rate=0.04, max_leaves=32, metric=roc_auc, min_child_samples=9, n_estimators=900, num_leaves=5, objective=binary, reg_alpha=0.75, reg_lambda=0.75, subsample=0.5\n",
      "[LightGBM] [Warning] num_leaves is set=5, max_leaves=32 will be ignored. Current value: num_leaves=5\n",
      "[CV 2/2; 15/40] END boosting_type=gbdt, colsample_bytree=0.6, learning_rate=0.04, max_leaves=32, metric=roc_auc, min_child_samples=9, n_estimators=900, num_leaves=5, objective=binary, reg_alpha=0.75, reg_lambda=0.75, subsample=0.5;, score=(train=0.995, test=0.995) total time= 1.5min\n",
      "[CV 1/2; 16/40] START boosting_type=gbdt, colsample_bytree=0.8, learning_rate=0.025, max_leaves=256, metric=binary_logloss, min_child_samples=5, n_estimators=1300, num_leaves=13, objective=binary, reg_alpha=0, reg_lambda=0.5, subsample=0.5\n",
      "[LightGBM] [Warning] num_leaves is set=13, max_leaves=256 will be ignored. Current value: num_leaves=13\n",
      "[CV 1/2; 16/40] END boosting_type=gbdt, colsample_bytree=0.8, learning_rate=0.025, max_leaves=256, metric=binary_logloss, min_child_samples=5, n_estimators=1300, num_leaves=13, objective=binary, reg_alpha=0, reg_lambda=0.5, subsample=0.5;, score=(train=0.995, test=0.995) total time= 2.2min\n",
      "[CV 2/2; 16/40] START boosting_type=gbdt, colsample_bytree=0.8, learning_rate=0.025, max_leaves=256, metric=binary_logloss, min_child_samples=5, n_estimators=1300, num_leaves=13, objective=binary, reg_alpha=0, reg_lambda=0.5, subsample=0.5\n",
      "[LightGBM] [Warning] num_leaves is set=13, max_leaves=256 will be ignored. Current value: num_leaves=13\n",
      "[CV 2/2; 16/40] END boosting_type=gbdt, colsample_bytree=0.8, learning_rate=0.025, max_leaves=256, metric=binary_logloss, min_child_samples=5, n_estimators=1300, num_leaves=13, objective=binary, reg_alpha=0, reg_lambda=0.5, subsample=0.5;, score=(train=0.995, test=0.995) total time= 2.2min\n",
      "[CV 1/2; 17/40] START boosting_type=gbdt, colsample_bytree=0.6, learning_rate=0.015, max_leaves=128, metric=roc_auc, min_child_samples=8, n_estimators=600, num_leaves=3, objective=binary, reg_alpha=0.75, reg_lambda=0.75, subsample=0.7\n",
      "[LightGBM] [Warning] num_leaves is set=3, max_leaves=128 will be ignored. Current value: num_leaves=3\n",
      "[CV 1/2; 17/40] END boosting_type=gbdt, colsample_bytree=0.6, learning_rate=0.015, max_leaves=128, metric=roc_auc, min_child_samples=8, n_estimators=600, num_leaves=3, objective=binary, reg_alpha=0.75, reg_lambda=0.75, subsample=0.7;, score=(train=0.995, test=0.995) total time= 1.1min\n",
      "[CV 2/2; 17/40] START boosting_type=gbdt, colsample_bytree=0.6, learning_rate=0.015, max_leaves=128, metric=roc_auc, min_child_samples=8, n_estimators=600, num_leaves=3, objective=binary, reg_alpha=0.75, reg_lambda=0.75, subsample=0.7\n",
      "[LightGBM] [Warning] num_leaves is set=3, max_leaves=128 will be ignored. Current value: num_leaves=3\n",
      "[CV 2/2; 17/40] END boosting_type=gbdt, colsample_bytree=0.6, learning_rate=0.015, max_leaves=128, metric=roc_auc, min_child_samples=8, n_estimators=600, num_leaves=3, objective=binary, reg_alpha=0.75, reg_lambda=0.75, subsample=0.7;, score=(train=0.995, test=0.995) total time= 1.1min\n",
      "[CV 1/2; 18/40] START boosting_type=gbdt, colsample_bytree=0.5, learning_rate=0.045, max_leaves=32, metric=roc_auc, min_child_samples=7, n_estimators=1400, num_leaves=11, objective=binary, reg_alpha=1, reg_lambda=0.5, subsample=0.5\n",
      "[LightGBM] [Warning] num_leaves is set=11, max_leaves=32 will be ignored. Current value: num_leaves=11\n",
      "[CV 1/2; 18/40] END boosting_type=gbdt, colsample_bytree=0.5, learning_rate=0.045, max_leaves=32, metric=roc_auc, min_child_samples=7, n_estimators=1400, num_leaves=11, objective=binary, reg_alpha=1, reg_lambda=0.5, subsample=0.5;, score=(train=0.995, test=0.995) total time= 2.1min\n",
      "[CV 2/2; 18/40] START boosting_type=gbdt, colsample_bytree=0.5, learning_rate=0.045, max_leaves=32, metric=roc_auc, min_child_samples=7, n_estimators=1400, num_leaves=11, objective=binary, reg_alpha=1, reg_lambda=0.5, subsample=0.5\n",
      "[LightGBM] [Warning] num_leaves is set=11, max_leaves=32 will be ignored. Current value: num_leaves=11\n",
      "[CV 2/2; 18/40] END boosting_type=gbdt, colsample_bytree=0.5, learning_rate=0.045, max_leaves=32, metric=roc_auc, min_child_samples=7, n_estimators=1400, num_leaves=11, objective=binary, reg_alpha=1, reg_lambda=0.5, subsample=0.5;, score=(train=0.995, test=0.995) total time= 2.1min\n",
      "[CV 1/2; 19/40] START boosting_type=gbdt, colsample_bytree=0.7, learning_rate=0.02, max_leaves=32, metric=roc_auc, min_child_samples=5, n_estimators=800, num_leaves=5, objective=binary, reg_alpha=0, reg_lambda=0.5, subsample=0.7\n",
      "[LightGBM] [Warning] num_leaves is set=5, max_leaves=32 will be ignored. Current value: num_leaves=5\n",
      "[CV 1/2; 19/40] END boosting_type=gbdt, colsample_bytree=0.7, learning_rate=0.02, max_leaves=32, metric=roc_auc, min_child_samples=5, n_estimators=800, num_leaves=5, objective=binary, reg_alpha=0, reg_lambda=0.5, subsample=0.7;, score=(train=0.995, test=0.995) total time= 1.3min\n",
      "[CV 2/2; 19/40] START boosting_type=gbdt, colsample_bytree=0.7, learning_rate=0.02, max_leaves=32, metric=roc_auc, min_child_samples=5, n_estimators=800, num_leaves=5, objective=binary, reg_alpha=0, reg_lambda=0.5, subsample=0.7\n",
      "[LightGBM] [Warning] num_leaves is set=5, max_leaves=32 will be ignored. Current value: num_leaves=5\n",
      "[CV 2/2; 19/40] END boosting_type=gbdt, colsample_bytree=0.7, learning_rate=0.02, max_leaves=32, metric=roc_auc, min_child_samples=5, n_estimators=800, num_leaves=5, objective=binary, reg_alpha=0, reg_lambda=0.5, subsample=0.7;, score=(train=0.995, test=0.995) total time= 1.2min\n",
      "[CV 1/2; 20/40] START boosting_type=gbdt, colsample_bytree=0.7, learning_rate=0.05, max_leaves=256, metric=binary_logloss, min_child_samples=7, n_estimators=1100, num_leaves=5, objective=binary, reg_alpha=0.5, reg_lambda=0.5, subsample=0.7\n",
      "[LightGBM] [Warning] num_leaves is set=5, max_leaves=256 will be ignored. Current value: num_leaves=5\n",
      "[CV 1/2; 20/40] END boosting_type=gbdt, colsample_bytree=0.7, learning_rate=0.05, max_leaves=256, metric=binary_logloss, min_child_samples=7, n_estimators=1100, num_leaves=5, objective=binary, reg_alpha=0.5, reg_lambda=0.5, subsample=0.7;, score=(train=0.995, test=0.995) total time= 1.6min\n",
      "[CV 2/2; 20/40] START boosting_type=gbdt, colsample_bytree=0.7, learning_rate=0.05, max_leaves=256, metric=binary_logloss, min_child_samples=7, n_estimators=1100, num_leaves=5, objective=binary, reg_alpha=0.5, reg_lambda=0.5, subsample=0.7\n",
      "[LightGBM] [Warning] num_leaves is set=5, max_leaves=256 will be ignored. Current value: num_leaves=5\n",
      "[CV 2/2; 20/40] END boosting_type=gbdt, colsample_bytree=0.7, learning_rate=0.05, max_leaves=256, metric=binary_logloss, min_child_samples=7, n_estimators=1100, num_leaves=5, objective=binary, reg_alpha=0.5, reg_lambda=0.5, subsample=0.7;, score=(train=0.995, test=0.995) total time= 1.6min\n",
      "[CV 1/2; 21/40] START boosting_type=gbdt, colsample_bytree=0.5, learning_rate=0.04, max_leaves=128, metric=binary_logloss, min_child_samples=3, n_estimators=1500, num_leaves=13, objective=binary, reg_alpha=0, reg_lambda=0.75, subsample=0.8\n",
      "[LightGBM] [Warning] num_leaves is set=13, max_leaves=128 will be ignored. Current value: num_leaves=13\n",
      "[CV 1/2; 21/40] END boosting_type=gbdt, colsample_bytree=0.5, learning_rate=0.04, max_leaves=128, metric=binary_logloss, min_child_samples=3, n_estimators=1500, num_leaves=13, objective=binary, reg_alpha=0, reg_lambda=0.75, subsample=0.8;, score=(train=0.995, test=0.995) total time= 2.3min\n",
      "[CV 2/2; 21/40] START boosting_type=gbdt, colsample_bytree=0.5, learning_rate=0.04, max_leaves=128, metric=binary_logloss, min_child_samples=3, n_estimators=1500, num_leaves=13, objective=binary, reg_alpha=0, reg_lambda=0.75, subsample=0.8\n",
      "[LightGBM] [Warning] num_leaves is set=13, max_leaves=128 will be ignored. Current value: num_leaves=13\n",
      "[CV 2/2; 21/40] END boosting_type=gbdt, colsample_bytree=0.5, learning_rate=0.04, max_leaves=128, metric=binary_logloss, min_child_samples=3, n_estimators=1500, num_leaves=13, objective=binary, reg_alpha=0, reg_lambda=0.75, subsample=0.8;, score=(train=0.996, test=0.995) total time= 2.4min\n",
      "[CV 1/2; 22/40] START boosting_type=gbdt, colsample_bytree=0.5, learning_rate=0.05, max_leaves=128, metric=roc_auc, min_child_samples=8, n_estimators=200, num_leaves=3, objective=binary, reg_alpha=0.5, reg_lambda=1, subsample=0.7\n",
      "[LightGBM] [Warning] num_leaves is set=3, max_leaves=128 will be ignored. Current value: num_leaves=3\n",
      "[CV 1/2; 22/40] END boosting_type=gbdt, colsample_bytree=0.5, learning_rate=0.05, max_leaves=128, metric=roc_auc, min_child_samples=8, n_estimators=200, num_leaves=3, objective=binary, reg_alpha=0.5, reg_lambda=1, subsample=0.7;, score=(train=0.995, test=0.995) total time=  28.6s\n",
      "[CV 2/2; 22/40] START boosting_type=gbdt, colsample_bytree=0.5, learning_rate=0.05, max_leaves=128, metric=roc_auc, min_child_samples=8, n_estimators=200, num_leaves=3, objective=binary, reg_alpha=0.5, reg_lambda=1, subsample=0.7\n",
      "[LightGBM] [Warning] num_leaves is set=3, max_leaves=128 will be ignored. Current value: num_leaves=3\n",
      "[CV 2/2; 22/40] END boosting_type=gbdt, colsample_bytree=0.5, learning_rate=0.05, max_leaves=128, metric=roc_auc, min_child_samples=8, n_estimators=200, num_leaves=3, objective=binary, reg_alpha=0.5, reg_lambda=1, subsample=0.7;, score=(train=0.995, test=0.995) total time=  28.8s\n",
      "[CV 1/2; 23/40] START boosting_type=gbdt, colsample_bytree=0.5, learning_rate=0.03, max_leaves=256, metric=binary_logloss, min_child_samples=8, n_estimators=700, num_leaves=5, objective=binary, reg_alpha=0.75, reg_lambda=0.5, subsample=0.9\n",
      "[LightGBM] [Warning] num_leaves is set=5, max_leaves=256 will be ignored. Current value: num_leaves=5\n",
      "[CV 1/2; 23/40] END boosting_type=gbdt, colsample_bytree=0.5, learning_rate=0.03, max_leaves=256, metric=binary_logloss, min_child_samples=8, n_estimators=700, num_leaves=5, objective=binary, reg_alpha=0.75, reg_lambda=0.5, subsample=0.9;, score=(train=0.995, test=0.995) total time= 1.1min\n",
      "[CV 2/2; 23/40] START boosting_type=gbdt, colsample_bytree=0.5, learning_rate=0.03, max_leaves=256, metric=binary_logloss, min_child_samples=8, n_estimators=700, num_leaves=5, objective=binary, reg_alpha=0.75, reg_lambda=0.5, subsample=0.9\n",
      "[LightGBM] [Warning] num_leaves is set=5, max_leaves=256 will be ignored. Current value: num_leaves=5\n",
      "[CV 2/2; 23/40] END boosting_type=gbdt, colsample_bytree=0.5, learning_rate=0.03, max_leaves=256, metric=binary_logloss, min_child_samples=8, n_estimators=700, num_leaves=5, objective=binary, reg_alpha=0.75, reg_lambda=0.5, subsample=0.9;, score=(train=0.995, test=0.995) total time= 1.1min\n",
      "[CV 1/2; 24/40] START boosting_type=gbdt, colsample_bytree=0.6, learning_rate=0.03, max_leaves=64, metric=binary_logloss, min_child_samples=3, n_estimators=500, num_leaves=7, objective=binary, reg_alpha=0.5, reg_lambda=0.75, subsample=0.6\n",
      "[LightGBM] [Warning] num_leaves is set=7, max_leaves=64 will be ignored. Current value: num_leaves=7\n",
      "[CV 1/2; 24/40] END boosting_type=gbdt, colsample_bytree=0.6, learning_rate=0.03, max_leaves=64, metric=binary_logloss, min_child_samples=3, n_estimators=500, num_leaves=7, objective=binary, reg_alpha=0.5, reg_lambda=0.75, subsample=0.6;, score=(train=0.995, test=0.995) total time=  60.0s\n",
      "[CV 2/2; 24/40] START boosting_type=gbdt, colsample_bytree=0.6, learning_rate=0.03, max_leaves=64, metric=binary_logloss, min_child_samples=3, n_estimators=500, num_leaves=7, objective=binary, reg_alpha=0.5, reg_lambda=0.75, subsample=0.6\n",
      "[LightGBM] [Warning] num_leaves is set=7, max_leaves=64 will be ignored. Current value: num_leaves=7\n",
      "[CV 2/2; 24/40] END boosting_type=gbdt, colsample_bytree=0.6, learning_rate=0.03, max_leaves=64, metric=binary_logloss, min_child_samples=3, n_estimators=500, num_leaves=7, objective=binary, reg_alpha=0.5, reg_lambda=0.75, subsample=0.6;, score=(train=0.995, test=0.995) total time=  59.6s\n",
      "[CV 1/2; 25/40] START boosting_type=gbdt, colsample_bytree=0.5, learning_rate=0.01, max_leaves=32, metric=roc_auc, min_child_samples=2, n_estimators=1200, num_leaves=9, objective=binary, reg_alpha=1, reg_lambda=1, subsample=0.5\n",
      "[LightGBM] [Warning] num_leaves is set=9, max_leaves=32 will be ignored. Current value: num_leaves=9\n",
      "[CV 1/2; 25/40] END boosting_type=gbdt, colsample_bytree=0.5, learning_rate=0.01, max_leaves=32, metric=roc_auc, min_child_samples=2, n_estimators=1200, num_leaves=9, objective=binary, reg_alpha=1, reg_lambda=1, subsample=0.5;, score=(train=0.995, test=0.995) total time= 2.0min\n",
      "[CV 2/2; 25/40] START boosting_type=gbdt, colsample_bytree=0.5, learning_rate=0.01, max_leaves=32, metric=roc_auc, min_child_samples=2, n_estimators=1200, num_leaves=9, objective=binary, reg_alpha=1, reg_lambda=1, subsample=0.5\n",
      "[LightGBM] [Warning] num_leaves is set=9, max_leaves=32 will be ignored. Current value: num_leaves=9\n",
      "[CV 2/2; 25/40] END boosting_type=gbdt, colsample_bytree=0.5, learning_rate=0.01, max_leaves=32, metric=roc_auc, min_child_samples=2, n_estimators=1200, num_leaves=9, objective=binary, reg_alpha=1, reg_lambda=1, subsample=0.5;, score=(train=0.995, test=0.995) total time= 2.0min\n",
      "[CV 1/2; 26/40] START boosting_type=gbdt, colsample_bytree=0.7, learning_rate=0.035, max_leaves=32, metric=binary_logloss, min_child_samples=8, n_estimators=1500, num_leaves=9, objective=binary, reg_alpha=0.5, reg_lambda=1, subsample=0.6\n",
      "[LightGBM] [Warning] num_leaves is set=9, max_leaves=32 will be ignored. Current value: num_leaves=9\n",
      "[CV 1/2; 26/40] END boosting_type=gbdt, colsample_bytree=0.7, learning_rate=0.035, max_leaves=32, metric=binary_logloss, min_child_samples=8, n_estimators=1500, num_leaves=9, objective=binary, reg_alpha=0.5, reg_lambda=1, subsample=0.6;, score=(train=0.995, test=0.995) total time= 2.2min\n",
      "[CV 2/2; 26/40] START boosting_type=gbdt, colsample_bytree=0.7, learning_rate=0.035, max_leaves=32, metric=binary_logloss, min_child_samples=8, n_estimators=1500, num_leaves=9, objective=binary, reg_alpha=0.5, reg_lambda=1, subsample=0.6\n",
      "[LightGBM] [Warning] num_leaves is set=9, max_leaves=32 will be ignored. Current value: num_leaves=9\n",
      "[CV 2/2; 26/40] END boosting_type=gbdt, colsample_bytree=0.7, learning_rate=0.035, max_leaves=32, metric=binary_logloss, min_child_samples=8, n_estimators=1500, num_leaves=9, objective=binary, reg_alpha=0.5, reg_lambda=1, subsample=0.6;, score=(train=0.995, test=0.995) total time= 2.2min\n",
      "[CV 1/2; 27/40] START boosting_type=gbdt, colsample_bytree=0.5, learning_rate=0.015, max_leaves=256, metric=binary_logloss, min_child_samples=7, n_estimators=900, num_leaves=3, objective=binary, reg_alpha=0.5, reg_lambda=0.75, subsample=0.7\n",
      "[LightGBM] [Warning] num_leaves is set=3, max_leaves=256 will be ignored. Current value: num_leaves=3\n",
      "[CV 1/2; 27/40] END boosting_type=gbdt, colsample_bytree=0.5, learning_rate=0.015, max_leaves=256, metric=binary_logloss, min_child_samples=7, n_estimators=900, num_leaves=3, objective=binary, reg_alpha=0.5, reg_lambda=0.75, subsample=0.7;, score=(train=0.995, test=0.995) total time= 1.3min\n",
      "[CV 2/2; 27/40] START boosting_type=gbdt, colsample_bytree=0.5, learning_rate=0.015, max_leaves=256, metric=binary_logloss, min_child_samples=7, n_estimators=900, num_leaves=3, objective=binary, reg_alpha=0.5, reg_lambda=0.75, subsample=0.7\n",
      "[LightGBM] [Warning] num_leaves is set=3, max_leaves=256 will be ignored. Current value: num_leaves=3\n",
      "[CV 2/2; 27/40] END boosting_type=gbdt, colsample_bytree=0.5, learning_rate=0.015, max_leaves=256, metric=binary_logloss, min_child_samples=7, n_estimators=900, num_leaves=3, objective=binary, reg_alpha=0.5, reg_lambda=0.75, subsample=0.7;, score=(train=0.995, test=0.995) total time= 1.3min\n",
      "[CV 1/2; 28/40] START boosting_type=gbdt, colsample_bytree=0.6, learning_rate=0.035, max_leaves=32, metric=roc_auc, min_child_samples=3, n_estimators=400, num_leaves=9, objective=binary, reg_alpha=1, reg_lambda=0.75, subsample=0.8\n",
      "[LightGBM] [Warning] num_leaves is set=9, max_leaves=32 will be ignored. Current value: num_leaves=9\n",
      "[CV 1/2; 28/40] END boosting_type=gbdt, colsample_bytree=0.6, learning_rate=0.035, max_leaves=32, metric=roc_auc, min_child_samples=3, n_estimators=400, num_leaves=9, objective=binary, reg_alpha=1, reg_lambda=0.75, subsample=0.8;, score=(train=0.995, test=0.995) total time=  52.1s\n",
      "[CV 2/2; 28/40] START boosting_type=gbdt, colsample_bytree=0.6, learning_rate=0.035, max_leaves=32, metric=roc_auc, min_child_samples=3, n_estimators=400, num_leaves=9, objective=binary, reg_alpha=1, reg_lambda=0.75, subsample=0.8\n",
      "[LightGBM] [Warning] num_leaves is set=9, max_leaves=32 will be ignored. Current value: num_leaves=9\n",
      "[CV 2/2; 28/40] END boosting_type=gbdt, colsample_bytree=0.6, learning_rate=0.035, max_leaves=32, metric=roc_auc, min_child_samples=3, n_estimators=400, num_leaves=9, objective=binary, reg_alpha=1, reg_lambda=0.75, subsample=0.8;, score=(train=0.995, test=0.995) total time=  51.5s\n",
      "[CV 1/2; 29/40] START boosting_type=gbdt, colsample_bytree=0.5, learning_rate=0.05, max_leaves=32, metric=roc_auc, min_child_samples=7, n_estimators=200, num_leaves=5, objective=binary, reg_alpha=1, reg_lambda=0.5, subsample=0.9\n",
      "[LightGBM] [Warning] num_leaves is set=5, max_leaves=32 will be ignored. Current value: num_leaves=5\n",
      "[CV 1/2; 29/40] END boosting_type=gbdt, colsample_bytree=0.5, learning_rate=0.05, max_leaves=32, metric=roc_auc, min_child_samples=7, n_estimators=200, num_leaves=5, objective=binary, reg_alpha=1, reg_lambda=0.5, subsample=0.9;, score=(train=0.995, test=0.995) total time=  29.9s\n",
      "[CV 2/2; 29/40] START boosting_type=gbdt, colsample_bytree=0.5, learning_rate=0.05, max_leaves=32, metric=roc_auc, min_child_samples=7, n_estimators=200, num_leaves=5, objective=binary, reg_alpha=1, reg_lambda=0.5, subsample=0.9\n",
      "[LightGBM] [Warning] num_leaves is set=5, max_leaves=32 will be ignored. Current value: num_leaves=5\n",
      "[CV 2/2; 29/40] END boosting_type=gbdt, colsample_bytree=0.5, learning_rate=0.05, max_leaves=32, metric=roc_auc, min_child_samples=7, n_estimators=200, num_leaves=5, objective=binary, reg_alpha=1, reg_lambda=0.5, subsample=0.9;, score=(train=0.995, test=0.995) total time=  29.7s\n",
      "[CV 1/2; 30/40] START boosting_type=gbdt, colsample_bytree=1, learning_rate=0.045, max_leaves=256, metric=roc_auc, min_child_samples=3, n_estimators=700, num_leaves=5, objective=binary, reg_alpha=0.75, reg_lambda=0, subsample=0.9\n",
      "[LightGBM] [Warning] num_leaves is set=5, max_leaves=256 will be ignored. Current value: num_leaves=5\n",
      "[CV 1/2; 30/40] END boosting_type=gbdt, colsample_bytree=1, learning_rate=0.045, max_leaves=256, metric=roc_auc, min_child_samples=3, n_estimators=700, num_leaves=5, objective=binary, reg_alpha=0.75, reg_lambda=0, subsample=0.9;, score=(train=0.995, test=0.995) total time= 1.2min\n",
      "[CV 2/2; 30/40] START boosting_type=gbdt, colsample_bytree=1, learning_rate=0.045, max_leaves=256, metric=roc_auc, min_child_samples=3, n_estimators=700, num_leaves=5, objective=binary, reg_alpha=0.75, reg_lambda=0, subsample=0.9\n",
      "[LightGBM] [Warning] num_leaves is set=5, max_leaves=256 will be ignored. Current value: num_leaves=5\n",
      "[CV 2/2; 30/40] END boosting_type=gbdt, colsample_bytree=1, learning_rate=0.045, max_leaves=256, metric=roc_auc, min_child_samples=3, n_estimators=700, num_leaves=5, objective=binary, reg_alpha=0.75, reg_lambda=0, subsample=0.9;, score=(train=0.995, test=0.995) total time= 1.1min\n",
      "[CV 1/2; 31/40] START boosting_type=gbdt, colsample_bytree=0.6, learning_rate=0.035, max_leaves=32, metric=binary_logloss, min_child_samples=2, n_estimators=1500, num_leaves=17, objective=binary, reg_alpha=0.75, reg_lambda=1, subsample=0.9\n",
      "[LightGBM] [Warning] num_leaves is set=17, max_leaves=32 will be ignored. Current value: num_leaves=17\n",
      "[CV 1/2; 31/40] END boosting_type=gbdt, colsample_bytree=0.6, learning_rate=0.035, max_leaves=32, metric=binary_logloss, min_child_samples=2, n_estimators=1500, num_leaves=17, objective=binary, reg_alpha=0.75, reg_lambda=1, subsample=0.9;, score=(train=0.996, test=0.995) total time= 2.7min\n",
      "[CV 2/2; 31/40] START boosting_type=gbdt, colsample_bytree=0.6, learning_rate=0.035, max_leaves=32, metric=binary_logloss, min_child_samples=2, n_estimators=1500, num_leaves=17, objective=binary, reg_alpha=0.75, reg_lambda=1, subsample=0.9\n",
      "[LightGBM] [Warning] num_leaves is set=17, max_leaves=32 will be ignored. Current value: num_leaves=17\n",
      "[CV 2/2; 31/40] END boosting_type=gbdt, colsample_bytree=0.6, learning_rate=0.035, max_leaves=32, metric=binary_logloss, min_child_samples=2, n_estimators=1500, num_leaves=17, objective=binary, reg_alpha=0.75, reg_lambda=1, subsample=0.9;, score=(train=0.996, test=0.995) total time= 2.6min\n",
      "[CV 1/2; 32/40] START boosting_type=gbdt, colsample_bytree=0.6, learning_rate=0.03, max_leaves=64, metric=roc_auc, min_child_samples=8, n_estimators=600, num_leaves=3, objective=binary, reg_alpha=0.75, reg_lambda=0.5, subsample=0.8\n",
      "[LightGBM] [Warning] num_leaves is set=3, max_leaves=64 will be ignored. Current value: num_leaves=3\n",
      "[CV 1/2; 32/40] END boosting_type=gbdt, colsample_bytree=0.6, learning_rate=0.03, max_leaves=64, metric=roc_auc, min_child_samples=8, n_estimators=600, num_leaves=3, objective=binary, reg_alpha=0.75, reg_lambda=0.5, subsample=0.8;, score=(train=0.995, test=0.995) total time= 1.0min\n",
      "[CV 2/2; 32/40] START boosting_type=gbdt, colsample_bytree=0.6, learning_rate=0.03, max_leaves=64, metric=roc_auc, min_child_samples=8, n_estimators=600, num_leaves=3, objective=binary, reg_alpha=0.75, reg_lambda=0.5, subsample=0.8\n",
      "[LightGBM] [Warning] num_leaves is set=3, max_leaves=64 will be ignored. Current value: num_leaves=3\n",
      "[CV 2/2; 32/40] END boosting_type=gbdt, colsample_bytree=0.6, learning_rate=0.03, max_leaves=64, metric=roc_auc, min_child_samples=8, n_estimators=600, num_leaves=3, objective=binary, reg_alpha=0.75, reg_lambda=0.5, subsample=0.8;, score=(train=0.995, test=0.995) total time= 1.0min\n",
      "[CV 1/2; 33/40] START boosting_type=gbdt, colsample_bytree=0.5, learning_rate=0.05, max_leaves=64, metric=binary_logloss, min_child_samples=5, n_estimators=400, num_leaves=11, objective=binary, reg_alpha=0.5, reg_lambda=0.5, subsample=0.6\n",
      "[LightGBM] [Warning] num_leaves is set=11, max_leaves=64 will be ignored. Current value: num_leaves=11\n",
      "[CV 1/2; 33/40] END boosting_type=gbdt, colsample_bytree=0.5, learning_rate=0.05, max_leaves=64, metric=binary_logloss, min_child_samples=5, n_estimators=400, num_leaves=11, objective=binary, reg_alpha=0.5, reg_lambda=0.5, subsample=0.6;, score=(train=0.995, test=0.995) total time=  46.9s\n",
      "[CV 2/2; 33/40] START boosting_type=gbdt, colsample_bytree=0.5, learning_rate=0.05, max_leaves=64, metric=binary_logloss, min_child_samples=5, n_estimators=400, num_leaves=11, objective=binary, reg_alpha=0.5, reg_lambda=0.5, subsample=0.6\n",
      "[LightGBM] [Warning] num_leaves is set=11, max_leaves=64 will be ignored. Current value: num_leaves=11\n",
      "[CV 2/2; 33/40] END boosting_type=gbdt, colsample_bytree=0.5, learning_rate=0.05, max_leaves=64, metric=binary_logloss, min_child_samples=5, n_estimators=400, num_leaves=11, objective=binary, reg_alpha=0.5, reg_lambda=0.5, subsample=0.6;, score=(train=0.995, test=0.995) total time=  46.7s\n",
      "[CV 1/2; 34/40] START boosting_type=gbdt, colsample_bytree=0.6, learning_rate=0.04, max_leaves=64, metric=roc_auc, min_child_samples=2, n_estimators=900, num_leaves=17, objective=binary, reg_alpha=0, reg_lambda=0.75, subsample=0.5\n",
      "[LightGBM] [Warning] num_leaves is set=17, max_leaves=64 will be ignored. Current value: num_leaves=17\n",
      "[CV 1/2; 34/40] END boosting_type=gbdt, colsample_bytree=0.6, learning_rate=0.04, max_leaves=64, metric=roc_auc, min_child_samples=2, n_estimators=900, num_leaves=17, objective=binary, reg_alpha=0, reg_lambda=0.75, subsample=0.5;, score=(train=0.995, test=0.995) total time= 1.6min\n",
      "[CV 2/2; 34/40] START boosting_type=gbdt, colsample_bytree=0.6, learning_rate=0.04, max_leaves=64, metric=roc_auc, min_child_samples=2, n_estimators=900, num_leaves=17, objective=binary, reg_alpha=0, reg_lambda=0.75, subsample=0.5\n",
      "[LightGBM] [Warning] num_leaves is set=17, max_leaves=64 will be ignored. Current value: num_leaves=17\n",
      "[CV 2/2; 34/40] END boosting_type=gbdt, colsample_bytree=0.6, learning_rate=0.04, max_leaves=64, metric=roc_auc, min_child_samples=2, n_estimators=900, num_leaves=17, objective=binary, reg_alpha=0, reg_lambda=0.75, subsample=0.5;, score=(train=0.995, test=0.995) total time= 1.6min\n",
      "[CV 1/2; 35/40] START boosting_type=gbdt, colsample_bytree=0.5, learning_rate=0.05, max_leaves=256, metric=binary_logloss, min_child_samples=8, n_estimators=1300, num_leaves=15, objective=binary, reg_alpha=0.5, reg_lambda=0.75, subsample=0.5\n",
      "[LightGBM] [Warning] num_leaves is set=15, max_leaves=256 will be ignored. Current value: num_leaves=15\n",
      "[CV 1/2; 35/40] END boosting_type=gbdt, colsample_bytree=0.5, learning_rate=0.05, max_leaves=256, metric=binary_logloss, min_child_samples=8, n_estimators=1300, num_leaves=15, objective=binary, reg_alpha=0.5, reg_lambda=0.75, subsample=0.5;, score=(train=0.996, test=0.995) total time= 2.0min\n",
      "[CV 2/2; 35/40] START boosting_type=gbdt, colsample_bytree=0.5, learning_rate=0.05, max_leaves=256, metric=binary_logloss, min_child_samples=8, n_estimators=1300, num_leaves=15, objective=binary, reg_alpha=0.5, reg_lambda=0.75, subsample=0.5\n",
      "[LightGBM] [Warning] num_leaves is set=15, max_leaves=256 will be ignored. Current value: num_leaves=15\n",
      "[CV 2/2; 35/40] END boosting_type=gbdt, colsample_bytree=0.5, learning_rate=0.05, max_leaves=256, metric=binary_logloss, min_child_samples=8, n_estimators=1300, num_leaves=15, objective=binary, reg_alpha=0.5, reg_lambda=0.75, subsample=0.5;, score=(train=0.996, test=0.995) total time= 2.0min\n",
      "[CV 1/2; 36/40] START boosting_type=gbdt, colsample_bytree=1, learning_rate=0.035, max_leaves=128, metric=binary_logloss, min_child_samples=2, n_estimators=300, num_leaves=15, objective=binary, reg_alpha=1, reg_lambda=0.75, subsample=0.8\n",
      "[LightGBM] [Warning] num_leaves is set=15, max_leaves=128 will be ignored. Current value: num_leaves=15\n",
      "[CV 1/2; 36/40] END boosting_type=gbdt, colsample_bytree=1, learning_rate=0.035, max_leaves=128, metric=binary_logloss, min_child_samples=2, n_estimators=300, num_leaves=15, objective=binary, reg_alpha=1, reg_lambda=0.75, subsample=0.8;, score=(train=0.995, test=0.995) total time=  45.1s\n",
      "[CV 2/2; 36/40] START boosting_type=gbdt, colsample_bytree=1, learning_rate=0.035, max_leaves=128, metric=binary_logloss, min_child_samples=2, n_estimators=300, num_leaves=15, objective=binary, reg_alpha=1, reg_lambda=0.75, subsample=0.8\n",
      "[LightGBM] [Warning] num_leaves is set=15, max_leaves=128 will be ignored. Current value: num_leaves=15\n",
      "[CV 2/2; 36/40] END boosting_type=gbdt, colsample_bytree=1, learning_rate=0.035, max_leaves=128, metric=binary_logloss, min_child_samples=2, n_estimators=300, num_leaves=15, objective=binary, reg_alpha=1, reg_lambda=0.75, subsample=0.8;, score=(train=0.995, test=0.995) total time=  44.1s\n",
      "[CV 1/2; 37/40] START boosting_type=gbdt, colsample_bytree=0.7, learning_rate=0.015, max_leaves=32, metric=roc_auc, min_child_samples=2, n_estimators=1400, num_leaves=17, objective=binary, reg_alpha=0.75, reg_lambda=0, subsample=0.8\n",
      "[LightGBM] [Warning] num_leaves is set=17, max_leaves=32 will be ignored. Current value: num_leaves=17\n",
      "[CV 1/2; 37/40] END boosting_type=gbdt, colsample_bytree=0.7, learning_rate=0.015, max_leaves=32, metric=roc_auc, min_child_samples=2, n_estimators=1400, num_leaves=17, objective=binary, reg_alpha=0.75, reg_lambda=0, subsample=0.8;, score=(train=0.995, test=0.995) total time= 2.4min\n",
      "[CV 2/2; 37/40] START boosting_type=gbdt, colsample_bytree=0.7, learning_rate=0.015, max_leaves=32, metric=roc_auc, min_child_samples=2, n_estimators=1400, num_leaves=17, objective=binary, reg_alpha=0.75, reg_lambda=0, subsample=0.8\n",
      "[LightGBM] [Warning] num_leaves is set=17, max_leaves=32 will be ignored. Current value: num_leaves=17\n",
      "[CV 2/2; 37/40] END boosting_type=gbdt, colsample_bytree=0.7, learning_rate=0.015, max_leaves=32, metric=roc_auc, min_child_samples=2, n_estimators=1400, num_leaves=17, objective=binary, reg_alpha=0.75, reg_lambda=0, subsample=0.8;, score=(train=0.995, test=0.995) total time= 2.4min\n",
      "[CV 1/2; 38/40] START boosting_type=gbdt, colsample_bytree=0.8, learning_rate=0.03, max_leaves=32, metric=binary_logloss, min_child_samples=9, n_estimators=700, num_leaves=9, objective=binary, reg_alpha=1, reg_lambda=1, subsample=0.5\n",
      "[LightGBM] [Warning] num_leaves is set=9, max_leaves=32 will be ignored. Current value: num_leaves=9\n",
      "[CV 1/2; 38/40] END boosting_type=gbdt, colsample_bytree=0.8, learning_rate=0.03, max_leaves=32, metric=binary_logloss, min_child_samples=9, n_estimators=700, num_leaves=9, objective=binary, reg_alpha=1, reg_lambda=1, subsample=0.5;, score=(train=0.995, test=0.995) total time= 1.3min\n",
      "[CV 2/2; 38/40] START boosting_type=gbdt, colsample_bytree=0.8, learning_rate=0.03, max_leaves=32, metric=binary_logloss, min_child_samples=9, n_estimators=700, num_leaves=9, objective=binary, reg_alpha=1, reg_lambda=1, subsample=0.5\n",
      "[LightGBM] [Warning] num_leaves is set=9, max_leaves=32 will be ignored. Current value: num_leaves=9\n",
      "[CV 2/2; 38/40] END boosting_type=gbdt, colsample_bytree=0.8, learning_rate=0.03, max_leaves=32, metric=binary_logloss, min_child_samples=9, n_estimators=700, num_leaves=9, objective=binary, reg_alpha=1, reg_lambda=1, subsample=0.5;, score=(train=0.995, test=0.995) total time= 1.3min\n",
      "[CV 1/2; 39/40] START boosting_type=gbdt, colsample_bytree=1, learning_rate=0.045, max_leaves=64, metric=roc_auc, min_child_samples=3, n_estimators=1300, num_leaves=17, objective=binary, reg_alpha=0.5, reg_lambda=0.75, subsample=0.6\n",
      "[LightGBM] [Warning] num_leaves is set=17, max_leaves=64 will be ignored. Current value: num_leaves=17\n",
      "[CV 1/2; 39/40] END boosting_type=gbdt, colsample_bytree=1, learning_rate=0.045, max_leaves=64, metric=roc_auc, min_child_samples=3, n_estimators=1300, num_leaves=17, objective=binary, reg_alpha=0.5, reg_lambda=0.75, subsample=0.6;, score=(train=0.996, test=0.995) total time= 2.2min\n",
      "[CV 2/2; 39/40] START boosting_type=gbdt, colsample_bytree=1, learning_rate=0.045, max_leaves=64, metric=roc_auc, min_child_samples=3, n_estimators=1300, num_leaves=17, objective=binary, reg_alpha=0.5, reg_lambda=0.75, subsample=0.6\n",
      "[LightGBM] [Warning] num_leaves is set=17, max_leaves=64 will be ignored. Current value: num_leaves=17\n",
      "[CV 2/2; 39/40] END boosting_type=gbdt, colsample_bytree=1, learning_rate=0.045, max_leaves=64, metric=roc_auc, min_child_samples=3, n_estimators=1300, num_leaves=17, objective=binary, reg_alpha=0.5, reg_lambda=0.75, subsample=0.6;, score=(train=0.996, test=0.995) total time= 2.2min\n",
      "[CV 1/2; 40/40] START boosting_type=gbdt, colsample_bytree=1, learning_rate=0.02, max_leaves=128, metric=binary_logloss, min_child_samples=7, n_estimators=1200, num_leaves=15, objective=binary, reg_alpha=0.75, reg_lambda=0.5, subsample=0.6\n",
      "[LightGBM] [Warning] num_leaves is set=15, max_leaves=128 will be ignored. Current value: num_leaves=15\n",
      "[CV 1/2; 40/40] END boosting_type=gbdt, colsample_bytree=1, learning_rate=0.02, max_leaves=128, metric=binary_logloss, min_child_samples=7, n_estimators=1200, num_leaves=15, objective=binary, reg_alpha=0.75, reg_lambda=0.5, subsample=0.6;, score=(train=0.995, test=0.995) total time= 2.1min\n",
      "[CV 2/2; 40/40] START boosting_type=gbdt, colsample_bytree=1, learning_rate=0.02, max_leaves=128, metric=binary_logloss, min_child_samples=7, n_estimators=1200, num_leaves=15, objective=binary, reg_alpha=0.75, reg_lambda=0.5, subsample=0.6\n",
      "[LightGBM] [Warning] num_leaves is set=15, max_leaves=128 will be ignored. Current value: num_leaves=15\n",
      "[CV 2/2; 40/40] END boosting_type=gbdt, colsample_bytree=1, learning_rate=0.02, max_leaves=128, metric=binary_logloss, min_child_samples=7, n_estimators=1200, num_leaves=15, objective=binary, reg_alpha=0.75, reg_lambda=0.5, subsample=0.6;, score=(train=0.995, test=0.995) total time= 2.1min\n",
      "[LightGBM] [Warning] num_leaves is set=15, max_leaves=64 will be ignored. Current value: num_leaves=15\n",
      "CPU times: user 8h 53min 56s, sys: 5min 29s, total: 8h 59min 26s\n",
      "Wall time: 2h 30min 44s\n"
     ]
    },
    {
     "data": {
      "text/plain": [
       "RandomizedSearchCV(cv=2, estimator=LGBMClassifier(), n_iter=40,\n",
       "                   param_distributions={'boosting_type': ['gbdt'],\n",
       "                                        'colsample_bytree': [0.5, 0.6, 0.7, 0.8,\n",
       "                                                             1],\n",
       "                                        'learning_rate': [0.01, 0.015, 0.02,\n",
       "                                                          0.025, 0.03, 0.035,\n",
       "                                                          0.04, 0.045, 0.05],\n",
       "                                        'max_leaves': [32, 64, 128, 256],\n",
       "                                        'metric': ['binary_logloss', 'roc_auc'],\n",
       "                                        'min_child_samples': [1, 2, 3, 4, 5, 7,\n",
       "                                                              8, 9, 10],\n",
       "                                        'n_estimators': [100, 200, 300, 400,\n",
       "                                                         500, 600, 700, 800,\n",
       "                                                         900, 1000, 1100, 1200,\n",
       "                                                         1300, 1400, 1500],\n",
       "                                        'num_leaves': [3, 5, 7, 9, 11, 13, 15,\n",
       "                                                       17],\n",
       "                                        'objective': ['binary'],\n",
       "                                        'reg_alpha': [0, 0.5, 0.75, 1],\n",
       "                                        'reg_lambda': [0, 0.5, 0.75, 1],\n",
       "                                        'subsample': [0.5, 0.6, 0.7, 0.8, 0.9]},\n",
       "                   random_state=42, return_train_score=True, verbose=10)"
      ]
     },
     "execution_count": 27,
     "metadata": {},
     "output_type": "execute_result"
    }
   ],
   "source": [
    "%%time \n",
    "lbg_clf_grid.fit(train_features, train_labels)"
   ]
  },
  {
   "cell_type": "code",
   "execution_count": 28,
   "id": "604e1f1e",
   "metadata": {},
   "outputs": [
    {
     "data": {
      "text/plain": [
       "{'subsample': 0.7,\n",
       " 'reg_lambda': 0.75,\n",
       " 'reg_alpha': 0.75,\n",
       " 'objective': 'binary',\n",
       " 'num_leaves': 15,\n",
       " 'n_estimators': 1500,\n",
       " 'min_child_samples': 1,\n",
       " 'metric': 'binary_logloss',\n",
       " 'max_leaves': 64,\n",
       " 'learning_rate': 0.015,\n",
       " 'colsample_bytree': 0.7,\n",
       " 'boosting_type': 'gbdt'}"
      ]
     },
     "execution_count": 28,
     "metadata": {},
     "output_type": "execute_result"
    }
   ],
   "source": [
    "lbg_clf_grid.best_params_"
   ]
  },
  {
   "cell_type": "code",
   "execution_count": 29,
   "id": "b1866561",
   "metadata": {},
   "outputs": [
    {
     "data": {
      "text/plain": [
       "0.9948875104714485"
      ]
     },
     "execution_count": 29,
     "metadata": {},
     "output_type": "execute_result"
    }
   ],
   "source": [
    "lbg_clf_grid.best_score_"
   ]
  },
  {
   "cell_type": "code",
   "execution_count": 30,
   "id": "ee2f2f30",
   "metadata": {},
   "outputs": [],
   "source": [
    "lbg_clfparm = {\n",
    "\"objective\" : \"binary\", #Binary Classification model to predict whether customer will return during test window\n",
    "\"metric\" : \"binary_logloss\", #Performance metric as \"Binary Logloss\"\n",
    "\"max_leaves\": 64, #Maximum number of nodes to be added.\n",
    "\"num_leaves\" : 64, #number of leaves in full tree\n",
    "\"min_child_samples\" : 1, #Minimum number of data points needed in a child (leaf) node.\n",
    "\"learning_rate\" : 0.015, #Learning rate\n",
    "\"subsample\" : 0.7, #this will randomly select part of data without resampling\n",
    "\"colsample_bytree\" : 0.7, #LightGBM will select 80% of features before training each tree\n",
    "\"n_estimators\" : 1500, #number of boosting iterations\n",
    "\"reg_alpha\" : 0.75, #L1 regularization\n",
    "\"reg_lambda\": 0.75, #L2 regularization\n",
    "'random_state': 42,    \n",
    "\"boosting_type\" : \"gbdt\"}"
   ]
  },
  {
   "cell_type": "code",
   "execution_count": 31,
   "id": "c5ccc3d7",
   "metadata": {},
   "outputs": [
    {
     "data": {
      "text/plain": [
       "{'boosting_type': 'gbdt',\n",
       " 'class_weight': None,\n",
       " 'colsample_bytree': 0.7,\n",
       " 'importance_type': 'split',\n",
       " 'learning_rate': 0.015,\n",
       " 'max_depth': -1,\n",
       " 'min_child_samples': 1,\n",
       " 'min_child_weight': 0.001,\n",
       " 'min_split_gain': 0.0,\n",
       " 'n_estimators': 1500,\n",
       " 'n_jobs': -1,\n",
       " 'num_leaves': 64,\n",
       " 'objective': 'binary',\n",
       " 'random_state': 42,\n",
       " 'reg_alpha': 0.75,\n",
       " 'reg_lambda': 0.75,\n",
       " 'silent': 'warn',\n",
       " 'subsample': 0.7,\n",
       " 'subsample_for_bin': 200000,\n",
       " 'subsample_freq': 0,\n",
       " 'metric': 'binary_logloss',\n",
       " 'max_leaves': 64}"
      ]
     },
     "execution_count": 31,
     "metadata": {},
     "output_type": "execute_result"
    }
   ],
   "source": [
    "lbgclf = lgb.LGBMClassifier(**lbg_clfparm)\n",
    "#lgbm_clf.set_params(**lbg_clfparm)                        \n",
    "lbgclf.get_params() "
   ]
  },
  {
   "cell_type": "code",
   "execution_count": 32,
   "id": "05a33616",
   "metadata": {},
   "outputs": [
    {
     "name": "stdout",
     "output_type": "stream",
     "text": [
      "CPU times: user 20min 42s, sys: 3.32 s, total: 20min 45s\n",
      "Wall time: 5min 21s\n"
     ]
    },
    {
     "data": {
      "text/plain": [
       "LGBMClassifier(colsample_bytree=0.7, learning_rate=0.015, max_leaves=64,\n",
       "               metric='binary_logloss', min_child_samples=1, n_estimators=1500,\n",
       "               num_leaves=64, objective='binary', random_state=42,\n",
       "               reg_alpha=0.75, reg_lambda=0.75, subsample=0.7)"
      ]
     },
     "execution_count": 32,
     "metadata": {},
     "output_type": "execute_result"
    }
   ],
   "source": [
    "%%time\n",
    "lbgclf.fit(train_features, train_labels)"
   ]
  },
  {
   "cell_type": "code",
   "execution_count": 33,
   "id": "89d45235",
   "metadata": {
    "scrolled": true
   },
   "outputs": [
    {
     "data": {
      "text/plain": [
       "<sklearn.metrics._plot.confusion_matrix.ConfusionMatrixDisplay at 0x7fa12c6df350>"
      ]
     },
     "execution_count": 33,
     "metadata": {},
     "output_type": "execute_result"
    },
    {
     "data": {
      "image/png": "[encoded data removed]",
      "text/plain": [
       "<Figure size 432x288 with 2 Axes>"
      ]
     },
     "metadata": {
      "needs_background": "light"
     },
     "output_type": "display_data"
    }
   ],
   "source": [
    "#https://scikit-learn.org/stable/modules/generated/\n",
    "#sklearn.metrics.ConfusionMatrixDisplay.html#sklearn.metrics.ConfusionMatrixDisplay.from_predictions\n",
    "#\n",
    "#Classifier confusion matrix\n",
    "y_pred_lbg1 = lbgclf.predict(test_features)\n",
    "ConfusionMatrixDisplay.from_predictions(test_labels, y_pred_lbg1)"
   ]
  },
  {
   "cell_type": "markdown",
   "id": "3415667a",
   "metadata": {},
   "source": [
    "## 6.3.1-b  RandomizedSearch fine tuning"
   ]
  },
  {
   "cell_type": "markdown",
   "id": "c81780b9",
   "metadata": {},
   "source": [
    "We again perform RandomizedSearch around the best value obtained  with reduced search space to fine tune the hyperparameter values."
   ]
  },
  {
   "cell_type": "code",
   "execution_count": 35,
   "id": "9caf2a91",
   "metadata": {},
   "outputs": [],
   "source": [
    "gridParams2 = {\n",
    "'learning_rate': [0.011,0.013,0.015,0.017,0.019], #Learning rate\n",
    "'n_estimators': [1450,1475,1500,1525,1550],\n",
    "'num_leaves': [12,13,14,15,16,17], #number of leaves in full tree\n",
    "'boosting_type' : ['gbdt'],\n",
    "'objective' : ['binary'], #Binary Classification model  \n",
    "'metric' : ['binary_logloss'], #Performance metric \n",
    "'colsample_bytree' : [0.65,0.68,0.70,0.73,0.75], #  select % of features before training each tree\n",
    "'subsample' : [0.65,0.68,0.70,0.73,0.75], # select part of data without resampling\n",
    "'reg_alpha' : [0.65,0.7,0.75,0.8,0.85], #L1 regularization\n",
    "'reg_lambda' : [0.65,0.7,0.75,0.8,0.85], #L2 regularization\n",
    "'max_leaves': [16,32,64,128,256], #Max  nodes  added.\n",
    "'min_child_samples' : [1,2,3,4,5] #Min  data points in child (leaf) node.\n",
    "}"
   ]
  },
  {
   "cell_type": "code",
   "execution_count": 36,
   "id": "04a6603d",
   "metadata": {},
   "outputs": [],
   "source": [
    "lbg_clf_grid2 = RandomizedSearchCV(estimator=clf, param_distributions=gridParams2,\n",
    "                              n_iter =20, \n",
    "                              cv = 2, verbose=10, random_state=42,  \n",
    "                              return_train_score=True)"
   ]
  },
  {
   "cell_type": "code",
   "execution_count": 37,
   "id": "c4460a57",
   "metadata": {},
   "outputs": [
    {
     "name": "stdout",
     "output_type": "stream",
     "text": [
      "Fitting 2 folds for each of 20 candidates, totalling 40 fits\n",
      "[CV 1/2; 1/20] START boosting_type=gbdt, colsample_bytree=0.75, learning_rate=0.017, max_leaves=128, metric=binary_logloss, min_child_samples=2, n_estimators=1525, num_leaves=16, objective=binary, reg_alpha=0.85, reg_lambda=0.75, subsample=0.65\n",
      "[LightGBM] [Warning] num_leaves is set=16, max_leaves=128 will be ignored. Current value: num_leaves=16\n",
      "[CV 1/2; 1/20] END boosting_type=gbdt, colsample_bytree=0.75, learning_rate=0.017, max_leaves=128, metric=binary_logloss, min_child_samples=2, n_estimators=1525, num_leaves=16, objective=binary, reg_alpha=0.85, reg_lambda=0.75, subsample=0.65;, score=(train=0.995, test=0.995) total time= 2.7min\n",
      "[CV 2/2; 1/20] START boosting_type=gbdt, colsample_bytree=0.75, learning_rate=0.017, max_leaves=128, metric=binary_logloss, min_child_samples=2, n_estimators=1525, num_leaves=16, objective=binary, reg_alpha=0.85, reg_lambda=0.75, subsample=0.65\n",
      "[LightGBM] [Warning] num_leaves is set=16, max_leaves=128 will be ignored. Current value: num_leaves=16\n",
      "[CV 2/2; 1/20] END boosting_type=gbdt, colsample_bytree=0.75, learning_rate=0.017, max_leaves=128, metric=binary_logloss, min_child_samples=2, n_estimators=1525, num_leaves=16, objective=binary, reg_alpha=0.85, reg_lambda=0.75, subsample=0.65;, score=(train=0.995, test=0.995) total time= 2.6min\n",
      "[CV 1/2; 2/20] START boosting_type=gbdt, colsample_bytree=0.75, learning_rate=0.017, max_leaves=128, metric=binary_logloss, min_child_samples=5, n_estimators=1500, num_leaves=12, objective=binary, reg_alpha=0.8, reg_lambda=0.7, subsample=0.75\n",
      "[LightGBM] [Warning] num_leaves is set=12, max_leaves=128 will be ignored. Current value: num_leaves=12\n",
      "[CV 1/2; 2/20] END boosting_type=gbdt, colsample_bytree=0.75, learning_rate=0.017, max_leaves=128, metric=binary_logloss, min_child_samples=5, n_estimators=1500, num_leaves=12, objective=binary, reg_alpha=0.8, reg_lambda=0.7, subsample=0.75;, score=(train=0.995, test=0.995) total time= 2.5min\n",
      "[CV 2/2; 2/20] START boosting_type=gbdt, colsample_bytree=0.75, learning_rate=0.017, max_leaves=128, metric=binary_logloss, min_child_samples=5, n_estimators=1500, num_leaves=12, objective=binary, reg_alpha=0.8, reg_lambda=0.7, subsample=0.75\n",
      "[LightGBM] [Warning] num_leaves is set=12, max_leaves=128 will be ignored. Current value: num_leaves=12\n",
      "[CV 2/2; 2/20] END boosting_type=gbdt, colsample_bytree=0.75, learning_rate=0.017, max_leaves=128, metric=binary_logloss, min_child_samples=5, n_estimators=1500, num_leaves=12, objective=binary, reg_alpha=0.8, reg_lambda=0.7, subsample=0.75;, score=(train=0.995, test=0.995) total time= 2.5min\n",
      "[CV 1/2; 3/20] START boosting_type=gbdt, colsample_bytree=0.73, learning_rate=0.017, max_leaves=16, metric=binary_logloss, min_child_samples=2, n_estimators=1475, num_leaves=17, objective=binary, reg_alpha=0.85, reg_lambda=0.8, subsample=0.73\n",
      "[LightGBM] [Warning] num_leaves is set=17, max_leaves=16 will be ignored. Current value: num_leaves=17\n",
      "[CV 1/2; 3/20] END boosting_type=gbdt, colsample_bytree=0.73, learning_rate=0.017, max_leaves=16, metric=binary_logloss, min_child_samples=2, n_estimators=1475, num_leaves=17, objective=binary, reg_alpha=0.85, reg_lambda=0.8, subsample=0.73;, score=(train=0.995, test=0.995) total time= 2.5min\n",
      "[CV 2/2; 3/20] START boosting_type=gbdt, colsample_bytree=0.73, learning_rate=0.017, max_leaves=16, metric=binary_logloss, min_child_samples=2, n_estimators=1475, num_leaves=17, objective=binary, reg_alpha=0.85, reg_lambda=0.8, subsample=0.73\n",
      "[LightGBM] [Warning] num_leaves is set=17, max_leaves=16 will be ignored. Current value: num_leaves=17\n",
      "[CV 2/2; 3/20] END boosting_type=gbdt, colsample_bytree=0.73, learning_rate=0.017, max_leaves=16, metric=binary_logloss, min_child_samples=2, n_estimators=1475, num_leaves=17, objective=binary, reg_alpha=0.85, reg_lambda=0.8, subsample=0.73;, score=(train=0.995, test=0.995) total time= 2.6min\n",
      "[CV 1/2; 4/20] START boosting_type=gbdt, colsample_bytree=0.65, learning_rate=0.013, max_leaves=16, metric=binary_logloss, min_child_samples=5, n_estimators=1500, num_leaves=12, objective=binary, reg_alpha=0.65, reg_lambda=0.8, subsample=0.73\n",
      "[LightGBM] [Warning] num_leaves is set=12, max_leaves=16 will be ignored. Current value: num_leaves=12\n",
      "[CV 1/2; 4/20] END boosting_type=gbdt, colsample_bytree=0.65, learning_rate=0.013, max_leaves=16, metric=binary_logloss, min_child_samples=5, n_estimators=1500, num_leaves=12, objective=binary, reg_alpha=0.65, reg_lambda=0.8, subsample=0.73;, score=(train=0.995, test=0.995) total time= 2.4min\n",
      "[CV 2/2; 4/20] START boosting_type=gbdt, colsample_bytree=0.65, learning_rate=0.013, max_leaves=16, metric=binary_logloss, min_child_samples=5, n_estimators=1500, num_leaves=12, objective=binary, reg_alpha=0.65, reg_lambda=0.8, subsample=0.73\n",
      "[LightGBM] [Warning] num_leaves is set=12, max_leaves=16 will be ignored. Current value: num_leaves=12\n",
      "[CV 2/2; 4/20] END boosting_type=gbdt, colsample_bytree=0.65, learning_rate=0.013, max_leaves=16, metric=binary_logloss, min_child_samples=5, n_estimators=1500, num_leaves=12, objective=binary, reg_alpha=0.65, reg_lambda=0.8, subsample=0.73;, score=(train=0.995, test=0.995) total time= 2.3min\n",
      "[CV 1/2; 5/20] START boosting_type=gbdt, colsample_bytree=0.68, learning_rate=0.015, max_leaves=256, metric=binary_logloss, min_child_samples=1, n_estimators=1475, num_leaves=13, objective=binary, reg_alpha=0.75, reg_lambda=0.7, subsample=0.65\n",
      "[LightGBM] [Warning] num_leaves is set=13, max_leaves=256 will be ignored. Current value: num_leaves=13\n",
      "[CV 1/2; 5/20] END boosting_type=gbdt, colsample_bytree=0.68, learning_rate=0.015, max_leaves=256, metric=binary_logloss, min_child_samples=1, n_estimators=1475, num_leaves=13, objective=binary, reg_alpha=0.75, reg_lambda=0.7, subsample=0.65;, score=(train=0.995, test=0.995) total time= 2.4min\n",
      "[CV 2/2; 5/20] START boosting_type=gbdt, colsample_bytree=0.68, learning_rate=0.015, max_leaves=256, metric=binary_logloss, min_child_samples=1, n_estimators=1475, num_leaves=13, objective=binary, reg_alpha=0.75, reg_lambda=0.7, subsample=0.65\n",
      "[LightGBM] [Warning] num_leaves is set=13, max_leaves=256 will be ignored. Current value: num_leaves=13\n",
      "[CV 2/2; 5/20] END boosting_type=gbdt, colsample_bytree=0.68, learning_rate=0.015, max_leaves=256, metric=binary_logloss, min_child_samples=1, n_estimators=1475, num_leaves=13, objective=binary, reg_alpha=0.75, reg_lambda=0.7, subsample=0.65;, score=(train=0.995, test=0.995) total time= 2.4min\n",
      "[CV 1/2; 6/20] START boosting_type=gbdt, colsample_bytree=0.75, learning_rate=0.017, max_leaves=256, metric=binary_logloss, min_child_samples=1, n_estimators=1550, num_leaves=13, objective=binary, reg_alpha=0.85, reg_lambda=0.75, subsample=0.75\n",
      "[LightGBM] [Warning] num_leaves is set=13, max_leaves=256 will be ignored. Current value: num_leaves=13\n",
      "[CV 1/2; 6/20] END boosting_type=gbdt, colsample_bytree=0.75, learning_rate=0.017, max_leaves=256, metric=binary_logloss, min_child_samples=1, n_estimators=1550, num_leaves=13, objective=binary, reg_alpha=0.85, reg_lambda=0.75, subsample=0.75;, score=(train=0.995, test=0.995) total time= 2.6min\n",
      "[CV 2/2; 6/20] START boosting_type=gbdt, colsample_bytree=0.75, learning_rate=0.017, max_leaves=256, metric=binary_logloss, min_child_samples=1, n_estimators=1550, num_leaves=13, objective=binary, reg_alpha=0.85, reg_lambda=0.75, subsample=0.75\n",
      "[LightGBM] [Warning] num_leaves is set=13, max_leaves=256 will be ignored. Current value: num_leaves=13\n",
      "[CV 2/2; 6/20] END boosting_type=gbdt, colsample_bytree=0.75, learning_rate=0.017, max_leaves=256, metric=binary_logloss, min_child_samples=1, n_estimators=1550, num_leaves=13, objective=binary, reg_alpha=0.85, reg_lambda=0.75, subsample=0.75;, score=(train=0.995, test=0.995) total time= 2.6min\n",
      "[CV 1/2; 7/20] START boosting_type=gbdt, colsample_bytree=0.73, learning_rate=0.013, max_leaves=128, metric=binary_logloss, min_child_samples=4, n_estimators=1525, num_leaves=14, objective=binary, reg_alpha=0.65, reg_lambda=0.7, subsample=0.68\n",
      "[LightGBM] [Warning] num_leaves is set=14, max_leaves=128 will be ignored. Current value: num_leaves=14\n",
      "[CV 1/2; 7/20] END boosting_type=gbdt, colsample_bytree=0.73, learning_rate=0.013, max_leaves=128, metric=binary_logloss, min_child_samples=4, n_estimators=1525, num_leaves=14, objective=binary, reg_alpha=0.65, reg_lambda=0.7, subsample=0.68;, score=(train=0.995, test=0.995) total time= 2.6min\n",
      "[CV 2/2; 7/20] START boosting_type=gbdt, colsample_bytree=0.73, learning_rate=0.013, max_leaves=128, metric=binary_logloss, min_child_samples=4, n_estimators=1525, num_leaves=14, objective=binary, reg_alpha=0.65, reg_lambda=0.7, subsample=0.68\n",
      "[LightGBM] [Warning] num_leaves is set=14, max_leaves=128 will be ignored. Current value: num_leaves=14\n",
      "[CV 2/2; 7/20] END boosting_type=gbdt, colsample_bytree=0.73, learning_rate=0.013, max_leaves=128, metric=binary_logloss, min_child_samples=4, n_estimators=1525, num_leaves=14, objective=binary, reg_alpha=0.65, reg_lambda=0.7, subsample=0.68;, score=(train=0.995, test=0.995) total time= 2.6min\n",
      "[CV 1/2; 8/20] START boosting_type=gbdt, colsample_bytree=0.75, learning_rate=0.013, max_leaves=32, metric=binary_logloss, min_child_samples=5, n_estimators=1475, num_leaves=12, objective=binary, reg_alpha=0.65, reg_lambda=0.85, subsample=0.75\n",
      "[LightGBM] [Warning] num_leaves is set=12, max_leaves=32 will be ignored. Current value: num_leaves=12\n",
      "[CV 1/2; 8/20] END boosting_type=gbdt, colsample_bytree=0.75, learning_rate=0.013, max_leaves=32, metric=binary_logloss, min_child_samples=5, n_estimators=1475, num_leaves=12, objective=binary, reg_alpha=0.65, reg_lambda=0.85, subsample=0.75;, score=(train=0.995, test=0.995) total time= 2.6min\n",
      "[CV 2/2; 8/20] START boosting_type=gbdt, colsample_bytree=0.75, learning_rate=0.013, max_leaves=32, metric=binary_logloss, min_child_samples=5, n_estimators=1475, num_leaves=12, objective=binary, reg_alpha=0.65, reg_lambda=0.85, subsample=0.75\n",
      "[LightGBM] [Warning] num_leaves is set=12, max_leaves=32 will be ignored. Current value: num_leaves=12\n",
      "[CV 2/2; 8/20] END boosting_type=gbdt, colsample_bytree=0.75, learning_rate=0.013, max_leaves=32, metric=binary_logloss, min_child_samples=5, n_estimators=1475, num_leaves=12, objective=binary, reg_alpha=0.65, reg_lambda=0.85, subsample=0.75;, score=(train=0.995, test=0.995) total time= 2.5min\n",
      "[CV 1/2; 9/20] START boosting_type=gbdt, colsample_bytree=0.7, learning_rate=0.015, max_leaves=16, metric=binary_logloss, min_child_samples=3, n_estimators=1550, num_leaves=16, objective=binary, reg_alpha=0.75, reg_lambda=0.85, subsample=0.75\n",
      "[LightGBM] [Warning] num_leaves is set=16, max_leaves=16 will be ignored. Current value: num_leaves=16\n",
      "[CV 1/2; 9/20] END boosting_type=gbdt, colsample_bytree=0.7, learning_rate=0.015, max_leaves=16, metric=binary_logloss, min_child_samples=3, n_estimators=1550, num_leaves=16, objective=binary, reg_alpha=0.75, reg_lambda=0.85, subsample=0.75;, score=(train=0.995, test=0.995) total time= 2.6min\n",
      "[CV 2/2; 9/20] START boosting_type=gbdt, colsample_bytree=0.7, learning_rate=0.015, max_leaves=16, metric=binary_logloss, min_child_samples=3, n_estimators=1550, num_leaves=16, objective=binary, reg_alpha=0.75, reg_lambda=0.85, subsample=0.75\n",
      "[LightGBM] [Warning] num_leaves is set=16, max_leaves=16 will be ignored. Current value: num_leaves=16\n",
      "[CV 2/2; 9/20] END boosting_type=gbdt, colsample_bytree=0.7, learning_rate=0.015, max_leaves=16, metric=binary_logloss, min_child_samples=3, n_estimators=1550, num_leaves=16, objective=binary, reg_alpha=0.75, reg_lambda=0.85, subsample=0.75;, score=(train=0.995, test=0.995) total time= 2.6min\n",
      "[CV 1/2; 10/20] START boosting_type=gbdt, colsample_bytree=0.75, learning_rate=0.019, max_leaves=32, metric=binary_logloss, min_child_samples=1, n_estimators=1550, num_leaves=16, objective=binary, reg_alpha=0.85, reg_lambda=0.7, subsample=0.65\n",
      "[LightGBM] [Warning] num_leaves is set=16, max_leaves=32 will be ignored. Current value: num_leaves=16\n",
      "[CV 1/2; 10/20] END boosting_type=gbdt, colsample_bytree=0.75, learning_rate=0.019, max_leaves=32, metric=binary_logloss, min_child_samples=1, n_estimators=1550, num_leaves=16, objective=binary, reg_alpha=0.85, reg_lambda=0.7, subsample=0.65;, score=(train=0.995, test=0.995) total time= 2.6min\n",
      "[CV 2/2; 10/20] START boosting_type=gbdt, colsample_bytree=0.75, learning_rate=0.019, max_leaves=32, metric=binary_logloss, min_child_samples=1, n_estimators=1550, num_leaves=16, objective=binary, reg_alpha=0.85, reg_lambda=0.7, subsample=0.65\n",
      "[LightGBM] [Warning] num_leaves is set=16, max_leaves=32 will be ignored. Current value: num_leaves=16\n",
      "[CV 2/2; 10/20] END boosting_type=gbdt, colsample_bytree=0.75, learning_rate=0.019, max_leaves=32, metric=binary_logloss, min_child_samples=1, n_estimators=1550, num_leaves=16, objective=binary, reg_alpha=0.85, reg_lambda=0.7, subsample=0.65;, score=(train=0.995, test=0.995) total time= 2.6min\n",
      "[CV 1/2; 11/20] START boosting_type=gbdt, colsample_bytree=0.7, learning_rate=0.017, max_leaves=32, metric=binary_logloss, min_child_samples=1, n_estimators=1525, num_leaves=13, objective=binary, reg_alpha=0.7, reg_lambda=0.75, subsample=0.68\n",
      "[LightGBM] [Warning] num_leaves is set=13, max_leaves=32 will be ignored. Current value: num_leaves=13\n",
      "[CV 1/2; 11/20] END boosting_type=gbdt, colsample_bytree=0.7, learning_rate=0.017, max_leaves=32, metric=binary_logloss, min_child_samples=1, n_estimators=1525, num_leaves=13, objective=binary, reg_alpha=0.7, reg_lambda=0.75, subsample=0.68;, score=(train=0.995, test=0.995) total time= 2.5min\n",
      "[CV 2/2; 11/20] START boosting_type=gbdt, colsample_bytree=0.7, learning_rate=0.017, max_leaves=32, metric=binary_logloss, min_child_samples=1, n_estimators=1525, num_leaves=13, objective=binary, reg_alpha=0.7, reg_lambda=0.75, subsample=0.68\n",
      "[LightGBM] [Warning] num_leaves is set=13, max_leaves=32 will be ignored. Current value: num_leaves=13\n",
      "[CV 2/2; 11/20] END boosting_type=gbdt, colsample_bytree=0.7, learning_rate=0.017, max_leaves=32, metric=binary_logloss, min_child_samples=1, n_estimators=1525, num_leaves=13, objective=binary, reg_alpha=0.7, reg_lambda=0.75, subsample=0.68;, score=(train=0.995, test=0.995) total time= 2.5min\n",
      "[CV 1/2; 12/20] START boosting_type=gbdt, colsample_bytree=0.65, learning_rate=0.015, max_leaves=256, metric=binary_logloss, min_child_samples=5, n_estimators=1450, num_leaves=17, objective=binary, reg_alpha=0.7, reg_lambda=0.8, subsample=0.7\n",
      "[LightGBM] [Warning] num_leaves is set=17, max_leaves=256 will be ignored. Current value: num_leaves=17\n",
      "[CV 1/2; 12/20] END boosting_type=gbdt, colsample_bytree=0.65, learning_rate=0.015, max_leaves=256, metric=binary_logloss, min_child_samples=5, n_estimators=1450, num_leaves=17, objective=binary, reg_alpha=0.7, reg_lambda=0.8, subsample=0.7;, score=(train=0.995, test=0.995) total time= 2.6min\n",
      "[CV 2/2; 12/20] START boosting_type=gbdt, colsample_bytree=0.65, learning_rate=0.015, max_leaves=256, metric=binary_logloss, min_child_samples=5, n_estimators=1450, num_leaves=17, objective=binary, reg_alpha=0.7, reg_lambda=0.8, subsample=0.7\n",
      "[LightGBM] [Warning] num_leaves is set=17, max_leaves=256 will be ignored. Current value: num_leaves=17\n",
      "[CV 2/2; 12/20] END boosting_type=gbdt, colsample_bytree=0.65, learning_rate=0.015, max_leaves=256, metric=binary_logloss, min_child_samples=5, n_estimators=1450, num_leaves=17, objective=binary, reg_alpha=0.7, reg_lambda=0.8, subsample=0.7;, score=(train=0.995, test=0.995) total time= 2.4min\n",
      "[CV 1/2; 13/20] START boosting_type=gbdt, colsample_bytree=0.75, learning_rate=0.015, max_leaves=256, metric=binary_logloss, min_child_samples=1, n_estimators=1450, num_leaves=17, objective=binary, reg_alpha=0.85, reg_lambda=0.8, subsample=0.7\n",
      "[LightGBM] [Warning] num_leaves is set=17, max_leaves=256 will be ignored. Current value: num_leaves=17\n",
      "[CV 1/2; 13/20] END boosting_type=gbdt, colsample_bytree=0.75, learning_rate=0.015, max_leaves=256, metric=binary_logloss, min_child_samples=1, n_estimators=1450, num_leaves=17, objective=binary, reg_alpha=0.85, reg_lambda=0.8, subsample=0.7;, score=(train=0.995, test=0.995) total time= 2.6min\n",
      "[CV 2/2; 13/20] START boosting_type=gbdt, colsample_bytree=0.75, learning_rate=0.015, max_leaves=256, metric=binary_logloss, min_child_samples=1, n_estimators=1450, num_leaves=17, objective=binary, reg_alpha=0.85, reg_lambda=0.8, subsample=0.7\n",
      "[LightGBM] [Warning] num_leaves is set=17, max_leaves=256 will be ignored. Current value: num_leaves=17\n",
      "[CV 2/2; 13/20] END boosting_type=gbdt, colsample_bytree=0.75, learning_rate=0.015, max_leaves=256, metric=binary_logloss, min_child_samples=1, n_estimators=1450, num_leaves=17, objective=binary, reg_alpha=0.85, reg_lambda=0.8, subsample=0.7;, score=(train=0.995, test=0.995) total time= 2.6min\n",
      "[CV 1/2; 14/20] START boosting_type=gbdt, colsample_bytree=0.65, learning_rate=0.017, max_leaves=64, metric=binary_logloss, min_child_samples=3, n_estimators=1550, num_leaves=12, objective=binary, reg_alpha=0.85, reg_lambda=0.8, subsample=0.65\n",
      "[LightGBM] [Warning] num_leaves is set=12, max_leaves=64 will be ignored. Current value: num_leaves=12\n",
      "[CV 1/2; 14/20] END boosting_type=gbdt, colsample_bytree=0.65, learning_rate=0.017, max_leaves=64, metric=binary_logloss, min_child_samples=3, n_estimators=1550, num_leaves=12, objective=binary, reg_alpha=0.85, reg_lambda=0.8, subsample=0.65;, score=(train=0.995, test=0.995) total time= 2.4min\n",
      "[CV 2/2; 14/20] START boosting_type=gbdt, colsample_bytree=0.65, learning_rate=0.017, max_leaves=64, metric=binary_logloss, min_child_samples=3, n_estimators=1550, num_leaves=12, objective=binary, reg_alpha=0.85, reg_lambda=0.8, subsample=0.65\n",
      "[LightGBM] [Warning] num_leaves is set=12, max_leaves=64 will be ignored. Current value: num_leaves=12\n",
      "[CV 2/2; 14/20] END boosting_type=gbdt, colsample_bytree=0.65, learning_rate=0.017, max_leaves=64, metric=binary_logloss, min_child_samples=3, n_estimators=1550, num_leaves=12, objective=binary, reg_alpha=0.85, reg_lambda=0.8, subsample=0.65;, score=(train=0.995, test=0.995) total time= 2.4min\n",
      "[CV 1/2; 15/20] START boosting_type=gbdt, colsample_bytree=0.68, learning_rate=0.017, max_leaves=32, metric=binary_logloss, min_child_samples=5, n_estimators=1550, num_leaves=15, objective=binary, reg_alpha=0.8, reg_lambda=0.65, subsample=0.68\n",
      "[LightGBM] [Warning] num_leaves is set=15, max_leaves=32 will be ignored. Current value: num_leaves=15\n",
      "[CV 1/2; 15/20] END boosting_type=gbdt, colsample_bytree=0.68, learning_rate=0.017, max_leaves=32, metric=binary_logloss, min_child_samples=5, n_estimators=1550, num_leaves=15, objective=binary, reg_alpha=0.8, reg_lambda=0.65, subsample=0.68;, score=(train=0.995, test=0.995) total time= 2.5min\n",
      "[CV 2/2; 15/20] START boosting_type=gbdt, colsample_bytree=0.68, learning_rate=0.017, max_leaves=32, metric=binary_logloss, min_child_samples=5, n_estimators=1550, num_leaves=15, objective=binary, reg_alpha=0.8, reg_lambda=0.65, subsample=0.68\n",
      "[LightGBM] [Warning] num_leaves is set=15, max_leaves=32 will be ignored. Current value: num_leaves=15\n",
      "[CV 2/2; 15/20] END boosting_type=gbdt, colsample_bytree=0.68, learning_rate=0.017, max_leaves=32, metric=binary_logloss, min_child_samples=5, n_estimators=1550, num_leaves=15, objective=binary, reg_alpha=0.8, reg_lambda=0.65, subsample=0.68;, score=(train=0.995, test=0.995) total time= 2.5min\n",
      "[CV 1/2; 16/20] START boosting_type=gbdt, colsample_bytree=0.7, learning_rate=0.019, max_leaves=128, metric=binary_logloss, min_child_samples=1, n_estimators=1500, num_leaves=13, objective=binary, reg_alpha=0.8, reg_lambda=0.7, subsample=0.65\n",
      "[LightGBM] [Warning] num_leaves is set=13, max_leaves=128 will be ignored. Current value: num_leaves=13\n",
      "[CV 1/2; 16/20] END boosting_type=gbdt, colsample_bytree=0.7, learning_rate=0.019, max_leaves=128, metric=binary_logloss, min_child_samples=1, n_estimators=1500, num_leaves=13, objective=binary, reg_alpha=0.8, reg_lambda=0.7, subsample=0.65;, score=(train=0.995, test=0.995) total time= 2.4min\n",
      "[CV 2/2; 16/20] START boosting_type=gbdt, colsample_bytree=0.7, learning_rate=0.019, max_leaves=128, metric=binary_logloss, min_child_samples=1, n_estimators=1500, num_leaves=13, objective=binary, reg_alpha=0.8, reg_lambda=0.7, subsample=0.65\n",
      "[LightGBM] [Warning] num_leaves is set=13, max_leaves=128 will be ignored. Current value: num_leaves=13\n",
      "[CV 2/2; 16/20] END boosting_type=gbdt, colsample_bytree=0.7, learning_rate=0.019, max_leaves=128, metric=binary_logloss, min_child_samples=1, n_estimators=1500, num_leaves=13, objective=binary, reg_alpha=0.8, reg_lambda=0.7, subsample=0.65;, score=(train=0.995, test=0.995) total time= 2.4min\n",
      "[CV 1/2; 17/20] START boosting_type=gbdt, colsample_bytree=0.73, learning_rate=0.017, max_leaves=256, metric=binary_logloss, min_child_samples=2, n_estimators=1450, num_leaves=17, objective=binary, reg_alpha=0.65, reg_lambda=0.8, subsample=0.68\n",
      "[LightGBM] [Warning] num_leaves is set=17, max_leaves=256 will be ignored. Current value: num_leaves=17\n",
      "[CV 1/2; 17/20] END boosting_type=gbdt, colsample_bytree=0.73, learning_rate=0.017, max_leaves=256, metric=binary_logloss, min_child_samples=2, n_estimators=1450, num_leaves=17, objective=binary, reg_alpha=0.65, reg_lambda=0.8, subsample=0.68;, score=(train=0.995, test=0.995) total time= 2.5min\n",
      "[CV 2/2; 17/20] START boosting_type=gbdt, colsample_bytree=0.73, learning_rate=0.017, max_leaves=256, metric=binary_logloss, min_child_samples=2, n_estimators=1450, num_leaves=17, objective=binary, reg_alpha=0.65, reg_lambda=0.8, subsample=0.68\n",
      "[LightGBM] [Warning] num_leaves is set=17, max_leaves=256 will be ignored. Current value: num_leaves=17\n",
      "[CV 2/2; 17/20] END boosting_type=gbdt, colsample_bytree=0.73, learning_rate=0.017, max_leaves=256, metric=binary_logloss, min_child_samples=2, n_estimators=1450, num_leaves=17, objective=binary, reg_alpha=0.65, reg_lambda=0.8, subsample=0.68;, score=(train=0.995, test=0.995) total time= 2.5min\n",
      "[CV 1/2; 18/20] START boosting_type=gbdt, colsample_bytree=0.65, learning_rate=0.017, max_leaves=64, metric=binary_logloss, min_child_samples=3, n_estimators=1475, num_leaves=12, objective=binary, reg_alpha=0.75, reg_lambda=0.8, subsample=0.75\n",
      "[LightGBM] [Warning] num_leaves is set=12, max_leaves=64 will be ignored. Current value: num_leaves=12\n",
      "[CV 1/2; 18/20] END boosting_type=gbdt, colsample_bytree=0.65, learning_rate=0.017, max_leaves=64, metric=binary_logloss, min_child_samples=3, n_estimators=1475, num_leaves=12, objective=binary, reg_alpha=0.75, reg_lambda=0.8, subsample=0.75;, score=(train=0.995, test=0.995) total time= 2.3min\n",
      "[CV 2/2; 18/20] START boosting_type=gbdt, colsample_bytree=0.65, learning_rate=0.017, max_leaves=64, metric=binary_logloss, min_child_samples=3, n_estimators=1475, num_leaves=12, objective=binary, reg_alpha=0.75, reg_lambda=0.8, subsample=0.75\n",
      "[LightGBM] [Warning] num_leaves is set=12, max_leaves=64 will be ignored. Current value: num_leaves=12\n",
      "[CV 2/2; 18/20] END boosting_type=gbdt, colsample_bytree=0.65, learning_rate=0.017, max_leaves=64, metric=binary_logloss, min_child_samples=3, n_estimators=1475, num_leaves=12, objective=binary, reg_alpha=0.75, reg_lambda=0.8, subsample=0.75;, score=(train=0.995, test=0.995) total time= 2.3min\n",
      "[CV 1/2; 19/20] START boosting_type=gbdt, colsample_bytree=0.73, learning_rate=0.019, max_leaves=64, metric=binary_logloss, min_child_samples=2, n_estimators=1550, num_leaves=12, objective=binary, reg_alpha=0.75, reg_lambda=0.85, subsample=0.73\n",
      "[LightGBM] [Warning] num_leaves is set=12, max_leaves=64 will be ignored. Current value: num_leaves=12\n",
      "[CV 1/2; 19/20] END boosting_type=gbdt, colsample_bytree=0.73, learning_rate=0.019, max_leaves=64, metric=binary_logloss, min_child_samples=2, n_estimators=1550, num_leaves=12, objective=binary, reg_alpha=0.75, reg_lambda=0.85, subsample=0.73;, score=(train=0.995, test=0.995) total time= 2.5min\n",
      "[CV 2/2; 19/20] START boosting_type=gbdt, colsample_bytree=0.73, learning_rate=0.019, max_leaves=64, metric=binary_logloss, min_child_samples=2, n_estimators=1550, num_leaves=12, objective=binary, reg_alpha=0.75, reg_lambda=0.85, subsample=0.73\n",
      "[LightGBM] [Warning] num_leaves is set=12, max_leaves=64 will be ignored. Current value: num_leaves=12\n",
      "[CV 2/2; 19/20] END boosting_type=gbdt, colsample_bytree=0.73, learning_rate=0.019, max_leaves=64, metric=binary_logloss, min_child_samples=2, n_estimators=1550, num_leaves=12, objective=binary, reg_alpha=0.75, reg_lambda=0.85, subsample=0.73;, score=(train=0.995, test=0.995) total time= 2.5min\n",
      "[CV 1/2; 20/20] START boosting_type=gbdt, colsample_bytree=0.68, learning_rate=0.017, max_leaves=64, metric=binary_logloss, min_child_samples=2, n_estimators=1450, num_leaves=15, objective=binary, reg_alpha=0.85, reg_lambda=0.8, subsample=0.73\n",
      "[LightGBM] [Warning] num_leaves is set=15, max_leaves=64 will be ignored. Current value: num_leaves=15\n",
      "[CV 1/2; 20/20] END boosting_type=gbdt, colsample_bytree=0.68, learning_rate=0.017, max_leaves=64, metric=binary_logloss, min_child_samples=2, n_estimators=1450, num_leaves=15, objective=binary, reg_alpha=0.85, reg_lambda=0.8, subsample=0.73;, score=(train=0.995, test=0.995) total time= 2.4min\n",
      "[CV 2/2; 20/20] START boosting_type=gbdt, colsample_bytree=0.68, learning_rate=0.017, max_leaves=64, metric=binary_logloss, min_child_samples=2, n_estimators=1450, num_leaves=15, objective=binary, reg_alpha=0.85, reg_lambda=0.8, subsample=0.73\n",
      "[LightGBM] [Warning] num_leaves is set=15, max_leaves=64 will be ignored. Current value: num_leaves=15\n",
      "[CV 2/2; 20/20] END boosting_type=gbdt, colsample_bytree=0.68, learning_rate=0.017, max_leaves=64, metric=binary_logloss, min_child_samples=2, n_estimators=1450, num_leaves=15, objective=binary, reg_alpha=0.85, reg_lambda=0.8, subsample=0.73;, score=(train=0.995, test=0.995) total time= 2.4min\n",
      "[LightGBM] [Warning] num_leaves is set=12, max_leaves=32 will be ignored. Current value: num_leaves=12\n",
      "CPU times: user 7h 12min 56s, sys: 2min 55s, total: 7h 15min 51s\n",
      "Wall time: 1h 57min 5s\n"
     ]
    },
    {
     "data": {
      "text/plain": [
       "RandomizedSearchCV(cv=2, estimator=LGBMClassifier(), n_iter=20,\n",
       "                   param_distributions={'boosting_type': ['gbdt'],\n",
       "                                        'colsample_bytree': [0.65, 0.68, 0.7,\n",
       "                                                             0.73, 0.75],\n",
       "                                        'learning_rate': [0.011, 0.013, 0.015,\n",
       "                                                          0.017, 0.019],\n",
       "                                        'max_leaves': [16, 32, 64, 128, 256],\n",
       "                                        'metric': ['binary_logloss'],\n",
       "                                        'min_child_samples': [1, 2, 3, 4, 5],\n",
       "                                        'n_estimators': [1450, 1475, 1500, 1525,\n",
       "                                                         1550],\n",
       "                                        'num_leaves': [12, 13, 14, 15, 16, 17],\n",
       "                                        'objective': ['binary'],\n",
       "                                        'reg_alpha': [0.65, 0.7, 0.75, 0.8,\n",
       "                                                      0.85],\n",
       "                                        'reg_lambda': [0.65, 0.7, 0.75, 0.8,\n",
       "                                                       0.85],\n",
       "                                        'subsample': [0.65, 0.68, 0.7, 0.73,\n",
       "                                                      0.75]},\n",
       "                   random_state=42, return_train_score=True, verbose=10)"
      ]
     },
     "execution_count": 37,
     "metadata": {},
     "output_type": "execute_result"
    }
   ],
   "source": [
    "%%time \n",
    "lbg_clf_grid2.fit(train_features, train_labels)"
   ]
  },
  {
   "cell_type": "code",
   "execution_count": 38,
   "id": "e7216a1e",
   "metadata": {},
   "outputs": [
    {
     "data": {
      "text/plain": [
       "{'subsample': 0.75,\n",
       " 'reg_lambda': 0.85,\n",
       " 'reg_alpha': 0.65,\n",
       " 'objective': 'binary',\n",
       " 'num_leaves': 12,\n",
       " 'n_estimators': 1475,\n",
       " 'min_child_samples': 5,\n",
       " 'metric': 'binary_logloss',\n",
       " 'max_leaves': 32,\n",
       " 'learning_rate': 0.013,\n",
       " 'colsample_bytree': 0.75,\n",
       " 'boosting_type': 'gbdt'}"
      ]
     },
     "execution_count": 38,
     "metadata": {},
     "output_type": "execute_result"
    }
   ],
   "source": [
    "lbg_clf_grid2.best_params_"
   ]
  },
  {
   "cell_type": "code",
   "execution_count": 39,
   "id": "5cde6512",
   "metadata": {},
   "outputs": [
    {
     "data": {
      "text/plain": [
       "0.9948904628321562"
      ]
     },
     "execution_count": 39,
     "metadata": {},
     "output_type": "execute_result"
    }
   ],
   "source": [
    "lbg_clf_grid2.best_score_"
   ]
  },
  {
   "cell_type": "code",
   "execution_count": 41,
   "id": "d09a5f91",
   "metadata": {},
   "outputs": [
    {
     "data": {
      "text/plain": [
       "{'boosting_type': 'gbdt',\n",
       " 'class_weight': None,\n",
       " 'colsample_bytree': 0.75,\n",
       " 'importance_type': 'split',\n",
       " 'learning_rate': 0.13,\n",
       " 'max_depth': -1,\n",
       " 'min_child_samples': 5,\n",
       " 'min_child_weight': 0.001,\n",
       " 'min_split_gain': 0.0,\n",
       " 'n_estimators': 1475,\n",
       " 'n_jobs': -1,\n",
       " 'num_leaves': 12,\n",
       " 'objective': 'binary',\n",
       " 'random_state': None,\n",
       " 'reg_alpha': 0.65,\n",
       " 'reg_lambda': 0.85,\n",
       " 'silent': 'warn',\n",
       " 'subsample': 0.75,\n",
       " 'subsample_for_bin': 200000,\n",
       " 'subsample_freq': 0,\n",
       " 'metric': 'binary_logloss',\n",
       " 'max_leaves': 32}"
      ]
     },
     "execution_count": 41,
     "metadata": {},
     "output_type": "execute_result"
    }
   ],
   "source": [
    "lbg_clfparm2 = {\n",
    "\"objective\" : \"binary\", #Binary Classification model to predict whether customer will return during test window\n",
    "\"metric\" : \"binary_logloss\", #Performance metric as \"Binary Logloss\"\n",
    "\"max_leaves\": 32, #Maximum number of nodes to be added.\n",
    "\"num_leaves\" : 12, #number of leaves in full tree\n",
    "\"min_child_samples\" : 5, #Minimum number of data points needed in a child (leaf) node.\n",
    "\"learning_rate\" : 0.13, #Learning rate\n",
    "\"subsample\" : 0.75, #this will randomly select part of data without resampling\n",
    "\"colsample_bytree\" : 0.75, #LightGBM will select 80% of features before training each tree\n",
    "\"n_estimators\" : 1475, #number of boosting iterations\n",
    "\"reg_alpha\" : 0.65, #L1 regularization\n",
    "\"reg_lambda\": 0.85, #L2 regularization\n",
    "\"boosting_type\" : \"gbdt\"}\n",
    "\n",
    "lbgclf2 = lgb.LGBMClassifier(**lbg_clfparm2)\n",
    "#lgbm_clf.set_params(**lbg_clfparm)                        \n",
    "lbgclf2.get_params() "
   ]
  },
  {
   "cell_type": "code",
   "execution_count": 42,
   "id": "f080ca06",
   "metadata": {},
   "outputs": [
    {
     "name": "stdout",
     "output_type": "stream",
     "text": [
      "[LightGBM] [Warning] num_leaves is set=12, max_leaves=32 will be ignored. Current value: num_leaves=12\n",
      "CPU times: user 15min 1s, sys: 5.88 s, total: 15min 7s\n",
      "Wall time: 3min 58s\n"
     ]
    },
    {
     "data": {
      "text/plain": [
       "LGBMClassifier(colsample_bytree=0.75, learning_rate=0.13, max_leaves=32,\n",
       "               metric='binary_logloss', min_child_samples=5, n_estimators=1475,\n",
       "               num_leaves=12, objective='binary', reg_alpha=0.65,\n",
       "               reg_lambda=0.85, subsample=0.75)"
      ]
     },
     "execution_count": 42,
     "metadata": {},
     "output_type": "execute_result"
    }
   ],
   "source": [
    "%%time\n",
    "lbgclf2.fit(train_features, train_labels)"
   ]
  },
  {
   "cell_type": "code",
   "execution_count": 11,
   "id": "f77d1899",
   "metadata": {},
   "outputs": [],
   "source": [
    "lbg_clfparm2 = {\n",
    "\"objective\" : \"binary\", #Binary Classification model to predict whether customer will return during test window\n",
    "\"metric\" : \"binary_logloss\", #Performance metric as \"Binary Logloss\"\n",
    "\"max_leaves\": 32, #Maximum number of nodes to be added.\n",
    "\"num_leaves\" : 2, #number of leaves in full tree\n",
    "\"min_child_samples\" : 10, #Minimum number of data points needed in a child (leaf) node.\n",
    "\"learning_rate\" : 0.1, #Learning rate\n",
    "\"subsample\" : 0.7, #this will randomly select part of data without resampling\n",
    "\"colsample_bytree\" : 0.6, #LightGBM will select 80% of features before training each tree\n",
    "\"bagging_frequency\" : 1, #Perform bagging at every k iteration\n",
    "\"n_estimators\" : 275, #number of boosting iterations\n",
    "\"reg_alpha\" : 1, #L1 regularization\n",
    "\"reg_lambda\": 0.75, #L2 regularization\n",
    "\"boosting_type\" : \"gbdt\"}"
   ]
  },
  {
   "cell_type": "code",
   "execution_count": 12,
   "id": "1f5b6a2f",
   "metadata": {},
   "outputs": [],
   "source": [
    "lbgclf2 = lgb.LGBMClassifier(**lbg_clfparm2)"
   ]
  },
  {
   "cell_type": "code",
   "execution_count": 19,
   "id": "84676af8",
   "metadata": {},
   "outputs": [
    {
     "name": "stdout",
     "output_type": "stream",
     "text": [
      "CPU times: user 3min 57s, sys: 4.52 s, total: 4min 2s\n",
      "Wall time: 1min 11s\n"
     ]
    },
    {
     "data": {
      "text/plain": [
       "LGBMClassifier(bagging_frequency=1, colsample_bytree=0.6, max_leaves=32,\n",
       "               metric='binary_logloss', min_child_samples=10, n_estimators=275,\n",
       "               num_leaves=2, objective='binary', reg_alpha=1, reg_lambda=0.75,\n",
       "               subsample=0.7)"
      ]
     },
     "execution_count": 19,
     "metadata": {},
     "output_type": "execute_result"
    }
   ],
   "source": [
    "%%time\n",
    "lbgclf2.fit(clf_features, clf_target)"
   ]
  },
  {
   "cell_type": "code",
   "execution_count": 43,
   "id": "ae06ebbd",
   "metadata": {
    "scrolled": true
   },
   "outputs": [
    {
     "data": {
      "text/plain": [
       "<sklearn.metrics._plot.confusion_matrix.ConfusionMatrixDisplay at 0x7f9f8f007550>"
      ]
     },
     "execution_count": 43,
     "metadata": {},
     "output_type": "execute_result"
    },
    {
     "data": {
      "image/png": "[encoded data removed]",
      "text/plain": [
       "<Figure size 432x288 with 2 Axes>"
      ]
     },
     "metadata": {
      "needs_background": "light"
     },
     "output_type": "display_data"
    }
   ],
   "source": [
    "#https://scikit-learn.org/stable/modules/generated/\n",
    "#sklearn.metrics.ConfusionMatrixDisplay.html#sklearn.metrics.ConfusionMatrixDisplay.from_predictions\n",
    "#\n",
    "#Classifier confusion matrix\n",
    "y_pred_lbg2 = lbgclf2.predict(test_features)\n",
    "ConfusionMatrixDisplay.from_predictions(test_labels, y_pred_lbg2)"
   ]
  },
  {
   "cell_type": "markdown",
   "id": "cf383f30",
   "metadata": {},
   "source": [
    "###  6.3.2 LBG regression model :"
   ]
  },
  {
   "cell_type": "code",
   "execution_count": 44,
   "id": "7659f3b0",
   "metadata": {},
   "outputs": [],
   "source": [
    " gridParams_reg = {\n",
    "'learning_rate': [ 0.01,0.02,0.025,0.03,0.04,0.05], #Learning rate\n",
    "'n_estimators': [int(x) for x in np.linspace(start = 100, stop =2000, num = 15)],\n",
    "'num_leaves': [ 2,3,5,7,9,11,13,15], #number of leaves in full tree\n",
    "'boosting_type' : ['gbdt' ],\n",
    "'objective' : ['regression'], #Regression model to predict transaction amount\n",
    "'metric' : ['rmse'], #Performance metric as \"RMSE\n",
    "'colsample_bytree' : [0.2,0.4,0.6,0.8,0.9, 1], #  select features before training each tree\n",
    "'subsample' : [0.5,0.6,0.7,0.8,0.9, 1], #   select part of data without resampling\n",
    "'reg_alpha' : [0,0.5,1], #L1 regularization\n",
    "'reg_lambda' : [0,0.5,1], #L2 regularization\n",
    "'max_leaves': [32,64,128,256], #Max  nodes  added.\n",
    "'min_child_samples' : [1,2,3,4,5,7,10,15,20] #Min data points in child (leaf) node.\n",
    "}"
   ]
  },
  {
   "cell_type": "code",
   "execution_count": 47,
   "id": "4e79b82a",
   "metadata": {},
   "outputs": [],
   "source": [
    "# Define LightGBM Regressor model\n",
    "lbgreg = lgb.LGBMRegressor()\n",
    "\n",
    "lbg_reg_grid = RandomizedSearchCV(estimator=lbgreg, param_distributions=gridParams_reg,\n",
    "                              n_iter =20, \n",
    "                              cv = 2, verbose=10, random_state=42,  \n",
    "                              return_train_score=True)"
   ]
  },
  {
   "cell_type": "code",
   "execution_count": 48,
   "id": "b98fc27f",
   "metadata": {},
   "outputs": [
    {
     "name": "stdout",
     "output_type": "stream",
     "text": [
      "Fitting 2 folds for each of 20 candidates, totalling 40 fits\n",
      "[CV 1/2; 1/20] START boosting_type=gbdt, colsample_bytree=0.9, learning_rate=0.03, max_leaves=128, metric=rmse, min_child_samples=2, n_estimators=507, num_leaves=15, objective=regression, reg_alpha=0.5, reg_lambda=1, subsample=0.9\n",
      "[CV 1/2; 1/20] END boosting_type=gbdt, colsample_bytree=0.9, learning_rate=0.03, max_leaves=128, metric=rmse, min_child_samples=2, n_estimators=507, num_leaves=15, objective=regression, reg_alpha=0.5, reg_lambda=1, subsample=0.9;, score=(train=0.824, test=0.058) total time=   1.4s\n",
      "[CV 2/2; 1/20] START boosting_type=gbdt, colsample_bytree=0.9, learning_rate=0.03, max_leaves=128, metric=rmse, min_child_samples=2, n_estimators=507, num_leaves=15, objective=regression, reg_alpha=0.5, reg_lambda=1, subsample=0.9\n",
      "[LightGBM] [Warning] num_leaves is set=15, max_leaves=128 will be ignored. Current value: num_leaves=15\n",
      "[CV 2/2; 1/20] END boosting_type=gbdt, colsample_bytree=0.9, learning_rate=0.03, max_leaves=128, metric=rmse, min_child_samples=2, n_estimators=507, num_leaves=15, objective=regression, reg_alpha=0.5, reg_lambda=1, subsample=0.9;, score=(train=0.808, test=-0.101) total time=   1.4s\n",
      "[CV 1/2; 2/20] START boosting_type=gbdt, colsample_bytree=0.9, learning_rate=0.04, max_leaves=32, metric=rmse, min_child_samples=3, n_estimators=1864, num_leaves=9, objective=regression, reg_alpha=0, reg_lambda=0, subsample=0.7\n",
      "[LightGBM] [Warning] num_leaves is set=9, max_leaves=32 will be ignored. Current value: num_leaves=9\n",
      "[CV 1/2; 2/20] END boosting_type=gbdt, colsample_bytree=0.9, learning_rate=0.04, max_leaves=32, metric=rmse, min_child_samples=3, n_estimators=1864, num_leaves=9, objective=regression, reg_alpha=0, reg_lambda=0, subsample=0.7;, score=(train=0.972, test=0.029) total time=   2.8s\n",
      "[CV 2/2; 2/20] START boosting_type=gbdt, colsample_bytree=0.9, learning_rate=0.04, max_leaves=32, metric=rmse, min_child_samples=3, n_estimators=1864, num_leaves=9, objective=regression, reg_alpha=0, reg_lambda=0, subsample=0.7\n",
      "[LightGBM] [Warning] num_leaves is set=9, max_leaves=32 will be ignored. Current value: num_leaves=9\n",
      "[CV 2/2; 2/20] END boosting_type=gbdt, colsample_bytree=0.9, learning_rate=0.04, max_leaves=32, metric=rmse, min_child_samples=3, n_estimators=1864, num_leaves=9, objective=regression, reg_alpha=0, reg_lambda=0, subsample=0.7;, score=(train=0.963, test=-0.211) total time=   2.8s\n",
      "[CV 1/2; 3/20] START boosting_type=gbdt, colsample_bytree=0.8, learning_rate=0.01, max_leaves=64, metric=rmse, min_child_samples=15, n_estimators=642, num_leaves=5, objective=regression, reg_alpha=0, reg_lambda=1, subsample=0.9\n",
      "[LightGBM] [Warning] num_leaves is set=5, max_leaves=64 will be ignored. Current value: num_leaves=5\n",
      "[CV 1/2; 3/20] END boosting_type=gbdt, colsample_bytree=0.8, learning_rate=0.01, max_leaves=64, metric=rmse, min_child_samples=15, n_estimators=642, num_leaves=5, objective=regression, reg_alpha=0, reg_lambda=1, subsample=0.9;, score=(train=0.219, test=0.071) total time=   0.7s\n",
      "[CV 2/2; 3/20] START boosting_type=gbdt, colsample_bytree=0.8, learning_rate=0.01, max_leaves=64, metric=rmse, min_child_samples=15, n_estimators=642, num_leaves=5, objective=regression, reg_alpha=0, reg_lambda=1, subsample=0.9\n",
      "[LightGBM] [Warning] num_leaves is set=5, max_leaves=64 will be ignored. Current value: num_leaves=5\n",
      "[CV 2/2; 3/20] END boosting_type=gbdt, colsample_bytree=0.8, learning_rate=0.01, max_leaves=64, metric=rmse, min_child_samples=15, n_estimators=642, num_leaves=5, objective=regression, reg_alpha=0, reg_lambda=1, subsample=0.9;, score=(train=0.324, test=-0.013) total time=   0.7s\n",
      "[CV 1/2; 4/20] START boosting_type=gbdt, colsample_bytree=0.4, learning_rate=0.03, max_leaves=128, metric=rmse, min_child_samples=3, n_estimators=1728, num_leaves=7, objective=regression, reg_alpha=0.5, reg_lambda=0, subsample=1\n",
      "[LightGBM] [Warning] num_leaves is set=7, max_leaves=128 will be ignored. Current value: num_leaves=7\n",
      "[CV 1/2; 4/20] END boosting_type=gbdt, colsample_bytree=0.4, learning_rate=0.03, max_leaves=128, metric=rmse, min_child_samples=3, n_estimators=1728, num_leaves=7, objective=regression, reg_alpha=0.5, reg_lambda=0, subsample=1;, score=(train=0.867, test=0.036) total time=   1.6s\n",
      "[CV 2/2; 4/20] START boosting_type=gbdt, colsample_bytree=0.4, learning_rate=0.03, max_leaves=128, metric=rmse, min_child_samples=3, n_estimators=1728, num_leaves=7, objective=regression, reg_alpha=0.5, reg_lambda=0, subsample=1\n",
      "[LightGBM] [Warning] num_leaves is set=7, max_leaves=128 will be ignored. Current value: num_leaves=7\n",
      "[CV 2/2; 4/20] END boosting_type=gbdt, colsample_bytree=0.4, learning_rate=0.03, max_leaves=128, metric=rmse, min_child_samples=3, n_estimators=1728, num_leaves=7, objective=regression, reg_alpha=0.5, reg_lambda=0, subsample=1;, score=(train=0.848, test=-0.157) total time=   1.6s\n",
      "[CV 1/2; 5/20] START boosting_type=gbdt, colsample_bytree=1, learning_rate=0.01, max_leaves=256, metric=rmse, min_child_samples=5, n_estimators=1592, num_leaves=7, objective=regression, reg_alpha=0.5, reg_lambda=0, subsample=0.5\n",
      "[LightGBM] [Warning] num_leaves is set=7, max_leaves=256 will be ignored. Current value: num_leaves=7\n",
      "[CV 1/2; 5/20] END boosting_type=gbdt, colsample_bytree=1, learning_rate=0.01, max_leaves=256, metric=rmse, min_child_samples=5, n_estimators=1592, num_leaves=7, objective=regression, reg_alpha=0.5, reg_lambda=0, subsample=0.5;, score=(train=0.572, test=0.084) total time=   2.6s\n",
      "[CV 2/2; 5/20] START boosting_type=gbdt, colsample_bytree=1, learning_rate=0.01, max_leaves=256, metric=rmse, min_child_samples=5, n_estimators=1592, num_leaves=7, objective=regression, reg_alpha=0.5, reg_lambda=0, subsample=0.5\n",
      "[LightGBM] [Warning] num_leaves is set=7, max_leaves=256 will be ignored. Current value: num_leaves=7\n",
      "[CV 2/2; 5/20] END boosting_type=gbdt, colsample_bytree=1, learning_rate=0.01, max_leaves=256, metric=rmse, min_child_samples=5, n_estimators=1592, num_leaves=7, objective=regression, reg_alpha=0.5, reg_lambda=0, subsample=0.5;, score=(train=0.579, test=-0.066) total time=   2.6s\n",
      "[CV 1/2; 6/20] START boosting_type=gbdt, colsample_bytree=0.8, learning_rate=0.02, max_leaves=32, metric=rmse, min_child_samples=10, n_estimators=371, num_leaves=15, objective=regression, reg_alpha=0.5, reg_lambda=0.5, subsample=1\n",
      "[LightGBM] [Warning] num_leaves is set=15, max_leaves=32 will be ignored. Current value: num_leaves=15\n",
      "[CV 1/2; 6/20] END boosting_type=gbdt, colsample_bytree=0.8, learning_rate=0.02, max_leaves=32, metric=rmse, min_child_samples=10, n_estimators=371, num_leaves=15, objective=regression, reg_alpha=0.5, reg_lambda=0.5, subsample=1;, score=(train=0.587, test=0.071) total time=   0.9s\n",
      "[CV 2/2; 6/20] START boosting_type=gbdt, colsample_bytree=0.8, learning_rate=0.02, max_leaves=32, metric=rmse, min_child_samples=10, n_estimators=371, num_leaves=15, objective=regression, reg_alpha=0.5, reg_lambda=0.5, subsample=1\n",
      "[LightGBM] [Warning] num_leaves is set=15, max_leaves=32 will be ignored. Current value: num_leaves=15\n",
      "[CV 2/2; 6/20] END boosting_type=gbdt, colsample_bytree=0.8, learning_rate=0.02, max_leaves=32, metric=rmse, min_child_samples=10, n_estimators=371, num_leaves=15, objective=regression, reg_alpha=0.5, reg_lambda=0.5, subsample=1;, score=(train=0.622, test=-0.042) total time=   0.9s\n",
      "[CV 1/2; 7/20] START boosting_type=gbdt, colsample_bytree=0.8, learning_rate=0.02, max_leaves=64, metric=rmse, min_child_samples=7, n_estimators=235, num_leaves=7, objective=regression, reg_alpha=0.5, reg_lambda=1, subsample=1\n",
      "[LightGBM] [Warning] num_leaves is set=7, max_leaves=64 will be ignored. Current value: num_leaves=7\n",
      "[CV 1/2; 7/20] END boosting_type=gbdt, colsample_bytree=0.8, learning_rate=0.02, max_leaves=64, metric=rmse, min_child_samples=7, n_estimators=235, num_leaves=7, objective=regression, reg_alpha=0.5, reg_lambda=1, subsample=1;, score=(train=0.281, test=0.089) total time=   0.4s\n",
      "[CV 2/2; 7/20] START boosting_type=gbdt, colsample_bytree=0.8, learning_rate=0.02, max_leaves=64, metric=rmse, min_child_samples=7, n_estimators=235, num_leaves=7, objective=regression, reg_alpha=0.5, reg_lambda=1, subsample=1\n",
      "[LightGBM] [Warning] num_leaves is set=7, max_leaves=64 will be ignored. Current value: num_leaves=7\n",
      "[CV 2/2; 7/20] END boosting_type=gbdt, colsample_bytree=0.8, learning_rate=0.02, max_leaves=64, metric=rmse, min_child_samples=7, n_estimators=235, num_leaves=7, objective=regression, reg_alpha=0.5, reg_lambda=1, subsample=1;, score=(train=0.365, test=-0.013) total time=   0.4s\n",
      "[CV 1/2; 8/20] START boosting_type=gbdt, colsample_bytree=1, learning_rate=0.02, max_leaves=128, metric=rmse, min_child_samples=20, n_estimators=1457, num_leaves=13, objective=regression, reg_alpha=1, reg_lambda=1, subsample=0.5\n",
      "[LightGBM] [Warning] num_leaves is set=13, max_leaves=128 will be ignored. Current value: num_leaves=13\n",
      "[CV 1/2; 8/20] END boosting_type=gbdt, colsample_bytree=1, learning_rate=0.02, max_leaves=128, metric=rmse, min_child_samples=20, n_estimators=1457, num_leaves=13, objective=regression, reg_alpha=1, reg_lambda=1, subsample=0.5;, score=(train=0.780, test=0.032) total time=   3.6s\n",
      "[CV 2/2; 8/20] START boosting_type=gbdt, colsample_bytree=1, learning_rate=0.02, max_leaves=128, metric=rmse, min_child_samples=20, n_estimators=1457, num_leaves=13, objective=regression, reg_alpha=1, reg_lambda=1, subsample=0.5\n",
      "[LightGBM] [Warning] num_leaves is set=13, max_leaves=128 will be ignored. Current value: num_leaves=13\n",
      "[CV 2/2; 8/20] END boosting_type=gbdt, colsample_bytree=1, learning_rate=0.02, max_leaves=128, metric=rmse, min_child_samples=20, n_estimators=1457, num_leaves=13, objective=regression, reg_alpha=1, reg_lambda=1, subsample=0.5;, score=(train=0.805, test=-0.099) total time=   3.6s\n",
      "[CV 1/2; 9/20] START boosting_type=gbdt, colsample_bytree=0.8, learning_rate=0.03, max_leaves=64, metric=rmse, min_child_samples=4, n_estimators=1592, num_leaves=5, objective=regression, reg_alpha=0, reg_lambda=0, subsample=1\n",
      "[LightGBM] [Warning] num_leaves is set=5, max_leaves=64 will be ignored. Current value: num_leaves=5\n",
      "[CV 1/2; 9/20] END boosting_type=gbdt, colsample_bytree=0.8, learning_rate=0.03, max_leaves=64, metric=rmse, min_child_samples=4, n_estimators=1592, num_leaves=5, objective=regression, reg_alpha=0, reg_lambda=0, subsample=1;, score=(train=0.697, test=0.045) total time=   1.6s\n",
      "[CV 2/2; 9/20] START boosting_type=gbdt, colsample_bytree=0.8, learning_rate=0.03, max_leaves=64, metric=rmse, min_child_samples=4, n_estimators=1592, num_leaves=5, objective=regression, reg_alpha=0, reg_lambda=0, subsample=1\n",
      "[LightGBM] [Warning] num_leaves is set=5, max_leaves=64 will be ignored. Current value: num_leaves=5\n",
      "[CV 2/2; 9/20] END boosting_type=gbdt, colsample_bytree=0.8, learning_rate=0.03, max_leaves=64, metric=rmse, min_child_samples=4, n_estimators=1592, num_leaves=5, objective=regression, reg_alpha=0, reg_lambda=0, subsample=1;, score=(train=0.698, test=-0.131) total time=   1.6s\n",
      "[CV 1/2; 10/20] START boosting_type=gbdt, colsample_bytree=0.4, learning_rate=0.02, max_leaves=128, metric=rmse, min_child_samples=3, n_estimators=1457, num_leaves=2, objective=regression, reg_alpha=0, reg_lambda=0.5, subsample=1\n",
      "[LightGBM] [Warning] num_leaves is set=2, max_leaves=128 will be ignored. Current value: num_leaves=2\n",
      "[CV 1/2; 10/20] END boosting_type=gbdt, colsample_bytree=0.4, learning_rate=0.02, max_leaves=128, metric=rmse, min_child_samples=3, n_estimators=1457, num_leaves=2, objective=regression, reg_alpha=0, reg_lambda=0.5, subsample=1;, score=(train=0.106, test=0.045) total time=   0.6s\n",
      "[CV 2/2; 10/20] START boosting_type=gbdt, colsample_bytree=0.4, learning_rate=0.02, max_leaves=128, metric=rmse, min_child_samples=3, n_estimators=1457, num_leaves=2, objective=regression, reg_alpha=0, reg_lambda=0.5, subsample=1\n",
      "[LightGBM] [Warning] num_leaves is set=2, max_leaves=128 will be ignored. Current value: num_leaves=2\n",
      "[CV 2/2; 10/20] END boosting_type=gbdt, colsample_bytree=0.4, learning_rate=0.02, max_leaves=128, metric=rmse, min_child_samples=3, n_estimators=1457, num_leaves=2, objective=regression, reg_alpha=0, reg_lambda=0.5, subsample=1;, score=(train=0.236, test=-0.020) total time=   0.6s\n",
      "[CV 1/2; 11/20] START boosting_type=gbdt, colsample_bytree=0.8, learning_rate=0.02, max_leaves=64, metric=rmse, min_child_samples=5, n_estimators=1592, num_leaves=3, objective=regression, reg_alpha=0, reg_lambda=0.5, subsample=0.6\n",
      "[LightGBM] [Warning] num_leaves is set=3, max_leaves=64 will be ignored. Current value: num_leaves=3\n",
      "[CV 1/2; 11/20] END boosting_type=gbdt, colsample_bytree=0.8, learning_rate=0.02, max_leaves=64, metric=rmse, min_child_samples=5, n_estimators=1592, num_leaves=3, objective=regression, reg_alpha=0, reg_lambda=0.5, subsample=0.6;, score=(train=0.273, test=0.067) total time=   1.2s\n",
      "[CV 2/2; 11/20] START boosting_type=gbdt, colsample_bytree=0.8, learning_rate=0.02, max_leaves=64, metric=rmse, min_child_samples=5, n_estimators=1592, num_leaves=3, objective=regression, reg_alpha=0, reg_lambda=0.5, subsample=0.6\n",
      "[LightGBM] [Warning] num_leaves is set=3, max_leaves=64 will be ignored. Current value: num_leaves=3\n",
      "[CV 2/2; 11/20] END boosting_type=gbdt, colsample_bytree=0.8, learning_rate=0.02, max_leaves=64, metric=rmse, min_child_samples=5, n_estimators=1592, num_leaves=3, objective=regression, reg_alpha=0, reg_lambda=0.5, subsample=0.6;, score=(train=0.368, test=-0.043) total time=   1.2s\n",
      "[CV 1/2; 12/20] START boosting_type=gbdt, colsample_bytree=0.9, learning_rate=0.02, max_leaves=256, metric=rmse, min_child_samples=2, n_estimators=2000, num_leaves=15, objective=regression, reg_alpha=0, reg_lambda=0.5, subsample=1\n",
      "[LightGBM] [Warning] num_leaves is set=15, max_leaves=256 will be ignored. Current value: num_leaves=15\n",
      "[CV 1/2; 12/20] END boosting_type=gbdt, colsample_bytree=0.9, learning_rate=0.02, max_leaves=256, metric=rmse, min_child_samples=2, n_estimators=2000, num_leaves=15, objective=regression, reg_alpha=0, reg_lambda=0.5, subsample=1;, score=(train=0.980, test=0.041) total time=   4.5s\n",
      "[CV 2/2; 12/20] START boosting_type=gbdt, colsample_bytree=0.9, learning_rate=0.02, max_leaves=256, metric=rmse, min_child_samples=2, n_estimators=2000, num_leaves=15, objective=regression, reg_alpha=0, reg_lambda=0.5, subsample=1\n",
      "[LightGBM] [Warning] num_leaves is set=15, max_leaves=256 will be ignored. Current value: num_leaves=15\n",
      "[CV 2/2; 12/20] END boosting_type=gbdt, colsample_bytree=0.9, learning_rate=0.02, max_leaves=256, metric=rmse, min_child_samples=2, n_estimators=2000, num_leaves=15, objective=regression, reg_alpha=0, reg_lambda=0.5, subsample=1;, score=(train=0.970, test=-0.188) total time=   4.5s\n",
      "[CV 1/2; 13/20] START boosting_type=gbdt, colsample_bytree=0.6, learning_rate=0.025, max_leaves=64, metric=rmse, min_child_samples=4, n_estimators=371, num_leaves=9, objective=regression, reg_alpha=0, reg_lambda=0.5, subsample=0.8\n",
      "[LightGBM] [Warning] num_leaves is set=9, max_leaves=64 will be ignored. Current value: num_leaves=9\n",
      "[CV 1/2; 13/20] END boosting_type=gbdt, colsample_bytree=0.6, learning_rate=0.025, max_leaves=64, metric=rmse, min_child_samples=4, n_estimators=371, num_leaves=9, objective=regression, reg_alpha=0, reg_lambda=0.5, subsample=0.8;, score=(train=0.520, test=0.082) total time=   0.5s\n",
      "[CV 2/2; 13/20] START boosting_type=gbdt, colsample_bytree=0.6, learning_rate=0.025, max_leaves=64, metric=rmse, min_child_samples=4, n_estimators=371, num_leaves=9, objective=regression, reg_alpha=0, reg_lambda=0.5, subsample=0.8\n",
      "[LightGBM] [Warning] num_leaves is set=9, max_leaves=64 will be ignored. Current value: num_leaves=9\n",
      "[CV 2/2; 13/20] END boosting_type=gbdt, colsample_bytree=0.6, learning_rate=0.025, max_leaves=64, metric=rmse, min_child_samples=4, n_estimators=371, num_leaves=9, objective=regression, reg_alpha=0, reg_lambda=0.5, subsample=0.8;, score=(train=0.540, test=-0.040) total time=   0.5s\n",
      "[CV 1/2; 14/20] START boosting_type=gbdt, colsample_bytree=0.2, learning_rate=0.01, max_leaves=64, metric=rmse, min_child_samples=10, n_estimators=2000, num_leaves=3, objective=regression, reg_alpha=1, reg_lambda=1, subsample=1\n",
      "[LightGBM] [Warning] num_leaves is set=3, max_leaves=64 will be ignored. Current value: num_leaves=3\n",
      "[CV 1/2; 14/20] END boosting_type=gbdt, colsample_bytree=0.2, learning_rate=0.01, max_leaves=64, metric=rmse, min_child_samples=10, n_estimators=2000, num_leaves=3, objective=regression, reg_alpha=1, reg_lambda=1, subsample=1;, score=(train=0.197, test=0.065) total time=   0.8s\n",
      "[CV 2/2; 14/20] START boosting_type=gbdt, colsample_bytree=0.2, learning_rate=0.01, max_leaves=64, metric=rmse, min_child_samples=10, n_estimators=2000, num_leaves=3, objective=regression, reg_alpha=1, reg_lambda=1, subsample=1\n",
      "[LightGBM] [Warning] num_leaves is set=3, max_leaves=64 will be ignored. Current value: num_leaves=3\n",
      "[CV 2/2; 14/20] END boosting_type=gbdt, colsample_bytree=0.2, learning_rate=0.01, max_leaves=64, metric=rmse, min_child_samples=10, n_estimators=2000, num_leaves=3, objective=regression, reg_alpha=1, reg_lambda=1, subsample=1;, score=(train=0.318, test=-0.016) total time=   0.8s\n",
      "[CV 1/2; 15/20] START boosting_type=gbdt, colsample_bytree=0.2, learning_rate=0.05, max_leaves=64, metric=rmse, min_child_samples=7, n_estimators=1864, num_leaves=2, objective=regression, reg_alpha=0, reg_lambda=1, subsample=0.9\n",
      "[LightGBM] [Warning] num_leaves is set=2, max_leaves=64 will be ignored. Current value: num_leaves=2\n",
      "[CV 1/2; 15/20] END boosting_type=gbdt, colsample_bytree=0.2, learning_rate=0.05, max_leaves=64, metric=rmse, min_child_samples=7, n_estimators=1864, num_leaves=2, objective=regression, reg_alpha=0, reg_lambda=1, subsample=0.9;, score=(train=0.153, test=-0.025) total time=   0.7s\n",
      "[CV 2/2; 15/20] START boosting_type=gbdt, colsample_bytree=0.2, learning_rate=0.05, max_leaves=64, metric=rmse, min_child_samples=7, n_estimators=1864, num_leaves=2, objective=regression, reg_alpha=0, reg_lambda=1, subsample=0.9\n",
      "[LightGBM] [Warning] num_leaves is set=2, max_leaves=64 will be ignored. Current value: num_leaves=2\n",
      "[CV 2/2; 15/20] END boosting_type=gbdt, colsample_bytree=0.2, learning_rate=0.05, max_leaves=64, metric=rmse, min_child_samples=7, n_estimators=1864, num_leaves=2, objective=regression, reg_alpha=0, reg_lambda=1, subsample=0.9;, score=(train=0.275, test=-0.038) total time=   0.6s\n",
      "[CV 1/2; 16/20] START boosting_type=gbdt, colsample_bytree=0.9, learning_rate=0.01, max_leaves=64, metric=rmse, min_child_samples=2, n_estimators=371, num_leaves=15, objective=regression, reg_alpha=0.5, reg_lambda=0.5, subsample=0.8\n",
      "[LightGBM] [Warning] num_leaves is set=15, max_leaves=64 will be ignored. Current value: num_leaves=15\n",
      "[CV 1/2; 16/20] END boosting_type=gbdt, colsample_bytree=0.9, learning_rate=0.01, max_leaves=64, metric=rmse, min_child_samples=2, n_estimators=371, num_leaves=15, objective=regression, reg_alpha=0.5, reg_lambda=0.5, subsample=0.8;, score=(train=0.485, test=0.099) total time=   1.1s\n",
      "[CV 2/2; 16/20] START boosting_type=gbdt, colsample_bytree=0.9, learning_rate=0.01, max_leaves=64, metric=rmse, min_child_samples=2, n_estimators=371, num_leaves=15, objective=regression, reg_alpha=0.5, reg_lambda=0.5, subsample=0.8\n",
      "[LightGBM] [Warning] num_leaves is set=15, max_leaves=64 will be ignored. Current value: num_leaves=15\n",
      "[CV 2/2; 16/20] END boosting_type=gbdt, colsample_bytree=0.9, learning_rate=0.01, max_leaves=64, metric=rmse, min_child_samples=2, n_estimators=371, num_leaves=15, objective=regression, reg_alpha=0.5, reg_lambda=0.5, subsample=0.8;, score=(train=0.512, test=-0.045) total time=   1.1s\n",
      "[CV 1/2; 17/20] START boosting_type=gbdt, colsample_bytree=0.9, learning_rate=0.01, max_leaves=128, metric=rmse, min_child_samples=5, n_estimators=642, num_leaves=3, objective=regression, reg_alpha=0, reg_lambda=0, subsample=0.9\n",
      "[LightGBM] [Warning] num_leaves is set=3, max_leaves=128 will be ignored. Current value: num_leaves=3\n",
      "[CV 1/2; 17/20] END boosting_type=gbdt, colsample_bytree=0.9, learning_rate=0.01, max_leaves=128, metric=rmse, min_child_samples=5, n_estimators=642, num_leaves=3, objective=regression, reg_alpha=0, reg_lambda=0, subsample=0.9;, score=(train=0.126, test=0.082) total time=   0.6s\n",
      "[CV 2/2; 17/20] START boosting_type=gbdt, colsample_bytree=0.9, learning_rate=0.01, max_leaves=128, metric=rmse, min_child_samples=5, n_estimators=642, num_leaves=3, objective=regression, reg_alpha=0, reg_lambda=0, subsample=0.9\n",
      "[LightGBM] [Warning] num_leaves is set=3, max_leaves=128 will be ignored. Current value: num_leaves=3\n",
      "[CV 2/2; 17/20] END boosting_type=gbdt, colsample_bytree=0.9, learning_rate=0.01, max_leaves=128, metric=rmse, min_child_samples=5, n_estimators=642, num_leaves=3, objective=regression, reg_alpha=0, reg_lambda=0, subsample=0.9;, score=(train=0.249, test=-0.015) total time=   0.5s\n",
      "[CV 1/2; 18/20] START boosting_type=gbdt, colsample_bytree=0.9, learning_rate=0.025, max_leaves=32, metric=rmse, min_child_samples=15, n_estimators=1050, num_leaves=5, objective=regression, reg_alpha=0.5, reg_lambda=0, subsample=0.5\n",
      "[LightGBM] [Warning] num_leaves is set=5, max_leaves=32 will be ignored. Current value: num_leaves=5\n",
      "[CV 1/2; 18/20] END boosting_type=gbdt, colsample_bytree=0.9, learning_rate=0.025, max_leaves=32, metric=rmse, min_child_samples=15, n_estimators=1050, num_leaves=5, objective=regression, reg_alpha=0.5, reg_lambda=0, subsample=0.5;, score=(train=0.468, test=0.040) total time=   1.3s\n",
      "[CV 2/2; 18/20] START boosting_type=gbdt, colsample_bytree=0.9, learning_rate=0.025, max_leaves=32, metric=rmse, min_child_samples=15, n_estimators=1050, num_leaves=5, objective=regression, reg_alpha=0.5, reg_lambda=0, subsample=0.5\n",
      "[LightGBM] [Warning] num_leaves is set=5, max_leaves=32 will be ignored. Current value: num_leaves=5\n",
      "[CV 2/2; 18/20] END boosting_type=gbdt, colsample_bytree=0.9, learning_rate=0.025, max_leaves=32, metric=rmse, min_child_samples=15, n_estimators=1050, num_leaves=5, objective=regression, reg_alpha=0.5, reg_lambda=0, subsample=0.5;, score=(train=0.520, test=-0.064) total time=   1.3s\n",
      "[CV 1/2; 19/20] START boosting_type=gbdt, colsample_bytree=0.8, learning_rate=0.025, max_leaves=32, metric=rmse, min_child_samples=20, n_estimators=1321, num_leaves=2, objective=regression, reg_alpha=0, reg_lambda=0.5, subsample=1\n",
      "[LightGBM] [Warning] num_leaves is set=2, max_leaves=32 will be ignored. Current value: num_leaves=2\n",
      "[CV 1/2; 19/20] END boosting_type=gbdt, colsample_bytree=0.8, learning_rate=0.025, max_leaves=32, metric=rmse, min_child_samples=20, n_estimators=1321, num_leaves=2, objective=regression, reg_alpha=0, reg_lambda=0.5, subsample=1;, score=(train=0.107, test=0.041) total time=   0.7s\n",
      "[CV 2/2; 19/20] START boosting_type=gbdt, colsample_bytree=0.8, learning_rate=0.025, max_leaves=32, metric=rmse, min_child_samples=20, n_estimators=1321, num_leaves=2, objective=regression, reg_alpha=0, reg_lambda=0.5, subsample=1\n",
      "[LightGBM] [Warning] num_leaves is set=2, max_leaves=32 will be ignored. Current value: num_leaves=2\n",
      "[CV 2/2; 19/20] END boosting_type=gbdt, colsample_bytree=0.8, learning_rate=0.025, max_leaves=32, metric=rmse, min_child_samples=20, n_estimators=1321, num_leaves=2, objective=regression, reg_alpha=0, reg_lambda=0.5, subsample=1;, score=(train=0.234, test=-0.024) total time=   0.7s\n",
      "[CV 1/2; 20/20] START boosting_type=gbdt, colsample_bytree=0.6, learning_rate=0.025, max_leaves=32, metric=rmse, min_child_samples=2, n_estimators=1050, num_leaves=11, objective=regression, reg_alpha=0, reg_lambda=1, subsample=0.8\n",
      "[LightGBM] [Warning] num_leaves is set=11, max_leaves=32 will be ignored. Current value: num_leaves=11\n",
      "[CV 1/2; 20/20] END boosting_type=gbdt, colsample_bytree=0.6, learning_rate=0.025, max_leaves=32, metric=rmse, min_child_samples=2, n_estimators=1050, num_leaves=11, objective=regression, reg_alpha=0, reg_lambda=1, subsample=0.8;, score=(train=0.851, test=0.040) total time=   1.5s\n",
      "[CV 2/2; 20/20] START boosting_type=gbdt, colsample_bytree=0.6, learning_rate=0.025, max_leaves=32, metric=rmse, min_child_samples=2, n_estimators=1050, num_leaves=11, objective=regression, reg_alpha=0, reg_lambda=1, subsample=0.8\n",
      "[LightGBM] [Warning] num_leaves is set=11, max_leaves=32 will be ignored. Current value: num_leaves=11\n",
      "[CV 2/2; 20/20] END boosting_type=gbdt, colsample_bytree=0.6, learning_rate=0.025, max_leaves=32, metric=rmse, min_child_samples=2, n_estimators=1050, num_leaves=11, objective=regression, reg_alpha=0, reg_lambda=1, subsample=0.8;, score=(train=0.826, test=-0.123) total time=   1.5s\n",
      "[LightGBM] [Warning] num_leaves is set=7, max_leaves=64 will be ignored. Current value: num_leaves=7\n",
      "CPU times: user 3min 56s, sys: 1.23 s, total: 3min 58s\n",
      "Wall time: 1min 2s\n"
     ]
    },
    {
     "data": {
      "text/plain": [
       "RandomizedSearchCV(cv=2, estimator=LGBMRegressor(), n_iter=20,\n",
       "                   param_distributions={'boosting_type': ['gbdt'],\n",
       "                                        'colsample_bytree': [0.2, 0.4, 0.6, 0.8,\n",
       "                                                             0.9, 1],\n",
       "                                        'learning_rate': [0.01, 0.02, 0.025,\n",
       "                                                          0.03, 0.04, 0.05],\n",
       "                                        'max_leaves': [32, 64, 128, 256],\n",
       "                                        'metric': ['rmse'],\n",
       "                                        'min_child_samples': [1, 2, 3, 4, 5, 7,\n",
       "                                                              10, 15, 20],\n",
       "                                        'n_estimators': [100, 235, 371, 507,\n",
       "                                                         642, 778, 914, 1050,\n",
       "                                                         1185, 1321, 1457, 1592,\n",
       "                                                         1728, 1864, 2000],\n",
       "                                        'num_leaves': [2, 3, 5, 7, 9, 11, 13,\n",
       "                                                       15],\n",
       "                                        'objective': ['regression'],\n",
       "                                        'reg_alpha': [0, 0.5, 1],\n",
       "                                        'reg_lambda': [0, 0.5, 1],\n",
       "                                        'subsample': [0.5, 0.6, 0.7, 0.8, 0.9,\n",
       "                                                      1]},\n",
       "                   random_state=42, return_train_score=True, verbose=10)"
      ]
     },
     "execution_count": 48,
     "metadata": {},
     "output_type": "execute_result"
    }
   ],
   "source": [
    "%%time \n",
    "lbg_reg_grid.fit(reg_features, reg_target)"
   ]
  },
  {
   "cell_type": "code",
   "execution_count": 49,
   "id": "7a3b751e",
   "metadata": {},
   "outputs": [
    {
     "data": {
      "text/plain": [
       "{'subsample': 1,\n",
       " 'reg_lambda': 1,\n",
       " 'reg_alpha': 0.5,\n",
       " 'objective': 'regression',\n",
       " 'num_leaves': 7,\n",
       " 'n_estimators': 235,\n",
       " 'min_child_samples': 7,\n",
       " 'metric': 'rmse',\n",
       " 'max_leaves': 64,\n",
       " 'learning_rate': 0.02,\n",
       " 'colsample_bytree': 0.8,\n",
       " 'boosting_type': 'gbdt'}"
      ]
     },
     "execution_count": 49,
     "metadata": {},
     "output_type": "execute_result"
    }
   ],
   "source": [
    "lbg_reg_grid.best_params_"
   ]
  },
  {
   "cell_type": "code",
   "execution_count": 50,
   "id": "c51d947b",
   "metadata": {},
   "outputs": [
    {
     "data": {
      "text/plain": [
       "0.03803305143915936"
      ]
     },
     "execution_count": 50,
     "metadata": {},
     "output_type": "execute_result"
    }
   ],
   "source": [
    "lbg_reg_grid.best_score_ "
   ]
  },
  {
   "cell_type": "code",
   "execution_count": 16,
   "id": "8644dbe6",
   "metadata": {},
   "outputs": [],
   "source": [
    "lbg_regparm = {\n",
    "\"objective\" : \"regression\", #Regression model to predict transaction amount\n",
    "\"metric\" : \"rmse\", #Performance metric as \"RMSE\"\n",
    "\"max_leaves\": 64, #Maximum number of nodes to be added.\n",
    "\"num_leaves\" : 7, #number of leaves in full tree\n",
    "\"min_child_samples\" : 7, #Minimum number of data points needed in a child (leaf) node.\n",
    "\"learning_rate\" : 0.02, #Learning rate\n",
    "\"subsample\" : 1, #this will randomly select part of data without resampling\n",
    "\"colsample_bytree\" : 0.8, #LightGBM will select 80% of features before training each tree\n",
    "\"n_estimators\" :235, #number of boosting iterations\n",
    "\"reg_alpha\" : 0.5, #L1 regularization\n",
    "\"reg_lambda\": 1 , #L2 regularization\n",
    "\"boosting_type\" : \"gbdt\"}"
   ]
  },
  {
   "cell_type": "code",
   "execution_count": 17,
   "id": "8cbb5f97",
   "metadata": {},
   "outputs": [
    {
     "data": {
      "text/plain": [
       "LGBMRegressor(colsample_bytree=0.8, learning_rate=0.02, max_leaves=64,\n",
       "              metric='rmse', min_child_samples=7, n_estimators=235,\n",
       "              num_leaves=7, objective='regression', reg_alpha=0.5, reg_lambda=1,\n",
       "              subsample=1)"
      ]
     },
     "execution_count": 17,
     "metadata": {},
     "output_type": "execute_result"
    }
   ],
   "source": [
    "lbgreg= lgb.LGBMRegressor(**lbg_regparm)\n",
    "lbgreg.fit(reg_features, reg_target)"
   ]
  },
  {
   "cell_type": "code",
   "execution_count": 20,
   "id": "ccdafc25",
   "metadata": {},
   "outputs": [],
   "source": [
    "classifier_pred = lbgclf2.predict_proba(test.drop(target_cols,axis=1))\n",
    "regressor_pred = lbgreg.predict(test.drop(target_cols,axis=1))\n",
    "final_pred = (classifier_pred[:,1]*regressor_pred)"
   ]
  },
  {
   "cell_type": "code",
   "execution_count": 21,
   "id": "b71916b2",
   "metadata": {},
   "outputs": [],
   "source": [
    "pred_df = pd.DataFrame({\"fullVisitorId\":test[\"fullVisitorId\"].values})\n",
    "pred_df[\"PredictedLogRevenue\"] = final_pred\n",
    "pred_df.columns = [\"fullVisitorId\", \"PredictedLogRevenue\"]\n",
    "pred_df.to_csv(\"pred_lbg_models.csv\", index=False)"
   ]
  },
  {
   "cell_type": "code",
   "execution_count": 63,
   "id": "8b29afa0",
   "metadata": {},
   "outputs": [
    {
     "name": "stdout",
     "output_type": "stream",
     "text": [
      "rms = 2.1098107659277883\n",
      "map = 0.26371229802130824\n"
     ]
    }
   ],
   "source": [
    "regr_metric(test_df,pred_df)"
   ]
  },
  {
   "cell_type": "markdown",
   "id": "b6ad0db0",
   "metadata": {},
   "source": [
    "### Kaggle Score\n",
    "The LBGM model kaggle score is 0.88457 which is 21st place in public leaderboard."
   ]
  },
  {
   "attachments": {
    "image.png": {
     "image/png": "[encoded data removed]"
    }
   },
   "cell_type": "markdown",
   "id": "1fa3e709",
   "metadata": {},
   "source": [
    "![image.png](attachment:image.png)"
   ]
  },
  {
   "attachments": {
    "image.png": {
     "image/png": "[encoded data removed]"
    }
   },
   "cell_type": "markdown",
   "id": "17f69ec5",
   "metadata": {},
   "source": [
    "![image.png](attachment:image.png)"
   ]
  },
  {
   "cell_type": "markdown",
   "id": "32c582fd",
   "metadata": {},
   "source": [
    "###  6.3.3 LGBMRegressor Feature Importance :"
   ]
  },
  {
   "cell_type": "code",
   "execution_count": 13,
   "id": "8a28fa47",
   "metadata": {},
   "outputs": [
    {
     "data": {
      "image/png": "[encoded data removed]",
      "text/plain": [
       "<Figure size 648x3888 with 1 Axes>"
      ]
     },
     "metadata": {
      "needs_background": "light"
     },
     "output_type": "display_data"
    }
   ],
   "source": [
    "ax=lgb.plot_importance(lbgreg)\n",
    "ax.figure.set_size_inches(9,54)"
   ]
  },
  {
   "cell_type": "markdown",
   "id": "876569ed",
   "metadata": {},
   "source": [
    "The top 5 features for regression are:  \n",
    "1- totals.transactionRevenue_sum  \n",
    "2- totals.sessionQualityDim_max  \n",
    "3- geoNetwork.country_max  \n",
    "4- totals.hits_max  \n",
    "5- date_min"
   ]
  },
  {
   "cell_type": "markdown",
   "id": "80fb7a66",
   "metadata": {},
   "source": [
    "##  6.5 DecisionTree model"
   ]
  },
  {
   "cell_type": "code",
   "execution_count": 12,
   "id": "2056e2b1",
   "metadata": {},
   "outputs": [
    {
     "data": {
      "text/plain": [
       "{'ccp_alpha': 0.0,\n",
       " 'class_weight': None,\n",
       " 'criterion': 'gini',\n",
       " 'max_depth': None,\n",
       " 'max_features': None,\n",
       " 'max_leaf_nodes': None,\n",
       " 'min_impurity_decrease': 0.0,\n",
       " 'min_samples_leaf': 1,\n",
       " 'min_samples_split': 2,\n",
       " 'min_weight_fraction_leaf': 0.0,\n",
       " 'random_state': None,\n",
       " 'splitter': 'best'}"
      ]
     },
     "execution_count": 12,
     "metadata": {},
     "output_type": "execute_result"
    }
   ],
   "source": [
    "dt_clf=DecisionTreeClassifier()\n",
    "dt_clf.get_params()"
   ]
  },
  {
   "cell_type": "code",
   "execution_count": 13,
   "id": "f7de50b7",
   "metadata": {},
   "outputs": [],
   "source": [
    "# Setup the parameters and distributions to sample from: param_dist\n",
    "param_dist = {\"max_depth\": [ None,1,2,3,4,5,7,10],\n",
    "              \"max_features\": randint(1, 130),\n",
    "              \"min_samples_leaf\": randint(1, 9),\n",
    "              \"criterion\": [\"gini\", \"entropy\"]}"
   ]
  },
  {
   "cell_type": "code",
   "execution_count": 14,
   "id": "9366d716",
   "metadata": {},
   "outputs": [],
   "source": [
    "dt_clf_grid = RandomizedSearchCV(estimator=dt_clf, param_distributions=param_dist,\n",
    "                              n_iter =50, \n",
    "                              cv = 2, verbose=10, random_state=42,  \n",
    "                              return_train_score=True)"
   ]
  },
  {
   "cell_type": "code",
   "execution_count": 15,
   "id": "c4d2a8bf",
   "metadata": {},
   "outputs": [
    {
     "name": "stdout",
     "output_type": "stream",
     "text": [
      "Fitting 2 folds for each of 50 candidates, totalling 100 fits\n",
      "[CV 1/2; 1/50] START criterion=gini, max_depth=3, max_features=93, min_samples_leaf=7\n",
      "[CV 1/2; 1/50] END criterion=gini, max_depth=3, max_features=93, min_samples_leaf=7;, score=(train=0.995, test=0.995) total time=  14.2s\n",
      "[CV 2/2; 1/50] START criterion=gini, max_depth=3, max_features=93, min_samples_leaf=7\n",
      "[CV 2/2; 1/50] END criterion=gini, max_depth=3, max_features=93, min_samples_leaf=7;, score=(train=0.995, test=0.995) total time=  13.9s\n",
      "[CV 1/2; 2/50] START criterion=gini, max_depth=10, max_features=21, min_samples_leaf=7\n",
      "[CV 1/2; 2/50] END criterion=gini, max_depth=10, max_features=21, min_samples_leaf=7;, score=(train=0.995, test=0.995) total time=  12.6s\n",
      "[CV 2/2; 2/50] START criterion=gini, max_depth=10, max_features=21, min_samples_leaf=7\n",
      "[CV 2/2; 2/50] END criterion=gini, max_depth=10, max_features=21, min_samples_leaf=7;, score=(train=0.995, test=0.995) total time=  12.7s\n",
      "[CV 1/2; 3/50] START criterion=entropy, max_depth=2, max_features=75, min_samples_leaf=3\n",
      "[CV 1/2; 3/50] END criterion=entropy, max_depth=2, max_features=75, min_samples_leaf=3;, score=(train=0.995, test=0.995) total time=  11.7s\n",
      "[CV 2/2; 3/50] START criterion=entropy, max_depth=2, max_features=75, min_samples_leaf=3\n",
      "[CV 2/2; 3/50] END criterion=entropy, max_depth=2, max_features=75, min_samples_leaf=3;, score=(train=0.995, test=0.995) total time=  11.8s\n",
      "[CV 1/2; 4/50] START criterion=entropy, max_depth=4, max_features=100, min_samples_leaf=8\n",
      "[CV 1/2; 4/50] END criterion=entropy, max_depth=4, max_features=100, min_samples_leaf=8;, score=(train=0.995, test=0.995) total time=  15.3s\n",
      "[CV 2/2; 4/50] START criterion=entropy, max_depth=4, max_features=100, min_samples_leaf=8\n",
      "[CV 2/2; 4/50] END criterion=entropy, max_depth=4, max_features=100, min_samples_leaf=8;, score=(train=0.995, test=0.995) total time=  15.7s\n",
      "[CV 1/2; 5/50] START criterion=entropy, max_depth=2, max_features=53, min_samples_leaf=2\n",
      "[CV 1/2; 5/50] END criterion=entropy, max_depth=2, max_features=53, min_samples_leaf=2;, score=(train=0.995, test=0.995) total time=  11.3s\n",
      "[CV 2/2; 5/50] START criterion=entropy, max_depth=2, max_features=53, min_samples_leaf=2\n",
      "[CV 2/2; 5/50] END criterion=entropy, max_depth=2, max_features=53, min_samples_leaf=2;, score=(train=0.995, test=0.995) total time=  11.2s\n",
      "[CV 1/2; 6/50] START criterion=entropy, max_depth=3, max_features=38, min_samples_leaf=2\n",
      "[CV 1/2; 6/50] END criterion=entropy, max_depth=3, max_features=38, min_samples_leaf=2;, score=(train=0.995, test=0.995) total time=  11.3s\n",
      "[CV 2/2; 6/50] START criterion=entropy, max_depth=3, max_features=38, min_samples_leaf=2\n",
      "[CV 2/2; 6/50] END criterion=entropy, max_depth=3, max_features=38, min_samples_leaf=2;, score=(train=0.995, test=0.995) total time=  11.4s\n",
      "[CV 1/2; 7/50] START criterion=entropy, max_depth=3, max_features=21, min_samples_leaf=1\n",
      "[CV 1/2; 7/50] END criterion=entropy, max_depth=3, max_features=21, min_samples_leaf=1;, score=(train=0.995, test=0.995) total time=  10.4s\n",
      "[CV 2/2; 7/50] START criterion=entropy, max_depth=3, max_features=21, min_samples_leaf=1\n",
      "[CV 2/2; 7/50] END criterion=entropy, max_depth=3, max_features=21, min_samples_leaf=1;, score=(train=0.995, test=0.995) total time=  10.5s\n",
      "[CV 1/2; 8/50] START criterion=entropy, max_depth=1, max_features=22, min_samples_leaf=5\n",
      "[CV 1/2; 8/50] END criterion=entropy, max_depth=1, max_features=22, min_samples_leaf=5;, score=(train=0.995, test=0.995) total time=   9.8s\n",
      "[CV 2/2; 8/50] START criterion=entropy, max_depth=1, max_features=22, min_samples_leaf=5\n",
      "[CV 2/2; 8/50] END criterion=entropy, max_depth=1, max_features=22, min_samples_leaf=5;, score=(train=0.995, test=0.995) total time=   9.8s\n",
      "[CV 1/2; 9/50] START criterion=entropy, max_depth=None, max_features=49, min_samples_leaf=3\n",
      "[CV 1/2; 9/50] END criterion=entropy, max_depth=None, max_features=49, min_samples_leaf=3;, score=(train=0.997, test=0.991) total time=  19.1s\n",
      "[CV 2/2; 9/50] START criterion=entropy, max_depth=None, max_features=49, min_samples_leaf=3\n",
      "[CV 2/2; 9/50] END criterion=entropy, max_depth=None, max_features=49, min_samples_leaf=3;, score=(train=0.997, test=0.991) total time=  18.5s\n",
      "[CV 1/2; 10/50] START criterion=gini, max_depth=7, max_features=15, min_samples_leaf=6\n",
      "[CV 1/2; 10/50] END criterion=gini, max_depth=7, max_features=15, min_samples_leaf=6;, score=(train=0.995, test=0.995) total time=  11.1s\n",
      "[CV 2/2; 10/50] START criterion=gini, max_depth=7, max_features=15, min_samples_leaf=6\n",
      "[CV 2/2; 10/50] END criterion=gini, max_depth=7, max_features=15, min_samples_leaf=6;, score=(train=0.995, test=0.995) total time=  11.1s\n",
      "[CV 1/2; 11/50] START criterion=entropy, max_depth=7, max_features=51, min_samples_leaf=4\n",
      "[CV 1/2; 11/50] END criterion=entropy, max_depth=7, max_features=51, min_samples_leaf=4;, score=(train=0.995, test=0.995) total time=  15.1s\n",
      "[CV 2/2; 11/50] START criterion=entropy, max_depth=7, max_features=51, min_samples_leaf=4\n",
      "[CV 2/2; 11/50] END criterion=entropy, max_depth=7, max_features=51, min_samples_leaf=4;, score=(train=0.995, test=0.995) total time=  14.6s\n",
      "[CV 1/2; 12/50] START criterion=gini, max_depth=3, max_features=64, min_samples_leaf=1\n",
      "[CV 1/2; 12/50] END criterion=gini, max_depth=3, max_features=64, min_samples_leaf=1;, score=(train=0.995, test=0.995) total time=  12.6s\n",
      "[CV 2/2; 12/50] START criterion=gini, max_depth=3, max_features=64, min_samples_leaf=1\n",
      "[CV 2/2; 12/50] END criterion=gini, max_depth=3, max_features=64, min_samples_leaf=1;, score=(train=0.995, test=0.995) total time=  12.6s\n",
      "[CV 1/2; 13/50] START criterion=gini, max_depth=4, max_features=51, min_samples_leaf=7\n",
      "[CV 1/2; 13/50] END criterion=gini, max_depth=4, max_features=51, min_samples_leaf=7;, score=(train=0.995, test=0.995) total time=  12.9s\n",
      "[CV 2/2; 13/50] START criterion=gini, max_depth=4, max_features=51, min_samples_leaf=7\n",
      "[CV 2/2; 13/50] END criterion=gini, max_depth=4, max_features=51, min_samples_leaf=7;, score=(train=0.995, test=0.995) total time=  12.8s\n",
      "[CV 1/2; 14/50] START criterion=gini, max_depth=None, max_features=18, min_samples_leaf=4\n",
      "[CV 1/2; 14/50] END criterion=gini, max_depth=None, max_features=18, min_samples_leaf=4;, score=(train=0.996, test=0.994) total time=  14.2s\n",
      "[CV 2/2; 14/50] START criterion=gini, max_depth=None, max_features=18, min_samples_leaf=4\n",
      "[CV 2/2; 14/50] END criterion=gini, max_depth=None, max_features=18, min_samples_leaf=4;, score=(train=0.996, test=0.994) total time=  13.7s\n",
      "[CV 1/2; 15/50] START criterion=gini, max_depth=3, max_features=14, min_samples_leaf=2\n",
      "[CV 1/2; 15/50] END criterion=gini, max_depth=3, max_features=14, min_samples_leaf=2;, score=(train=0.995, test=0.995) total time=  10.1s\n",
      "[CV 2/2; 15/50] START criterion=gini, max_depth=3, max_features=14, min_samples_leaf=2\n",
      "[CV 2/2; 15/50] END criterion=gini, max_depth=3, max_features=14, min_samples_leaf=2;, score=(train=0.995, test=0.995) total time=  10.1s\n",
      "[CV 1/2; 16/50] START criterion=entropy, max_depth=None, max_features=90, min_samples_leaf=5\n",
      "[CV 1/2; 16/50] END criterion=entropy, max_depth=None, max_features=90, min_samples_leaf=5;, score=(train=0.996, test=0.992) total time=  25.7s\n",
      "[CV 2/2; 16/50] START criterion=entropy, max_depth=None, max_features=90, min_samples_leaf=5\n",
      "[CV 2/2; 16/50] END criterion=entropy, max_depth=None, max_features=90, min_samples_leaf=5;, score=(train=0.996, test=0.993) total time=  25.3s\n",
      "[CV 1/2; 17/50] START criterion=entropy, max_depth=3, max_features=92, min_samples_leaf=7\n",
      "[CV 1/2; 17/50] END criterion=entropy, max_depth=3, max_features=92, min_samples_leaf=7;, score=(train=0.995, test=0.995) total time=  13.8s\n",
      "[CV 2/2; 17/50] START criterion=entropy, max_depth=3, max_features=92, min_samples_leaf=7\n",
      "[CV 2/2; 17/50] END criterion=entropy, max_depth=3, max_features=92, min_samples_leaf=7;, score=(train=0.995, test=0.995) total time=  14.1s\n",
      "[CV 1/2; 18/50] START criterion=entropy, max_depth=7, max_features=8, min_samples_leaf=7\n",
      "[CV 1/2; 18/50] END criterion=entropy, max_depth=7, max_features=8, min_samples_leaf=7;, score=(train=0.995, test=0.995) total time=  10.4s\n",
      "[CV 2/2; 18/50] START criterion=entropy, max_depth=7, max_features=8, min_samples_leaf=7\n",
      "[CV 2/2; 18/50] END criterion=entropy, max_depth=7, max_features=8, min_samples_leaf=7;, score=(train=0.995, test=0.995) total time=  10.3s\n",
      "[CV 1/2; 19/50] START criterion=gini, max_depth=5, max_features=81, min_samples_leaf=4\n",
      "[CV 1/2; 19/50] END criterion=gini, max_depth=5, max_features=81, min_samples_leaf=4;, score=(train=0.995, test=0.995) total time=  15.9s\n",
      "[CV 2/2; 19/50] START criterion=gini, max_depth=5, max_features=81, min_samples_leaf=4\n",
      "[CV 2/2; 19/50] END criterion=gini, max_depth=5, max_features=81, min_samples_leaf=4;, score=(train=0.995, test=0.995) total time=  15.8s\n",
      "[CV 1/2; 20/50] START criterion=entropy, max_depth=10, max_features=2, min_samples_leaf=6\n",
      "[CV 1/2; 20/50] END criterion=entropy, max_depth=10, max_features=2, min_samples_leaf=6;, score=(train=0.995, test=0.995) total time=   9.7s\n",
      "[CV 2/2; 20/50] START criterion=entropy, max_depth=10, max_features=2, min_samples_leaf=6\n",
      "[CV 2/2; 20/50] END criterion=entropy, max_depth=10, max_features=2, min_samples_leaf=6;, score=(train=0.995, test=0.995) total time=   9.9s\n",
      "[CV 1/2; 21/50] START criterion=entropy, max_depth=5, max_features=106, min_samples_leaf=4\n",
      "[CV 1/2; 21/50] END criterion=entropy, max_depth=5, max_features=106, min_samples_leaf=4;, score=(train=0.995, test=0.995) total time=  17.4s\n",
      "[CV 2/2; 21/50] START criterion=entropy, max_depth=5, max_features=106, min_samples_leaf=4\n",
      "[CV 2/2; 21/50] END criterion=entropy, max_depth=5, max_features=106, min_samples_leaf=4;, score=(train=0.995, test=0.995) total time=  17.2s\n",
      "[CV 1/2; 22/50] START criterion=entropy, max_depth=4, max_features=44, min_samples_leaf=2\n",
      "[CV 1/2; 22/50] END criterion=entropy, max_depth=4, max_features=44, min_samples_leaf=2;, score=(train=0.995, test=0.995) total time=  12.3s\n",
      "[CV 2/2; 22/50] START criterion=entropy, max_depth=4, max_features=44, min_samples_leaf=2\n",
      "[CV 2/2; 22/50] END criterion=entropy, max_depth=4, max_features=44, min_samples_leaf=2;, score=(train=0.995, test=0.995) total time=  12.4s\n",
      "[CV 1/2; 23/50] START criterion=entropy, max_depth=5, max_features=14, min_samples_leaf=7\n",
      "[CV 1/2; 23/50] END criterion=entropy, max_depth=5, max_features=14, min_samples_leaf=7;, score=(train=0.995, test=0.995) total time=  10.6s\n",
      "[CV 2/2; 23/50] START criterion=entropy, max_depth=5, max_features=14, min_samples_leaf=7\n",
      "[CV 2/2; 23/50] END criterion=entropy, max_depth=5, max_features=14, min_samples_leaf=7;, score=(train=0.995, test=0.995) total time=  10.4s\n",
      "[CV 1/2; 24/50] START criterion=entropy, max_depth=7, max_features=40, min_samples_leaf=5\n",
      "[CV 1/2; 24/50] END criterion=entropy, max_depth=7, max_features=40, min_samples_leaf=5;, score=(train=0.995, test=0.995) total time=  13.7s\n",
      "[CV 2/2; 24/50] START criterion=entropy, max_depth=7, max_features=40, min_samples_leaf=5\n",
      "[CV 2/2; 24/50] END criterion=entropy, max_depth=7, max_features=40, min_samples_leaf=5;, score=(train=0.995, test=0.995) total time=  13.8s\n",
      "[CV 1/2; 25/50] START criterion=entropy, max_depth=4, max_features=82, min_samples_leaf=7\n",
      "[CV 1/2; 25/50] END criterion=entropy, max_depth=4, max_features=82, min_samples_leaf=7;, score=(train=0.995, test=0.995) total time=  14.6s\n",
      "[CV 2/2; 25/50] START criterion=entropy, max_depth=4, max_features=82, min_samples_leaf=7\n",
      "[CV 2/2; 25/50] END criterion=entropy, max_depth=4, max_features=82, min_samples_leaf=7;, score=(train=0.995, test=0.995) total time=  14.4s\n",
      "[CV 1/2; 26/50] START criterion=gini, max_depth=10, max_features=124, min_samples_leaf=5\n",
      "[CV 1/2; 26/50] END criterion=gini, max_depth=10, max_features=124, min_samples_leaf=5;, score=(train=0.995, test=0.994) total time=  29.1s\n",
      "[CV 2/2; 26/50] START criterion=gini, max_depth=10, max_features=124, min_samples_leaf=5\n",
      "[CV 2/2; 26/50] END criterion=gini, max_depth=10, max_features=124, min_samples_leaf=5;, score=(train=0.995, test=0.994) total time=  29.0s\n",
      "[CV 1/2; 27/50] START criterion=gini, max_depth=4, max_features=15, min_samples_leaf=5\n",
      "[CV 1/2; 27/50] END criterion=gini, max_depth=4, max_features=15, min_samples_leaf=5;, score=(train=0.995, test=0.995) total time=  10.3s\n",
      "[CV 2/2; 27/50] START criterion=gini, max_depth=4, max_features=15, min_samples_leaf=5\n",
      "[CV 2/2; 27/50] END criterion=gini, max_depth=4, max_features=15, min_samples_leaf=5;, score=(train=0.995, test=0.995) total time=  10.4s\n",
      "[CV 1/2; 28/50] START criterion=gini, max_depth=None, max_features=71, min_samples_leaf=1\n",
      "[CV 1/2; 28/50] END criterion=gini, max_depth=None, max_features=71, min_samples_leaf=1;, score=(train=1.000, test=0.989) total time=  32.1s\n",
      "[CV 2/2; 28/50] START criterion=gini, max_depth=None, max_features=71, min_samples_leaf=1\n",
      "[CV 2/2; 28/50] END criterion=gini, max_depth=None, max_features=71, min_samples_leaf=1;, score=(train=1.000, test=0.989) total time=  28.5s\n",
      "[CV 1/2; 29/50] START criterion=entropy, max_depth=None, max_features=63, min_samples_leaf=3\n",
      "[CV 1/2; 29/50] END criterion=entropy, max_depth=None, max_features=63, min_samples_leaf=3;, score=(train=0.997, test=0.991) total time=  21.5s\n",
      "[CV 2/2; 29/50] START criterion=entropy, max_depth=None, max_features=63, min_samples_leaf=3\n",
      "[CV 2/2; 29/50] END criterion=entropy, max_depth=None, max_features=63, min_samples_leaf=3;, score=(train=0.997, test=0.991) total time=  20.9s\n",
      "[CV 1/2; 30/50] START criterion=gini, max_depth=None, max_features=33, min_samples_leaf=3\n",
      "[CV 1/2; 30/50] END criterion=gini, max_depth=None, max_features=33, min_samples_leaf=3;, score=(train=0.996, test=0.992) total time=  18.5s\n",
      "[CV 2/2; 30/50] START criterion=gini, max_depth=None, max_features=33, min_samples_leaf=3\n",
      "[CV 2/2; 30/50] END criterion=gini, max_depth=None, max_features=33, min_samples_leaf=3;, score=(train=0.996, test=0.992) total time=  17.0s\n",
      "[CV 1/2; 31/50] START criterion=gini, max_depth=1, max_features=41, min_samples_leaf=4\n",
      "[CV 1/2; 31/50] END criterion=gini, max_depth=1, max_features=41, min_samples_leaf=4;, score=(train=0.995, test=0.995) total time=  10.1s\n",
      "[CV 2/2; 31/50] START criterion=gini, max_depth=1, max_features=41, min_samples_leaf=4\n",
      "[CV 2/2; 31/50] END criterion=gini, max_depth=1, max_features=41, min_samples_leaf=4;, score=(train=0.995, test=0.995) total time=  10.0s\n",
      "[CV 1/2; 32/50] START criterion=gini, max_depth=None, max_features=72, min_samples_leaf=4\n",
      "[CV 1/2; 32/50] END criterion=gini, max_depth=None, max_features=72, min_samples_leaf=4;, score=(train=0.996, test=0.994) total time=  29.8s\n",
      "[CV 2/2; 32/50] START criterion=gini, max_depth=None, max_features=72, min_samples_leaf=4\n",
      "[CV 2/2; 32/50] END criterion=gini, max_depth=None, max_features=72, min_samples_leaf=4;, score=(train=0.996, test=0.993) total time=  30.0s\n",
      "[CV 1/2; 33/50] START criterion=entropy, max_depth=None, max_features=48, min_samples_leaf=7\n",
      "[CV 1/2; 33/50] END criterion=entropy, max_depth=None, max_features=48, min_samples_leaf=7;, score=(train=0.996, test=0.993) total time=  18.6s\n",
      "[CV 2/2; 33/50] START criterion=entropy, max_depth=None, max_features=48, min_samples_leaf=7\n",
      "[CV 2/2; 33/50] END criterion=entropy, max_depth=None, max_features=48, min_samples_leaf=7;, score=(train=0.996, test=0.993) total time=  18.7s\n",
      "[CV 1/2; 34/50] START criterion=gini, max_depth=5, max_features=37, min_samples_leaf=3\n",
      "[CV 1/2; 34/50] END criterion=gini, max_depth=5, max_features=37, min_samples_leaf=3;, score=(train=0.995, test=0.995) total time=  12.5s\n",
      "[CV 2/2; 34/50] START criterion=gini, max_depth=5, max_features=37, min_samples_leaf=3\n",
      "[CV 2/2; 34/50] END criterion=gini, max_depth=5, max_features=37, min_samples_leaf=3;, score=(train=0.995, test=0.995) total time=  12.3s\n",
      "[CV 1/2; 35/50] START criterion=entropy, max_depth=10, max_features=35, min_samples_leaf=1\n",
      "[CV 1/2; 35/50] END criterion=entropy, max_depth=10, max_features=35, min_samples_leaf=1;, score=(train=0.995, test=0.995) total time=  14.2s\n",
      "[CV 2/2; 35/50] START criterion=entropy, max_depth=10, max_features=35, min_samples_leaf=1\n",
      "[CV 2/2; 35/50] END criterion=entropy, max_depth=10, max_features=35, min_samples_leaf=1;, score=(train=0.995, test=0.995) total time=  14.0s\n",
      "[CV 1/2; 36/50] START criterion=gini, max_depth=4, max_features=1, min_samples_leaf=5\n",
      "[CV 1/2; 36/50] END criterion=gini, max_depth=4, max_features=1, min_samples_leaf=5;, score=(train=0.995, test=0.995) total time=   9.4s\n",
      "[CV 2/2; 36/50] START criterion=gini, max_depth=4, max_features=1, min_samples_leaf=5\n",
      "[CV 2/2; 36/50] END criterion=gini, max_depth=4, max_features=1, min_samples_leaf=5;, score=(train=0.995, test=0.995) total time=   9.4s\n",
      "[CV 1/2; 37/50] START criterion=entropy, max_depth=7, max_features=103, min_samples_leaf=3\n",
      "[CV 1/2; 37/50] END criterion=entropy, max_depth=7, max_features=103, min_samples_leaf=3;, score=(train=0.995, test=0.995) total time=  19.7s\n",
      "[CV 2/2; 37/50] START criterion=entropy, max_depth=7, max_features=103, min_samples_leaf=3\n",
      "[CV 2/2; 37/50] END criterion=entropy, max_depth=7, max_features=103, min_samples_leaf=3;, score=(train=0.995, test=0.995) total time=  18.8s\n",
      "[CV 1/2; 38/50] START criterion=gini, max_depth=7, max_features=15, min_samples_leaf=2\n",
      "[CV 1/2; 38/50] END criterion=gini, max_depth=7, max_features=15, min_samples_leaf=2;, score=(train=0.995, test=0.995) total time=  11.2s\n",
      "[CV 2/2; 38/50] START criterion=gini, max_depth=7, max_features=15, min_samples_leaf=2\n",
      "[CV 2/2; 38/50] END criterion=gini, max_depth=7, max_features=15, min_samples_leaf=2;, score=(train=0.995, test=0.995) total time=  11.0s\n",
      "[CV 1/2; 39/50] START criterion=entropy, max_depth=3, max_features=63, min_samples_leaf=8\n",
      "[CV 1/2; 39/50] END criterion=entropy, max_depth=3, max_features=63, min_samples_leaf=8;, score=(train=0.995, test=0.995) total time=  12.3s\n",
      "[CV 2/2; 39/50] START criterion=entropy, max_depth=3, max_features=63, min_samples_leaf=8\n",
      "[CV 2/2; 39/50] END criterion=entropy, max_depth=3, max_features=63, min_samples_leaf=8;, score=(train=0.995, test=0.995) total time=  12.5s\n",
      "[CV 1/2; 40/50] START criterion=gini, max_depth=None, max_features=52, min_samples_leaf=5\n",
      "[CV 1/2; 40/50] END criterion=gini, max_depth=None, max_features=52, min_samples_leaf=5;, score=(train=0.996, test=0.993) total time=  23.1s\n",
      "[CV 2/2; 40/50] START criterion=gini, max_depth=None, max_features=52, min_samples_leaf=5\n",
      "[CV 2/2; 40/50] END criterion=gini, max_depth=None, max_features=52, min_samples_leaf=5;, score=(train=0.996, test=0.994) total time=  22.7s\n",
      "[CV 1/2; 41/50] START criterion=entropy, max_depth=3, max_features=29, min_samples_leaf=4\n",
      "[CV 1/2; 41/50] END criterion=entropy, max_depth=3, max_features=29, min_samples_leaf=4;, score=(train=0.995, test=0.995) total time=  10.8s\n",
      "[CV 2/2; 41/50] START criterion=entropy, max_depth=3, max_features=29, min_samples_leaf=4\n",
      "[CV 2/2; 41/50] END criterion=entropy, max_depth=3, max_features=29, min_samples_leaf=4;, score=(train=0.995, test=0.995) total time=  10.8s\n",
      "[CV 1/2; 42/50] START criterion=gini, max_depth=10, max_features=71, min_samples_leaf=3\n",
      "[CV 1/2; 42/50] END criterion=gini, max_depth=10, max_features=71, min_samples_leaf=3;, score=(train=0.995, test=0.994) total time=  20.1s\n",
      "[CV 2/2; 42/50] START criterion=gini, max_depth=10, max_features=71, min_samples_leaf=3\n",
      "[CV 2/2; 42/50] END criterion=gini, max_depth=10, max_features=71, min_samples_leaf=3;, score=(train=0.995, test=0.994) total time=  20.4s\n",
      "[CV 1/2; 43/50] START criterion=gini, max_depth=5, max_features=28, min_samples_leaf=2\n",
      "[CV 1/2; 43/50] END criterion=gini, max_depth=5, max_features=28, min_samples_leaf=2;, score=(train=0.995, test=0.995) total time=  11.5s\n",
      "[CV 2/2; 43/50] START criterion=gini, max_depth=5, max_features=28, min_samples_leaf=2\n",
      "[CV 2/2; 43/50] END criterion=gini, max_depth=5, max_features=28, min_samples_leaf=2;, score=(train=0.995, test=0.995) total time=  11.5s\n",
      "[CV 1/2; 44/50] START criterion=entropy, max_depth=4, max_features=62, min_samples_leaf=1\n",
      "[CV 1/2; 44/50] END criterion=entropy, max_depth=4, max_features=62, min_samples_leaf=1;, score=(train=0.995, test=0.995) total time=  13.1s\n",
      "[CV 2/2; 44/50] START criterion=entropy, max_depth=4, max_features=62, min_samples_leaf=1\n",
      "[CV 2/2; 44/50] END criterion=entropy, max_depth=4, max_features=62, min_samples_leaf=1;, score=(train=0.995, test=0.995) total time=  13.1s\n",
      "[CV 1/2; 45/50] START criterion=gini, max_depth=5, max_features=28, min_samples_leaf=4\n",
      "[CV 1/2; 45/50] END criterion=gini, max_depth=5, max_features=28, min_samples_leaf=4;, score=(train=0.995, test=0.995) total time=  11.6s\n",
      "[CV 2/2; 45/50] START criterion=gini, max_depth=5, max_features=28, min_samples_leaf=4\n",
      "[CV 2/2; 45/50] END criterion=gini, max_depth=5, max_features=28, min_samples_leaf=4;, score=(train=0.995, test=0.995) total time=  11.5s\n",
      "[CV 1/2; 46/50] START criterion=entropy, max_depth=3, max_features=84, min_samples_leaf=6\n",
      "[CV 1/2; 46/50] END criterion=entropy, max_depth=3, max_features=84, min_samples_leaf=6;, score=(train=0.995, test=0.995) total time=  13.4s\n",
      "[CV 2/2; 46/50] START criterion=entropy, max_depth=3, max_features=84, min_samples_leaf=6\n",
      "[CV 2/2; 46/50] END criterion=entropy, max_depth=3, max_features=84, min_samples_leaf=6;, score=(train=0.995, test=0.995) total time=  13.3s\n",
      "[CV 1/2; 47/50] START criterion=entropy, max_depth=2, max_features=128, min_samples_leaf=2\n",
      "[CV 1/2; 47/50] END criterion=entropy, max_depth=2, max_features=128, min_samples_leaf=2;, score=(train=0.995, test=0.995) total time=  13.4s\n",
      "[CV 2/2; 47/50] START criterion=entropy, max_depth=2, max_features=128, min_samples_leaf=2\n",
      "[CV 2/2; 47/50] END criterion=entropy, max_depth=2, max_features=128, min_samples_leaf=2;, score=(train=0.995, test=0.995) total time=  13.4s\n",
      "[CV 1/2; 48/50] START criterion=gini, max_depth=3, max_features=129, min_samples_leaf=1\n",
      "[CV 1/2; 48/50] END criterion=gini, max_depth=3, max_features=129, min_samples_leaf=1;, score=(train=0.995, test=0.995) total time=  15.5s\n",
      "[CV 2/2; 48/50] START criterion=gini, max_depth=3, max_features=129, min_samples_leaf=1\n",
      "[CV 2/2; 48/50] END criterion=gini, max_depth=3, max_features=129, min_samples_leaf=1;, score=(train=0.995, test=0.995) total time=  15.6s\n",
      "[CV 1/2; 49/50] START criterion=gini, max_depth=5, max_features=121, min_samples_leaf=4\n",
      "[CV 1/2; 49/50] END criterion=gini, max_depth=5, max_features=121, min_samples_leaf=4;, score=(train=0.995, test=0.995) total time=  19.3s\n",
      "[CV 2/2; 49/50] START criterion=gini, max_depth=5, max_features=121, min_samples_leaf=4\n",
      "[CV 2/2; 49/50] END criterion=gini, max_depth=5, max_features=121, min_samples_leaf=4;, score=(train=0.995, test=0.995) total time=  18.9s\n",
      "[CV 1/2; 50/50] START criterion=gini, max_depth=None, max_features=3, min_samples_leaf=7\n",
      "[CV 1/2; 50/50] END criterion=gini, max_depth=None, max_features=3, min_samples_leaf=7;, score=(train=0.995, test=0.995) total time=  10.3s\n",
      "[CV 2/2; 50/50] START criterion=gini, max_depth=None, max_features=3, min_samples_leaf=7\n",
      "[CV 2/2; 50/50] END criterion=gini, max_depth=None, max_features=3, min_samples_leaf=7;, score=(train=0.995, test=0.995) total time=  10.4s\n",
      "CPU times: user 26min 22s, sys: 6min 7s, total: 32min 29s\n",
      "Wall time: 32min 28s\n"
     ]
    },
    {
     "data": {
      "text/plain": [
       "RandomizedSearchCV(cv=2, estimator=DecisionTreeClassifier(), n_iter=50,\n",
       "                   param_distributions={'criterion': ['gini', 'entropy'],\n",
       "                                        'max_depth': [None, 1, 2, 3, 4, 5, 7,\n",
       "                                                      10],\n",
       "                                        'max_features': <scipy.stats._distn_infrastructure.rv_frozen object at 0x7fe918aaae50>,\n",
       "                                        'min_samples_leaf': <scipy.stats._distn_infrastructure.rv_frozen object at 0x7fe918aaaa90>},\n",
       "                   random_state=42, return_train_score=True, verbose=10)"
      ]
     },
     "execution_count": 15,
     "metadata": {},
     "output_type": "execute_result"
    }
   ],
   "source": [
    "%%time \n",
    "dt_clf_grid.fit(train_features, train_labels)"
   ]
  },
  {
   "cell_type": "code",
   "execution_count": 17,
   "id": "11867c8b",
   "metadata": {},
   "outputs": [
    {
     "data": {
      "text/plain": [
       "{'criterion': 'entropy',\n",
       " 'max_depth': 5,\n",
       " 'max_features': 14,\n",
       " 'min_samples_leaf': 7}"
      ]
     },
     "execution_count": 17,
     "metadata": {},
     "output_type": "execute_result"
    }
   ],
   "source": [
    "dt_clf_grid.best_params_"
   ]
  },
  {
   "cell_type": "code",
   "execution_count": 18,
   "id": "880f31d9",
   "metadata": {},
   "outputs": [
    {
     "data": {
      "text/plain": [
       "0.9948658599018015"
      ]
     },
     "execution_count": 18,
     "metadata": {},
     "output_type": "execute_result"
    }
   ],
   "source": [
    "dt_clf_grid.best_score_"
   ]
  },
  {
   "cell_type": "code",
   "execution_count": 22,
   "id": "80845195",
   "metadata": {},
   "outputs": [],
   "source": [
    "df_clfparm = {\n",
    "\"criterion\" : \"entropy\", \n",
    "\"max_depth\" : 5,\n",
    "\"max_features\": 14,  \n",
    "\"min_samples_leaf\" : 7 \n",
    " }\n",
    "\n",
    "dt_clf = DecisionTreeClassifier(**df_clfparm)"
   ]
  },
  {
   "cell_type": "code",
   "execution_count": 23,
   "id": "b526a5e6",
   "metadata": {},
   "outputs": [
    {
     "name": "stdout",
     "output_type": "stream",
     "text": [
      "CPU times: user 9.74 s, sys: 5.69 s, total: 15.4 s\n",
      "Wall time: 15.4 s\n"
     ]
    },
    {
     "data": {
      "text/plain": [
       "DecisionTreeClassifier(criterion='entropy', max_depth=5, max_features=14,\n",
       "                       min_samples_leaf=7)"
      ]
     },
     "execution_count": 23,
     "metadata": {},
     "output_type": "execute_result"
    }
   ],
   "source": [
    "%%time\n",
    "dt_clf.fit(train_features, train_labels)"
   ]
  },
  {
   "cell_type": "code",
   "execution_count": 24,
   "id": "e63d580d",
   "metadata": {},
   "outputs": [],
   "source": [
    "# Predicting probility on test data\n",
    "dtc_pred = dt_clf.predict_proba(test.drop(target_cols,axis=1))"
   ]
  },
  {
   "cell_type": "markdown",
   "id": "e98f8609",
   "metadata": {},
   "source": [
    "##  6.5.2  DecisionTreeRegressor  "
   ]
  },
  {
   "cell_type": "code",
   "execution_count": 26,
   "id": "b55161de",
   "metadata": {},
   "outputs": [],
   "source": [
    "# Setup the parameters and distributions to sample from: param_dist\n",
    "df_regparm = {\"max_depth\": [ None,1,2,3,4,5,7,10],\n",
    "              \"max_features\": randint(1, 130),\n",
    "              \"min_samples_leaf\": randint(1, 9),\n",
    "               }"
   ]
  },
  {
   "cell_type": "code",
   "execution_count": 27,
   "id": "c69112ce",
   "metadata": {},
   "outputs": [],
   "source": [
    "dt_reg= DecisionTreeRegressor()"
   ]
  },
  {
   "cell_type": "code",
   "execution_count": 28,
   "id": "633fa790",
   "metadata": {},
   "outputs": [],
   "source": [
    "dt_reg_grid = RandomizedSearchCV(estimator=dt_reg, param_distributions=df_regparm,\n",
    "                              n_iter =50, \n",
    "                              cv = 2, verbose=10, random_state=42,  \n",
    "                              return_train_score=True)"
   ]
  },
  {
   "cell_type": "code",
   "execution_count": 29,
   "id": "b21f87c0",
   "metadata": {},
   "outputs": [
    {
     "name": "stdout",
     "output_type": "stream",
     "text": [
      "Fitting 2 folds for each of 50 candidates, totalling 100 fits\n",
      "[CV 1/2; 1/50] START max_depth=7, max_features=93, min_samples_leaf=7...........\n",
      "[CV 1/2; 1/50] END max_depth=7, max_features=93, min_samples_leaf=7;, score=(train=0.257, test=0.064) total time=   0.1s\n",
      "[CV 2/2; 1/50] START max_depth=7, max_features=93, min_samples_leaf=7...........\n",
      "[CV 2/2; 1/50] END max_depth=7, max_features=93, min_samples_leaf=7;, score=(train=0.351, test=-0.312) total time=   0.1s\n",
      "[CV 1/2; 2/50] START max_depth=2, max_features=72, min_samples_leaf=5...........\n",
      "[CV 1/2; 2/50] END max_depth=2, max_features=72, min_samples_leaf=5;, score=(train=0.059, test=0.097) total time=   0.1s\n",
      "[CV 2/2; 2/50] START max_depth=2, max_features=72, min_samples_leaf=5...........\n",
      "[CV 2/2; 2/50] END max_depth=2, max_features=72, min_samples_leaf=5;, score=(train=0.152, test=-0.034) total time=   0.1s\n",
      "[CV 1/2; 3/50] START max_depth=4, max_features=103, min_samples_leaf=2..........\n",
      "[CV 1/2; 3/50] END max_depth=4, max_features=103, min_samples_leaf=2;, score=(train=0.143, test=0.023) total time=   0.1s\n",
      "[CV 2/2; 3/50] START max_depth=4, max_features=103, min_samples_leaf=2..........\n",
      "[CV 2/2; 3/50] END max_depth=4, max_features=103, min_samples_leaf=2;, score=(train=0.240, test=-0.034) total time=   0.1s\n",
      "[CV 1/2; 4/50] START max_depth=2, max_features=75, min_samples_leaf=3...........\n",
      "[CV 1/2; 4/50] END max_depth=2, max_features=75, min_samples_leaf=3;, score=(train=0.050, test=0.076) total time=   0.1s\n",
      "[CV 2/2; 4/50] START max_depth=2, max_features=75, min_samples_leaf=3...........\n",
      "[CV 2/2; 4/50] END max_depth=2, max_features=75, min_samples_leaf=3;, score=(train=0.172, test=-0.049) total time=   0.1s\n",
      "[CV 1/2; 5/50] START max_depth=10, max_features=117, min_samples_leaf=4.........\n",
      "[CV 1/2; 5/50] END max_depth=10, max_features=117, min_samples_leaf=4;, score=(train=0.356, test=-0.089) total time=   0.2s\n",
      "[CV 2/2; 5/50] START max_depth=10, max_features=117, min_samples_leaf=4.........\n",
      "[CV 2/2; 5/50] END max_depth=10, max_features=117, min_samples_leaf=4;, score=(train=0.495, test=-0.565) total time=   0.2s\n",
      "[CV 1/2; 6/50] START max_depth=10, max_features=53, min_samples_leaf=2..........\n",
      "[CV 1/2; 6/50] END max_depth=10, max_features=53, min_samples_leaf=2;, score=(train=0.545, test=-0.311) total time=   0.1s\n",
      "[CV 2/2; 6/50] START max_depth=10, max_features=53, min_samples_leaf=2..........\n",
      "[CV 2/2; 6/50] END max_depth=10, max_features=53, min_samples_leaf=2;, score=(train=0.577, test=-0.644) total time=   0.1s\n",
      "[CV 1/2; 7/50] START max_depth=10, max_features=38, min_samples_leaf=2..........\n",
      "[CV 1/2; 7/50] END max_depth=10, max_features=38, min_samples_leaf=2;, score=(train=0.441, test=-0.133) total time=   0.1s\n",
      "[CV 2/2; 7/50] START max_depth=10, max_features=38, min_samples_leaf=2..........\n",
      "[CV 2/2; 7/50] END max_depth=10, max_features=38, min_samples_leaf=2;, score=(train=0.543, test=-0.620) total time=   0.1s\n",
      "[CV 1/2; 8/50] START max_depth=10, max_features=21, min_samples_leaf=1..........\n",
      "[CV 1/2; 8/50] END max_depth=10, max_features=21, min_samples_leaf=1;, score=(train=0.449, test=-0.506) total time=   0.1s\n",
      "[CV 2/2; 8/50] START max_depth=10, max_features=21, min_samples_leaf=1..........\n",
      "[CV 2/2; 8/50] END max_depth=10, max_features=21, min_samples_leaf=1;, score=(train=0.526, test=-0.571) total time=   0.1s\n",
      "[CV 1/2; 9/50] START max_depth=3, max_features=58, min_samples_leaf=6...........\n",
      "[CV 1/2; 9/50] END max_depth=3, max_features=58, min_samples_leaf=6;, score=(train=0.080, test=0.111) total time=   0.1s\n",
      "[CV 2/2; 9/50] START max_depth=3, max_features=58, min_samples_leaf=6...........\n",
      "[CV 2/2; 9/50] END max_depth=3, max_features=58, min_samples_leaf=6;, score=(train=0.186, test=-0.036) total time=   0.1s\n",
      "[CV 1/2; 10/50] START max_depth=4, max_features=89, min_samples_leaf=1..........\n",
      "[CV 1/2; 10/50] END max_depth=4, max_features=89, min_samples_leaf=1;, score=(train=0.120, test=-0.049) total time=   0.1s\n",
      "[CV 2/2; 10/50] START max_depth=4, max_features=89, min_samples_leaf=1..........\n",
      "[CV 2/2; 10/50] END max_depth=4, max_features=89, min_samples_leaf=1;, score=(train=0.242, test=-0.171) total time=   0.1s\n",
      "[CV 1/2; 11/50] START max_depth=2, max_features=59, min_samples_leaf=7..........\n",
      "[CV 1/2; 11/50] END max_depth=2, max_features=59, min_samples_leaf=7;, score=(train=0.035, test=0.037) total time=   0.1s\n",
      "[CV 2/2; 11/50] START max_depth=2, max_features=59, min_samples_leaf=7..........\n",
      "[CV 2/2; 11/50] END max_depth=2, max_features=59, min_samples_leaf=7;, score=(train=0.155, test=-0.059) total time=   0.1s\n",
      "[CV 1/2; 12/50] START max_depth=1, max_features=15, min_samples_leaf=6..........\n",
      "[CV 1/2; 12/50] END max_depth=1, max_features=15, min_samples_leaf=6;, score=(train=0.013, test=-0.004) total time=   0.1s\n",
      "[CV 2/2; 12/50] START max_depth=1, max_features=15, min_samples_leaf=6..........\n",
      "[CV 2/2; 12/50] END max_depth=1, max_features=15, min_samples_leaf=6;, score=(train=0.030, test=-0.014) total time=   0.1s\n",
      "[CV 1/2; 13/50] START max_depth=5, max_features=51, min_samples_leaf=4..........\n",
      "[CV 1/2; 13/50] END max_depth=5, max_features=51, min_samples_leaf=4;, score=(train=0.171, test=0.010) total time=   0.1s\n",
      "[CV 2/2; 13/50] START max_depth=5, max_features=51, min_samples_leaf=4..........\n",
      "[CV 2/2; 13/50] END max_depth=5, max_features=51, min_samples_leaf=4;, score=(train=0.242, test=-0.157) total time=   0.1s\n",
      "[CV 1/2; 14/50] START max_depth=7, max_features=64, min_samples_leaf=1..........\n",
      "[CV 1/2; 14/50] END max_depth=7, max_features=64, min_samples_leaf=1;, score=(train=0.346, test=-0.219) total time=   0.1s\n",
      "[CV 2/2; 14/50] START max_depth=7, max_features=64, min_samples_leaf=1..........\n",
      "[CV 2/2; 14/50] END max_depth=7, max_features=64, min_samples_leaf=1;, score=(train=0.447, test=-0.335) total time=   0.1s\n",
      "[CV 1/2; 15/50] START max_depth=2, max_features=51, min_samples_leaf=7..........\n",
      "[CV 1/2; 15/50] END max_depth=2, max_features=51, min_samples_leaf=7;, score=(train=0.048, test=0.070) total time=   0.1s\n",
      "[CV 2/2; 15/50] START max_depth=2, max_features=51, min_samples_leaf=7..........\n",
      "[CV 2/2; 15/50] END max_depth=2, max_features=51, min_samples_leaf=7;, score=(train=0.157, test=-0.078) total time=   0.1s\n",
      "[CV 1/2; 16/50] START max_depth=4, max_features=73, min_samples_leaf=7..........\n",
      "[CV 1/2; 16/50] END max_depth=4, max_features=73, min_samples_leaf=7;, score=(train=0.113, test=0.081) total time=   0.1s\n",
      "[CV 2/2; 16/50] START max_depth=4, max_features=73, min_samples_leaf=7..........\n",
      "[CV 2/2; 16/50] END max_depth=4, max_features=73, min_samples_leaf=7;, score=(train=0.241, test=-0.061) total time=   0.1s\n",
      "[CV 1/2; 17/50] START max_depth=1, max_features=89, min_samples_leaf=4..........\n",
      "[CV 1/2; 17/50] END max_depth=1, max_features=89, min_samples_leaf=4;, score=(train=0.029, test=-0.022) total time=   0.1s\n",
      "[CV 2/2; 17/50] START max_depth=1, max_features=89, min_samples_leaf=4..........\n",
      "[CV 2/2; 17/50] END max_depth=1, max_features=89, min_samples_leaf=4;, score=(train=0.128, test=-0.064) total time=   0.1s\n",
      "[CV 1/2; 18/50] START max_depth=5, max_features=9, min_samples_leaf=2...........\n",
      "[CV 1/2; 18/50] END max_depth=5, max_features=9, min_samples_leaf=2;, score=(train=0.113, test=-0.020) total time=   0.1s\n",
      "[CV 2/2; 18/50] START max_depth=5, max_features=9, min_samples_leaf=2...........\n",
      "[CV 2/2; 18/50] END max_depth=5, max_features=9, min_samples_leaf=2;, score=(train=0.216, test=-0.126) total time=   0.1s\n",
      "[CV 1/2; 19/50] START max_depth=4, max_features=84, min_samples_leaf=4..........\n",
      "[CV 1/2; 19/50] END max_depth=4, max_features=84, min_samples_leaf=4;, score=(train=0.123, test=0.061) total time=   0.1s\n",
      "[CV 2/2; 19/50] START max_depth=4, max_features=84, min_samples_leaf=4..........\n",
      "[CV 2/2; 19/50] END max_depth=4, max_features=84, min_samples_leaf=4;, score=(train=0.250, test=-0.133) total time=   0.1s\n",
      "[CV 1/2; 20/50] START max_depth=7, max_features=8, min_samples_leaf=7...........\n",
      "[CV 1/2; 20/50] END max_depth=7, max_features=8, min_samples_leaf=7;, score=(train=0.119, test=0.023) total time=   0.1s\n",
      "[CV 2/2; 20/50] START max_depth=7, max_features=8, min_samples_leaf=7...........\n",
      "[CV 2/2; 20/50] END max_depth=7, max_features=8, min_samples_leaf=7;, score=(train=0.232, test=-0.202) total time=   0.1s\n",
      "[CV 1/2; 21/50] START max_depth=2, max_features=81, min_samples_leaf=4..........\n",
      "[CV 1/2; 21/50] END max_depth=2, max_features=81, min_samples_leaf=4;, score=(train=0.050, test=0.076) total time=   0.1s\n",
      "[CV 2/2; 21/50] START max_depth=2, max_features=81, min_samples_leaf=4..........\n",
      "[CV 2/2; 21/50] END max_depth=2, max_features=81, min_samples_leaf=4;, score=(train=0.174, test=-0.044) total time=   0.1s\n",
      "[CV 1/2; 22/50] START max_depth=1, max_features=104, min_samples_leaf=4.........\n",
      "[CV 1/2; 22/50] END max_depth=1, max_features=104, min_samples_leaf=4;, score=(train=0.019, test=0.060) total time=   0.1s\n",
      "[CV 2/2; 22/50] START max_depth=1, max_features=104, min_samples_leaf=4.........\n",
      "[CV 2/2; 22/50] END max_depth=1, max_features=104, min_samples_leaf=4;, score=(train=0.119, test=-0.054) total time=   0.1s\n",
      "[CV 1/2; 23/50] START max_depth=1, max_features=54, min_samples_leaf=2..........\n",
      "[CV 1/2; 23/50] END max_depth=1, max_features=54, min_samples_leaf=2;, score=(train=0.019, test=0.060) total time=   0.1s\n",
      "[CV 2/2; 23/50] START max_depth=1, max_features=54, min_samples_leaf=2..........\n",
      "[CV 2/2; 23/50] END max_depth=1, max_features=54, min_samples_leaf=2;, score=(train=0.043, test=-0.034) total time=   0.1s\n",
      "[CV 1/2; 24/50] START max_depth=3, max_features=54, min_samples_leaf=5..........\n",
      "[CV 1/2; 24/50] END max_depth=3, max_features=54, min_samples_leaf=5;, score=(train=0.069, test=-0.014) total time=   0.1s\n",
      "[CV 2/2; 24/50] START max_depth=3, max_features=54, min_samples_leaf=5..........\n",
      "[CV 2/2; 24/50] END max_depth=3, max_features=54, min_samples_leaf=5;, score=(train=0.186, test=-0.011) total time=   0.1s\n",
      "[CV 1/2; 25/50] START max_depth=7, max_features=44, min_samples_leaf=2..........\n",
      "[CV 1/2; 25/50] END max_depth=7, max_features=44, min_samples_leaf=2;, score=(train=0.313, test=-0.169) total time=   0.1s\n",
      "[CV 2/2; 25/50] START max_depth=7, max_features=44, min_samples_leaf=2..........\n",
      "[CV 2/2; 25/50] END max_depth=7, max_features=44, min_samples_leaf=2;, score=(train=0.384, test=-0.183) total time=   0.1s\n",
      "[CV 1/2; 26/50] START max_depth=1, max_features=14, min_samples_leaf=7..........\n",
      "[CV 1/2; 26/50] END max_depth=1, max_features=14, min_samples_leaf=7;, score=(train=0.007, test=-0.005) total time=   0.1s\n",
      "[CV 2/2; 26/50] START max_depth=1, max_features=14, min_samples_leaf=7..........\n",
      "[CV 2/2; 26/50] END max_depth=1, max_features=14, min_samples_leaf=7;, score=(train=0.018, test=-0.023) total time=   0.1s\n",
      "[CV 1/2; 27/50] START max_depth=10, max_features=15, min_samples_leaf=8.........\n",
      "[CV 1/2; 27/50] END max_depth=10, max_features=15, min_samples_leaf=8;, score=(train=0.277, test=-0.062) total time=   0.1s\n",
      "[CV 2/2; 27/50] START max_depth=10, max_features=15, min_samples_leaf=8.........\n",
      "[CV 2/2; 27/50] END max_depth=10, max_features=15, min_samples_leaf=8;, score=(train=0.380, test=-0.315) total time=   0.1s\n",
      "[CV 1/2; 28/50] START max_depth=5, max_features=40, min_samples_leaf=5..........\n",
      "[CV 1/2; 28/50] END max_depth=5, max_features=40, min_samples_leaf=5;, score=(train=0.123, test=0.035) total time=   0.1s\n",
      "[CV 2/2; 28/50] START max_depth=5, max_features=40, min_samples_leaf=5..........\n",
      "[CV 2/2; 28/50] END max_depth=5, max_features=40, min_samples_leaf=5;, score=(train=0.260, test=-0.127) total time=   0.1s\n",
      "[CV 1/2; 29/50] START max_depth=10, max_features=82, min_samples_leaf=7.........\n",
      "[CV 1/2; 29/50] END max_depth=10, max_features=82, min_samples_leaf=7;, score=(train=0.335, test=-0.079) total time=   0.1s\n",
      "[CV 2/2; 29/50] START max_depth=10, max_features=82, min_samples_leaf=7.........\n",
      "[CV 2/2; 29/50] END max_depth=10, max_features=82, min_samples_leaf=7;, score=(train=0.527, test=-0.606) total time=   0.1s\n",
      "[CV 1/2; 30/50] START max_depth=4, max_features=24, min_samples_leaf=2..........\n",
      "[CV 1/2; 30/50] END max_depth=4, max_features=24, min_samples_leaf=2;, score=(train=0.102, test=0.009) total time=   0.1s\n",
      "[CV 2/2; 30/50] START max_depth=4, max_features=24, min_samples_leaf=2..........\n",
      "[CV 2/2; 30/50] END max_depth=4, max_features=24, min_samples_leaf=2;, score=(train=0.208, test=-0.015) total time=   0.1s\n",
      "[CV 1/2; 31/50] START max_depth=None, max_features=124, min_samples_leaf=5......\n",
      "[CV 1/2; 31/50] END max_depth=None, max_features=124, min_samples_leaf=5;, score=(train=0.498, test=-0.116) total time=   0.2s\n",
      "[CV 2/2; 31/50] START max_depth=None, max_features=124, min_samples_leaf=5......\n",
      "[CV 2/2; 31/50] END max_depth=None, max_features=124, min_samples_leaf=5;, score=(train=0.623, test=-0.754) total time=   0.2s\n",
      "[CV 1/2; 32/50] START max_depth=None, max_features=15, min_samples_leaf=5.......\n",
      "[CV 1/2; 32/50] END max_depth=None, max_features=15, min_samples_leaf=5;, score=(train=0.454, test=-0.181) total time=   0.1s\n",
      "[CV 2/2; 32/50] START max_depth=None, max_features=15, min_samples_leaf=5.......\n",
      "[CV 2/2; 32/50] END max_depth=None, max_features=15, min_samples_leaf=5;, score=(train=0.552, test=-0.872) total time=   0.1s\n",
      "[CV 1/2; 33/50] START max_depth=None, max_features=89, min_samples_leaf=7.......\n",
      "[CV 1/2; 33/50] END max_depth=None, max_features=89, min_samples_leaf=7;, score=(train=0.405, test=-0.150) total time=   0.1s\n",
      "[CV 2/2; 33/50] START max_depth=None, max_features=89, min_samples_leaf=7.......\n",
      "[CV 2/2; 33/50] END max_depth=None, max_features=89, min_samples_leaf=7;, score=(train=0.566, test=-0.664) total time=   0.1s\n",
      "[CV 1/2; 34/50] START max_depth=None, max_features=88, min_samples_leaf=1.......\n",
      "[CV 1/2; 34/50] END max_depth=None, max_features=88, min_samples_leaf=1;, score=(train=1.000, test=-0.766) total time=   0.2s\n",
      "[CV 2/2; 34/50] START max_depth=None, max_features=88, min_samples_leaf=1.......\n",
      "[CV 2/2; 34/50] END max_depth=None, max_features=88, min_samples_leaf=1;, score=(train=1.000, test=-1.451) total time=   0.2s\n",
      "[CV 1/2; 35/50] START max_depth=3, max_features=63, min_samples_leaf=3..........\n",
      "[CV 1/2; 35/50] END max_depth=3, max_features=63, min_samples_leaf=3;, score=(train=0.082, test=0.112) total time=   0.1s\n",
      "[CV 2/2; 35/50] START max_depth=3, max_features=63, min_samples_leaf=3..........\n",
      "[CV 2/2; 35/50] END max_depth=3, max_features=63, min_samples_leaf=3;, score=(train=0.206, test=-0.048) total time=   0.1s\n",
      "[CV 1/2; 36/50] START max_depth=2, max_features=81, min_samples_leaf=8..........\n",
      "[CV 1/2; 36/50] END max_depth=2, max_features=81, min_samples_leaf=8;, score=(train=0.050, test=0.076) total time=   0.1s\n",
      "[CV 2/2; 36/50] START max_depth=2, max_features=81, min_samples_leaf=8..........\n",
      "[CV 2/2; 36/50] END max_depth=2, max_features=81, min_samples_leaf=8;, score=(train=0.166, test=-0.021) total time=   0.1s\n",
      "[CV 1/2; 37/50] START max_depth=2, max_features=33, min_samples_leaf=3..........\n",
      "[CV 1/2; 37/50] END max_depth=2, max_features=33, min_samples_leaf=3;, score=(train=0.029, test=0.017) total time=   0.1s\n",
      "[CV 2/2; 37/50] START max_depth=2, max_features=33, min_samples_leaf=3..........\n",
      "[CV 2/2; 37/50] END max_depth=2, max_features=33, min_samples_leaf=3;, score=(train=0.171, test=-0.053) total time=   0.1s\n",
      "[CV 1/2; 38/50] START max_depth=4, max_features=41, min_samples_leaf=4..........\n",
      "[CV 1/2; 38/50] END max_depth=4, max_features=41, min_samples_leaf=4;, score=(train=0.087, test=-0.040) total time=   0.1s\n",
      "[CV 2/2; 38/50] START max_depth=4, max_features=41, min_samples_leaf=4..........\n",
      "[CV 2/2; 38/50] END max_depth=4, max_features=41, min_samples_leaf=4;, score=(train=0.228, test=-0.070) total time=   0.1s\n",
      "[CV 1/2; 39/50] START max_depth=7, max_features=72, min_samples_leaf=4..........\n",
      "[CV 1/2; 39/50] END max_depth=7, max_features=72, min_samples_leaf=4;, score=(train=0.281, test=-0.078) total time=   0.1s\n",
      "[CV 2/2; 39/50] START max_depth=7, max_features=72, min_samples_leaf=4..........\n",
      "[CV 2/2; 39/50] END max_depth=7, max_features=72, min_samples_leaf=4;, score=(train=0.377, test=-0.279) total time=   0.1s\n",
      "[CV 1/2; 40/50] START max_depth=1, max_features=33, min_samples_leaf=8..........\n",
      "[CV 1/2; 40/50] END max_depth=1, max_features=33, min_samples_leaf=8;, score=(train=0.019, test=0.060) total time=   0.1s\n",
      "[CV 2/2; 40/50] START max_depth=1, max_features=33, min_samples_leaf=8..........\n",
      "[CV 2/2; 40/50] END max_depth=1, max_features=33, min_samples_leaf=8;, score=(train=0.043, test=-0.034) total time=   0.1s\n",
      "[CV 1/2; 41/50] START max_depth=7, max_features=62, min_samples_leaf=8..........\n",
      "[CV 1/2; 41/50] END max_depth=7, max_features=62, min_samples_leaf=8;, score=(train=0.268, test=-0.033) total time=   0.1s\n",
      "[CV 2/2; 41/50] START max_depth=7, max_features=62, min_samples_leaf=8..........\n",
      "[CV 2/2; 41/50] END max_depth=7, max_features=62, min_samples_leaf=8;, score=(train=0.338, test=-0.224) total time=   0.1s\n",
      "[CV 1/2; 42/50] START max_depth=4, max_features=99, min_samples_leaf=4..........\n",
      "[CV 1/2; 42/50] END max_depth=4, max_features=99, min_samples_leaf=4;, score=(train=0.131, test=0.054) total time=   0.1s\n",
      "[CV 2/2; 42/50] START max_depth=4, max_features=99, min_samples_leaf=4..........\n",
      "[CV 2/2; 42/50] END max_depth=4, max_features=99, min_samples_leaf=4;, score=(train=0.229, test=-0.096) total time=   0.1s\n",
      "[CV 1/2; 43/50] START max_depth=10, max_features=35, min_samples_leaf=1.........\n",
      "[CV 1/2; 43/50] END max_depth=10, max_features=35, min_samples_leaf=1;, score=(train=0.494, test=-0.397) total time=   0.1s\n",
      "[CV 2/2; 43/50] START max_depth=10, max_features=35, min_samples_leaf=1.........\n",
      "[CV 2/2; 43/50] END max_depth=10, max_features=35, min_samples_leaf=1;, score=(train=0.557, test=-0.613) total time=   0.1s\n",
      "[CV 1/2; 44/50] START max_depth=2, max_features=101, min_samples_leaf=7.........\n",
      "[CV 1/2; 44/50] END max_depth=2, max_features=101, min_samples_leaf=7;, score=(train=0.059, test=0.097) total time=   0.1s\n",
      "[CV 2/2; 44/50] START max_depth=2, max_features=101, min_samples_leaf=7.........\n",
      "[CV 2/2; 44/50] END max_depth=2, max_features=101, min_samples_leaf=7;, score=(train=0.126, test=-0.039) total time=   0.1s\n",
      "[CV 1/2; 45/50] START max_depth=5, max_features=1, min_samples_leaf=5...........\n",
      "[CV 1/2; 45/50] END max_depth=5, max_features=1, min_samples_leaf=5;, score=(train=0.034, test=-0.008) total time=   0.1s\n",
      "[CV 2/2; 45/50] START max_depth=5, max_features=1, min_samples_leaf=5...........\n",
      "[CV 2/2; 45/50] END max_depth=5, max_features=1, min_samples_leaf=5;, score=(train=0.055, test=-0.040) total time=   0.1s\n",
      "[CV 1/2; 46/50] START max_depth=1, max_features=103, min_samples_leaf=3.........\n",
      "[CV 1/2; 46/50] END max_depth=1, max_features=103, min_samples_leaf=3;, score=(train=0.029, test=-0.022) total time=   0.1s\n",
      "[CV 2/2; 46/50] START max_depth=1, max_features=103, min_samples_leaf=3.........\n",
      "[CV 2/2; 46/50] END max_depth=1, max_features=103, min_samples_leaf=3;, score=(train=0.128, test=-0.064) total time=   0.1s\n",
      "[CV 1/2; 47/50] START max_depth=None, max_features=15, min_samples_leaf=2.......\n",
      "[CV 1/2; 47/50] END max_depth=None, max_features=15, min_samples_leaf=2;, score=(train=0.774, test=-0.412) total time=   0.1s\n",
      "[CV 2/2; 47/50] START max_depth=None, max_features=15, min_samples_leaf=2.......\n",
      "[CV 2/2; 47/50] END max_depth=None, max_features=15, min_samples_leaf=2;, score=(train=0.819, test=-1.191) total time=   0.1s\n",
      "[CV 1/2; 48/50] START max_depth=1, max_features=124, min_samples_leaf=5.........\n",
      "[CV 1/2; 48/50] END max_depth=1, max_features=124, min_samples_leaf=5;, score=(train=0.029, test=-0.022) total time=   0.1s\n",
      "[CV 2/2; 48/50] START max_depth=1, max_features=124, min_samples_leaf=5.........\n",
      "[CV 2/2; 48/50] END max_depth=1, max_features=124, min_samples_leaf=5;, score=(train=0.128, test=-0.064) total time=   0.1s\n",
      "[CV 1/2; 49/50] START max_depth=2, max_features=63, min_samples_leaf=8..........\n",
      "[CV 1/2; 49/50] END max_depth=2, max_features=63, min_samples_leaf=8;, score=(train=0.057, test=0.097) total time=   0.1s\n",
      "[CV 2/2; 49/50] START max_depth=2, max_features=63, min_samples_leaf=8..........\n",
      "[CV 2/2; 49/50] END max_depth=2, max_features=63, min_samples_leaf=8;, score=(train=0.155, test=-0.022) total time=   0.1s\n",
      "[CV 1/2; 50/50] START max_depth=7, max_features=52, min_samples_leaf=5..........\n",
      "[CV 1/2; 50/50] END max_depth=7, max_features=52, min_samples_leaf=5;, score=(train=0.239, test=-0.001) total time=   0.1s\n",
      "[CV 2/2; 50/50] START max_depth=7, max_features=52, min_samples_leaf=5..........\n",
      "[CV 2/2; 50/50] END max_depth=7, max_features=52, min_samples_leaf=5;, score=(train=0.368, test=-0.234) total time=   0.1s\n",
      "CPU times: user 11.3 s, sys: 222 ms, total: 11.6 s\n",
      "Wall time: 11.5 s\n"
     ]
    },
    {
     "data": {
      "text/plain": [
       "RandomizedSearchCV(cv=2, estimator=DecisionTreeRegressor(), n_iter=50,\n",
       "                   param_distributions={'max_depth': [None, 1, 2, 3, 4, 5, 7,\n",
       "                                                      10],\n",
       "                                        'max_features': <scipy.stats._distn_infrastructure.rv_frozen object at 0x7fe692a40890>,\n",
       "                                        'min_samples_leaf': <scipy.stats._distn_infrastructure.rv_frozen object at 0x7fe692a40910>},\n",
       "                   random_state=42, return_train_score=True, verbose=10)"
      ]
     },
     "execution_count": 29,
     "metadata": {},
     "output_type": "execute_result"
    }
   ],
   "source": [
    "%%time \n",
    "dt_reg_grid.fit(reg_features, reg_target)"
   ]
  },
  {
   "cell_type": "code",
   "execution_count": 30,
   "id": "4a4e9426",
   "metadata": {},
   "outputs": [
    {
     "data": {
      "text/plain": [
       "{'max_depth': 2, 'max_features': 63, 'min_samples_leaf': 8}"
      ]
     },
     "execution_count": 30,
     "metadata": {},
     "output_type": "execute_result"
    }
   ],
   "source": [
    "dt_reg_grid.best_params_"
   ]
  },
  {
   "cell_type": "code",
   "execution_count": null,
   "id": "afc6de82",
   "metadata": {},
   "outputs": [],
   "source": [
    "dt_reg_grid.best_score_"
   ]
  },
  {
   "cell_type": "code",
   "execution_count": 31,
   "id": "09cad87c",
   "metadata": {},
   "outputs": [],
   "source": [
    "dtParams_reg = {\n",
    "\"max_depth\" : 2,\n",
    "\"max_features\": 63,  \n",
    "\"min_samples_leaf\" : 8 \n",
    " }\n",
    "\n",
    "dt_regr= DecisionTreeRegressor(**dtParams_reg) "
   ]
  },
  {
   "cell_type": "code",
   "execution_count": 32,
   "id": "d5663b7f",
   "metadata": {},
   "outputs": [
    {
     "data": {
      "text/plain": [
       "DecisionTreeRegressor(max_depth=2, max_features=63, min_samples_leaf=8)"
      ]
     },
     "execution_count": 32,
     "metadata": {},
     "output_type": "execute_result"
    }
   ],
   "source": [
    "dt_regr.fit(reg_features, reg_target)"
   ]
  },
  {
   "cell_type": "code",
   "execution_count": 33,
   "id": "4ef8120c",
   "metadata": {},
   "outputs": [],
   "source": [
    "reg_pred = dt_regr.predict(test.drop(target_cols,axis=1))\n",
    "final_pred= dtc_pred[:,1]*reg_pred"
   ]
  },
  {
   "cell_type": "code",
   "execution_count": 34,
   "id": "e61dc834",
   "metadata": {},
   "outputs": [],
   "source": [
    "#Submit file for kaggle\n",
    "pred = sub_file(test,final_pred)\n",
    "pred.to_csv('pred_dt.csv',index=False)"
   ]
  },
  {
   "cell_type": "code",
   "execution_count": 35,
   "id": "9dbb0cf4",
   "metadata": {},
   "outputs": [
    {
     "name": "stdout",
     "output_type": "stream",
     "text": [
      "rms = 2.12490059592348\n",
      "map = 0.2560918274186593\n"
     ]
    }
   ],
   "source": [
    "regr_metric(test_df,pred)"
   ]
  },
  {
   "cell_type": "code",
   "execution_count": 36,
   "id": "351f6b2d",
   "metadata": {},
   "outputs": [
    {
     "data": {
      "text/plain": [
       "<sklearn.metrics._plot.confusion_matrix.ConfusionMatrixDisplay at 0x7fe925322a10>"
      ]
     },
     "execution_count": 36,
     "metadata": {},
     "output_type": "execute_result"
    },
    {
     "data": {
      "image/png": "[encoded data removed]",
      "text/plain": [
       "<Figure size 432x288 with 2 Axes>"
      ]
     },
     "metadata": {
      "needs_background": "light"
     },
     "output_type": "display_data"
    }
   ],
   "source": [
    "#https://scikit-learn.org/stable/modules/generated/\n",
    "#sklearn.metrics.ConfusionMatrixDisplay.html#sklearn.metrics.ConfusionMatrixDisplay.from_predictions\n",
    "#\n",
    "#Classifier confusion matrix\n",
    "y_pred_dt = dt_clf.predict(test_features)\n",
    "ConfusionMatrixDisplay.from_predictions(test_labels, y_pred_dt)"
   ]
  },
  {
   "cell_type": "markdown",
   "id": "ff8b7143",
   "metadata": {},
   "source": [
    "##  6.6  Support Vector Regression"
   ]
  },
  {
   "cell_type": "code",
   "execution_count": 12,
   "id": "e0876716",
   "metadata": {},
   "outputs": [],
   "source": [
    "svr_reg = SVR() "
   ]
  },
  {
   "cell_type": "code",
   "execution_count": 13,
   "id": "0d74e964",
   "metadata": {},
   "outputs": [],
   "source": [
    "svr_regparm =  {\n",
    "'C': [1, 10, 100, 1000],\n",
    "'gamma': [0.001, 0.0001]\n",
    "}"
   ]
  },
  {
   "cell_type": "code",
   "execution_count": 14,
   "id": "d4af5dd1",
   "metadata": {},
   "outputs": [],
   "source": [
    "svr_reg_grid = RandomizedSearchCV(estimator=svr_reg, param_distributions=svr_regparm,\n",
    "                              n_iter =8, \n",
    "                              cv = 2, verbose=10, random_state=42,  \n",
    "                              return_train_score=True)"
   ]
  },
  {
   "cell_type": "code",
   "execution_count": 15,
   "id": "f9586845",
   "metadata": {},
   "outputs": [
    {
     "name": "stdout",
     "output_type": "stream",
     "text": [
      "Fitting 2 folds for each of 8 candidates, totalling 16 fits\n",
      "[CV 1/2; 1/8] START C=1, gamma=0.001............................................\n",
      "[CV 1/2; 1/8] END C=1, gamma=0.001;, score=(train=0.081, test=-0.059) total time=   4.0s\n",
      "[CV 2/2; 1/8] START C=1, gamma=0.001............................................\n",
      "[CV 2/2; 1/8] END C=1, gamma=0.001;, score=(train=0.057, test=-0.027) total time=   3.6s\n",
      "[CV 1/2; 2/8] START C=1, gamma=0.0001...........................................\n",
      "[CV 1/2; 2/8] END C=1, gamma=0.0001;, score=(train=0.079, test=-0.059) total time=   3.6s\n",
      "[CV 2/2; 2/8] START C=1, gamma=0.0001...........................................\n",
      "[CV 2/2; 2/8] END C=1, gamma=0.0001;, score=(train=0.056, test=-0.027) total time=   3.9s\n",
      "[CV 1/2; 3/8] START C=10, gamma=0.001...........................................\n",
      "[CV 1/2; 3/8] END C=10, gamma=0.001;, score=(train=0.813, test=-0.025) total time=   3.9s\n",
      "[CV 2/2; 3/8] START C=10, gamma=0.001...........................................\n",
      "[CV 2/2; 3/8] END C=10, gamma=0.001;, score=(train=0.810, test=-0.000) total time=   4.0s\n",
      "[CV 1/2; 4/8] START C=10, gamma=0.0001..........................................\n",
      "[CV 1/2; 4/8] END C=10, gamma=0.0001;, score=(train=0.800, test=-0.025) total time=   3.9s\n",
      "[CV 2/2; 4/8] START C=10, gamma=0.0001..........................................\n",
      "[CV 2/2; 4/8] END C=10, gamma=0.0001;, score=(train=0.804, test=-0.002) total time=   4.1s\n",
      "[CV 1/2; 5/8] START C=100, gamma=0.001..........................................\n",
      "[CV 1/2; 5/8] END C=100, gamma=0.001;, score=(train=0.999, test=-0.008) total time=   4.0s\n",
      "[CV 2/2; 5/8] START C=100, gamma=0.001..........................................\n",
      "[CV 2/2; 5/8] END C=100, gamma=0.001;, score=(train=0.998, test=-0.026) total time=   3.8s\n",
      "[CV 1/2; 6/8] START C=100, gamma=0.0001.........................................\n",
      "[CV 1/2; 6/8] END C=100, gamma=0.0001;, score=(train=0.996, test=-0.008) total time=   3.8s\n",
      "[CV 2/2; 6/8] START C=100, gamma=0.0001.........................................\n",
      "[CV 2/2; 6/8] END C=100, gamma=0.0001;, score=(train=0.996, test=-0.030) total time=   4.1s\n",
      "[CV 1/2; 7/8] START C=1000, gamma=0.001.........................................\n",
      "[CV 1/2; 7/8] END C=1000, gamma=0.001;, score=(train=0.999, test=-0.008) total time=   4.2s\n",
      "[CV 2/2; 7/8] START C=1000, gamma=0.001.........................................\n",
      "[CV 2/2; 7/8] END C=1000, gamma=0.001;, score=(train=0.999, test=-0.026) total time=   4.0s\n",
      "[CV 1/2; 8/8] START C=1000, gamma=0.0001........................................\n",
      "[CV 1/2; 8/8] END C=1000, gamma=0.0001;, score=(train=0.999, test=-0.008) total time=   4.1s\n",
      "[CV 2/2; 8/8] START C=1000, gamma=0.0001........................................\n",
      "[CV 2/2; 8/8] END C=1000, gamma=0.0001;, score=(train=0.998, test=-0.030) total time=   4.3s\n",
      "CPU times: user 1min 48s, sys: 190 ms, total: 1min 48s\n",
      "Wall time: 1min 48s\n"
     ]
    },
    {
     "data": {
      "text/plain": [
       "RandomizedSearchCV(cv=2, estimator=SVR(), n_iter=8,\n",
       "                   param_distributions={'C': [1, 10, 100, 1000],\n",
       "                                        'gamma': [0.001, 0.0001]},\n",
       "                   random_state=42, return_train_score=True, verbose=10)"
      ]
     },
     "execution_count": 15,
     "metadata": {},
     "output_type": "execute_result"
    }
   ],
   "source": [
    "%%time \n",
    "svr_reg_grid.fit(reg_features, reg_target)"
   ]
  },
  {
   "cell_type": "code",
   "execution_count": 16,
   "id": "3c91275c",
   "metadata": {},
   "outputs": [
    {
     "data": {
      "text/plain": [
       "{'gamma': 0.001, 'C': 10}"
      ]
     },
     "execution_count": 16,
     "metadata": {},
     "output_type": "execute_result"
    }
   ],
   "source": [
    "svr_reg_grid.best_params_"
   ]
  },
  {
   "cell_type": "code",
   "execution_count": 17,
   "id": "ca381a0f",
   "metadata": {},
   "outputs": [
    {
     "data": {
      "text/plain": [
       "-0.012501533004874"
      ]
     },
     "execution_count": 17,
     "metadata": {},
     "output_type": "execute_result"
    }
   ],
   "source": [
    "svr_reg_grid.best_score_"
   ]
  },
  {
   "cell_type": "code",
   "execution_count": 18,
   "id": "0231db92",
   "metadata": {},
   "outputs": [],
   "source": [
    "svrParams_reg = {\n",
    "\"gamma\" : 0.001,\n",
    "\"C\": 10 \n",
    " }\n",
    "\n",
    "svm_regr= SVR(**svrParams_reg)"
   ]
  },
  {
   "cell_type": "code",
   "execution_count": 19,
   "id": "afa0121f",
   "metadata": {},
   "outputs": [
    {
     "data": {
      "text/plain": [
       "SVR(C=10, gamma=0.001)"
      ]
     },
     "execution_count": 19,
     "metadata": {},
     "output_type": "execute_result"
    }
   ],
   "source": [
    "svm_regr.fit(reg_features, reg_target)"
   ]
  },
  {
   "cell_type": "code",
   "execution_count": 20,
   "id": "36b61c52",
   "metadata": {},
   "outputs": [],
   "source": [
    "reg_pred = svm_regr.predict(test.drop(target_cols,axis=1))"
   ]
  },
  {
   "cell_type": "code",
   "execution_count": 25,
   "id": "c46351a5",
   "metadata": {},
   "outputs": [],
   "source": [
    "final_pred= dtc_pred[:,1]*reg_pred"
   ]
  },
  {
   "cell_type": "code",
   "execution_count": 26,
   "id": "803db427",
   "metadata": {},
   "outputs": [],
   "source": [
    "#Submit file for kaggle\n",
    "pred_svr = sub_file(test,final_pred)\n",
    "pred_svr.to_csv('pred_svr.csv',index=False)"
   ]
  },
  {
   "cell_type": "code",
   "execution_count": 27,
   "id": "9f12283b",
   "metadata": {},
   "outputs": [
    {
     "name": "stdout",
     "output_type": "stream",
     "text": [
      "rms = 2.1116832690285428\n",
      "map = 0.2960259931515362\n"
     ]
    }
   ],
   "source": [
    "regr_metric(test_df,pred_svr)"
   ]
  },
  {
   "cell_type": "markdown",
   "id": "e2ebf6ac",
   "metadata": {},
   "source": [
    "##  6.6 Model Scores"
   ]
  },
  {
   "cell_type": "markdown",
   "id": "f6b35f2d",
   "metadata": {},
   "source": [
    "#### Logistic + Linear regression \n",
    "\n",
    "rms = 9.24998382706949   \n",
    "map = 8.891554903710544   \n",
    "kaggle= 9.44293       \n",
    "\n",
    "#### SGD Model(SGDClassifier,SGDRegressor)\n",
    "\n",
    "Rms =  3.876272438141856e+25  \n",
    "map = 9.739117418375224e+23  \n",
    "kaggle= 1114008574477370000000000    \n",
    "\n",
    "#### Random Forest Model(RandomForestRegressor,RandomForestClassifier)   \n",
    "rms = 2.1105717768256254   \n",
    "map = 0.25809990020729334      \n",
    "kaggle= 0.88726      \n",
    "\n",
    "#### DecisionTreeClassifier,DecisionTreeRegressor   \n",
    "rms = 2.12490059592348     \n",
    "map = 0.2560918274186593   \n",
    "kaggle= 0.88771     \n",
    "\n",
    "#### Support Vector Regression,DT-Classifier    \n",
    "rms = 2.1116832690285428  \n",
    "map = 0.2960259931515362   \n",
    "kaggle=  0.8896   \n",
    "\n",
    "#### LightGBM (LGBMClassifier,LGBMRegressor)\n",
    "rms = 2.1098107659277883  \n",
    "map = 0.2637122980213082     \n",
    "kaggle= 0.88457  (21st position)   \n",
    "kaggle(2nd-best)= 0.88437 (17th position)   \n",
    "kaggle(best)= 0.88397 (14th position)      \n",
    "\n",
    "The results shows  that linear models perform is not good.   \n",
    "LightGBM is the fastest  and best model."
   ]
  },
  {
   "cell_type": "code",
   "execution_count": null,
   "id": "a2dbe72c",
   "metadata": {},
   "outputs": [],
   "source": []
  }
 ],
 "metadata": {
  "kernelspec": {
   "display_name": "Python 3 (ipykernel)",
   "language": "python",
   "name": "python3"
  },
  "language_info": {
   "codemirror_mode": {
    "name": "ipython",
    "version": 3
   },
   "file_extension": ".py",
   "mimetype": "text/x-python",
   "name": "python",
   "nbconvert_exporter": "python",
   "pygments_lexer": "ipython3",
   "version": "3.9.7"
  }
 },
 "nbformat": 4,
 "nbformat_minor": 5
}
